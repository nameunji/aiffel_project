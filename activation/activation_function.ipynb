{
 "cells": [
  {
   "cell_type": "markdown",
   "metadata": {},
   "source": [
    "- 활성화 함수\n",
    "  - 활성화 함수\n",
    "  - 퍼셉트론\n",
    "    - 신경세포의 구조\n",
    "    - 퍼셉트론의 구조\n",
    "- 선형과 비선형\n",
    "  - 선형\n",
    "  - 비선형\n",
    "  - 비선형 함수를 쓰는 이유\n",
    "    - 그렇다면..(비선형 함수를 쓴다면?)\n",
    "- 활성화 함수의 종류\n",
    "  - 이진 계단 함수\n",
    "    - 이진 계단 함수의 한계\n",
    "  - 선형 활성화 함수\n",
    "    - 선형 활성화 함수의 한계\n",
    "  - 비선형 활성화 함수\n",
    "    - 시그모이드/로지스틱\n",
    "    - 하이퍼볼릭 탄젠트\n",
    "    - ReLU\n",
    "    - ReLU의 단점을 극복하기 위한 시도들"
   ]
  },
  {
   "cell_type": "code",
   "execution_count": 2,
   "metadata": {},
   "outputs": [],
   "source": [
    "import numpy as np\n",
    "import matplotlib.pyplot as plt\n",
    "from PIL import Image\n",
    "from itertools import product\n",
    "import tensorflow as tf\n",
    "\n",
    "tf.random.set_seed(7879)  # random seed를 설정하게 되면, 모델을 생성(파라미터 초기화)할때마다 다른 파라미터를 얻게되는 것"
   ]
  },
  {
   "cell_type": "code",
   "execution_count": null,
   "metadata": {},
   "outputs": [],
   "source": []
  }
 ],
 "metadata": {
  "kernelspec": {
   "display_name": "aiffel",
   "language": "python",
   "name": "aiffel"
  },
  "language_info": {
   "codemirror_mode": {
    "name": "ipython",
    "version": 3
   },
   "file_extension": ".py",
   "mimetype": "text/x-python",
   "name": "python",
   "nbconvert_exporter": "python",
   "pygments_lexer": "ipython3",
   "version": "3.7.9"
  }
 },
 "nbformat": 4,
 "nbformat_minor": 4
}
