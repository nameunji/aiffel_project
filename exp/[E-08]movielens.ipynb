{
 "cells": [
  {
   "cell_type": "markdown",
   "metadata": {},
   "source": [
    "# Movielens 영화 추천\n",
    "## 코드"
   ]
  },
  {
   "cell_type": "code",
   "execution_count": 1,
   "metadata": {},
   "outputs": [],
   "source": [
    "import os\n",
    "import numpy as np\n",
    "import pandas as pd\n",
    "from scipy.sparse import csr_matrix\n",
    "from implicit.als import AlternatingLeastSquares\n",
    "\n",
    "# implicit 라이브러리에서 권장하고 있는 부분입니다. 학습 내용과는 무관합니다.\n",
    "os.environ['OPENBLAS_NUM_THREADS']='1'\n",
    "os.environ['KMP_DUPLICATE_LIB_OK']='True'\n",
    "os.environ['MKL_NUM_THREADS']='1'"
   ]
  },
  {
   "cell_type": "markdown",
   "metadata": {},
   "source": [
    "### 1) 데이터 준비와 전처리"
   ]
  },
  {
   "cell_type": "code",
   "execution_count": 2,
   "metadata": {},
   "outputs": [
    {
     "data": {
      "text/html": [
       "<div>\n",
       "<style scoped>\n",
       "    .dataframe tbody tr th:only-of-type {\n",
       "        vertical-align: middle;\n",
       "    }\n",
       "\n",
       "    .dataframe tbody tr th {\n",
       "        vertical-align: top;\n",
       "    }\n",
       "\n",
       "    .dataframe thead th {\n",
       "        text-align: right;\n",
       "    }\n",
       "</style>\n",
       "<table border=\"1\" class=\"dataframe\">\n",
       "  <thead>\n",
       "    <tr style=\"text-align: right;\">\n",
       "      <th></th>\n",
       "      <th>user_id</th>\n",
       "      <th>movie_id</th>\n",
       "      <th>rating</th>\n",
       "      <th>timestamp</th>\n",
       "    </tr>\n",
       "  </thead>\n",
       "  <tbody>\n",
       "    <tr>\n",
       "      <th>0</th>\n",
       "      <td>1</td>\n",
       "      <td>1193</td>\n",
       "      <td>5</td>\n",
       "      <td>978300760</td>\n",
       "    </tr>\n",
       "    <tr>\n",
       "      <th>1</th>\n",
       "      <td>1</td>\n",
       "      <td>661</td>\n",
       "      <td>3</td>\n",
       "      <td>978302109</td>\n",
       "    </tr>\n",
       "    <tr>\n",
       "      <th>2</th>\n",
       "      <td>1</td>\n",
       "      <td>914</td>\n",
       "      <td>3</td>\n",
       "      <td>978301968</td>\n",
       "    </tr>\n",
       "    <tr>\n",
       "      <th>3</th>\n",
       "      <td>1</td>\n",
       "      <td>3408</td>\n",
       "      <td>4</td>\n",
       "      <td>978300275</td>\n",
       "    </tr>\n",
       "    <tr>\n",
       "      <th>4</th>\n",
       "      <td>1</td>\n",
       "      <td>2355</td>\n",
       "      <td>5</td>\n",
       "      <td>978824291</td>\n",
       "    </tr>\n",
       "  </tbody>\n",
       "</table>\n",
       "</div>"
      ],
      "text/plain": [
       "   user_id  movie_id  rating  timestamp\n",
       "0        1      1193       5  978300760\n",
       "1        1       661       3  978302109\n",
       "2        1       914       3  978301968\n",
       "3        1      3408       4  978300275\n",
       "4        1      2355       5  978824291"
      ]
     },
     "execution_count": 2,
     "metadata": {},
     "output_type": "execute_result"
    }
   ],
   "source": [
    "rating_file_path=os.getenv('HOME') + '/aiffel/data/recommend_data/data/ml-1m/ratings.dat'\n",
    "ratings_cols = ['user_id', 'movie_id', 'rating', 'timestamp']\n",
    "ratings = pd.read_csv(rating_file_path, sep='::', names=ratings_cols, engine='python')\n",
    "orginal_data_size = len(ratings)\n",
    "ratings.head()"
   ]
  },
  {
   "cell_type": "code",
   "execution_count": 3,
   "metadata": {
    "scrolled": true
   },
   "outputs": [
    {
     "name": "stdout",
     "output_type": "stream",
     "text": [
      "orginal_data_size: 1000209, filtered_data_size: 836478\n",
      "Ratio of Remaining Data is 83.63%\n"
     ]
    }
   ],
   "source": [
    "# 3점 이상만 남깁니다.\n",
    "ratings = ratings[ratings['rating']>=3]\n",
    "filtered_data_size = len(ratings)\n",
    "\n",
    "print(f'orginal_data_size: {orginal_data_size}, filtered_data_size: {filtered_data_size}')\n",
    "print(f'Ratio of Remaining Data is {filtered_data_size / orginal_data_size:.2%}')\n",
    "# 3점이상인 데이터가 전제데이터의 83.63%를 차지한다."
   ]
  },
  {
   "cell_type": "code",
   "execution_count": 4,
   "metadata": {
    "scrolled": true
   },
   "outputs": [
    {
     "data": {
      "text/html": [
       "<div>\n",
       "<style scoped>\n",
       "    .dataframe tbody tr th:only-of-type {\n",
       "        vertical-align: middle;\n",
       "    }\n",
       "\n",
       "    .dataframe tbody tr th {\n",
       "        vertical-align: top;\n",
       "    }\n",
       "\n",
       "    .dataframe thead th {\n",
       "        text-align: right;\n",
       "    }\n",
       "</style>\n",
       "<table border=\"1\" class=\"dataframe\">\n",
       "  <thead>\n",
       "    <tr style=\"text-align: right;\">\n",
       "      <th></th>\n",
       "      <th>user_id</th>\n",
       "      <th>movie_id</th>\n",
       "      <th>count</th>\n",
       "      <th>timestamp</th>\n",
       "    </tr>\n",
       "  </thead>\n",
       "  <tbody>\n",
       "    <tr>\n",
       "      <th>1000203</th>\n",
       "      <td>6040</td>\n",
       "      <td>1090</td>\n",
       "      <td>3</td>\n",
       "      <td>956715518</td>\n",
       "    </tr>\n",
       "    <tr>\n",
       "      <th>1000205</th>\n",
       "      <td>6040</td>\n",
       "      <td>1094</td>\n",
       "      <td>5</td>\n",
       "      <td>956704887</td>\n",
       "    </tr>\n",
       "    <tr>\n",
       "      <th>1000206</th>\n",
       "      <td>6040</td>\n",
       "      <td>562</td>\n",
       "      <td>5</td>\n",
       "      <td>956704746</td>\n",
       "    </tr>\n",
       "    <tr>\n",
       "      <th>1000207</th>\n",
       "      <td>6040</td>\n",
       "      <td>1096</td>\n",
       "      <td>4</td>\n",
       "      <td>956715648</td>\n",
       "    </tr>\n",
       "    <tr>\n",
       "      <th>1000208</th>\n",
       "      <td>6040</td>\n",
       "      <td>1097</td>\n",
       "      <td>4</td>\n",
       "      <td>956715569</td>\n",
       "    </tr>\n",
       "  </tbody>\n",
       "</table>\n",
       "</div>"
      ],
      "text/plain": [
       "         user_id  movie_id  count  timestamp\n",
       "1000203     6040      1090      3  956715518\n",
       "1000205     6040      1094      5  956704887\n",
       "1000206     6040       562      5  956704746\n",
       "1000207     6040      1096      4  956715648\n",
       "1000208     6040      1097      4  956715569"
      ]
     },
     "execution_count": 4,
     "metadata": {},
     "output_type": "execute_result"
    }
   ],
   "source": [
    "# rating 컬럼의 이름을 count로 바꿉니다. 별점 -> 시청횟수\n",
    "ratings.rename(columns={'rating':'count'}, inplace=True)\n",
    "ratings.tail()"
   ]
  },
  {
   "cell_type": "code",
   "execution_count": 5,
   "metadata": {},
   "outputs": [
    {
     "data": {
      "text/html": [
       "<div>\n",
       "<style scoped>\n",
       "    .dataframe tbody tr th:only-of-type {\n",
       "        vertical-align: middle;\n",
       "    }\n",
       "\n",
       "    .dataframe tbody tr th {\n",
       "        vertical-align: top;\n",
       "    }\n",
       "\n",
       "    .dataframe thead th {\n",
       "        text-align: right;\n",
       "    }\n",
       "</style>\n",
       "<table border=\"1\" class=\"dataframe\">\n",
       "  <thead>\n",
       "    <tr style=\"text-align: right;\">\n",
       "      <th></th>\n",
       "      <th>movie_id</th>\n",
       "      <th>title</th>\n",
       "      <th>genre</th>\n",
       "    </tr>\n",
       "  </thead>\n",
       "  <tbody>\n",
       "    <tr>\n",
       "      <th>0</th>\n",
       "      <td>1</td>\n",
       "      <td>Toy Story (1995)</td>\n",
       "      <td>Animation|Children's|Comedy</td>\n",
       "    </tr>\n",
       "    <tr>\n",
       "      <th>1</th>\n",
       "      <td>2</td>\n",
       "      <td>Jumanji (1995)</td>\n",
       "      <td>Adventure|Children's|Fantasy</td>\n",
       "    </tr>\n",
       "    <tr>\n",
       "      <th>2</th>\n",
       "      <td>3</td>\n",
       "      <td>Grumpier Old Men (1995)</td>\n",
       "      <td>Comedy|Romance</td>\n",
       "    </tr>\n",
       "    <tr>\n",
       "      <th>3</th>\n",
       "      <td>4</td>\n",
       "      <td>Waiting to Exhale (1995)</td>\n",
       "      <td>Comedy|Drama</td>\n",
       "    </tr>\n",
       "    <tr>\n",
       "      <th>4</th>\n",
       "      <td>5</td>\n",
       "      <td>Father of the Bride Part II (1995)</td>\n",
       "      <td>Comedy</td>\n",
       "    </tr>\n",
       "  </tbody>\n",
       "</table>\n",
       "</div>"
      ],
      "text/plain": [
       "   movie_id                               title                         genre\n",
       "0         1                    Toy Story (1995)   Animation|Children's|Comedy\n",
       "1         2                      Jumanji (1995)  Adventure|Children's|Fantasy\n",
       "2         3             Grumpier Old Men (1995)                Comedy|Romance\n",
       "3         4            Waiting to Exhale (1995)                  Comedy|Drama\n",
       "4         5  Father of the Bride Part II (1995)                        Comedy"
      ]
     },
     "execution_count": 5,
     "metadata": {},
     "output_type": "execute_result"
    }
   ],
   "source": [
    "# 영화 제목을 보기 위해 메타 데이터를 읽어옵니다.\n",
    "movie_file_path=os.getenv('HOME') + '/aiffel/data/recommend_data/data/ml-1m/movies.dat'\n",
    "cols = ['movie_id', 'title', 'genre'] \n",
    "movies = pd.read_csv(movie_file_path, sep='::', names=cols, engine='python')\n",
    "movies.head()"
   ]
  },
  {
   "cell_type": "code",
   "execution_count": null,
   "metadata": {},
   "outputs": [],
   "source": [
    "# indexing을 통해 데이터 컬럼 내 값을 바꾸는 코드\n",
    "# dictionary 자료형의 get 함수는 https://wikidocs.net/16 을 참고하세요.\n",
    "\n",
    "# user_to_idx.get을 통해 user_id 컬럼의 모든 값을 인덱싱한 Series를 구해 봅시다. \n",
    "# 혹시 정상적으로 인덱싱되지 않은 row가 있다면 인덱스가 NaN이 될 테니 dropna()로 제거합니다. \n",
    "temp_user_data = data['user_id'].map(user_to_idx.get).dropna()\n",
    "print(temp_user_data)\n",
    "\n",
    "if len(temp_user_data) == len(data):   # 모든 row가 정상적으로 인덱싱되었다면\n",
    "    print('user_id column indexing OK!!')\n",
    "    data['user_id'] = temp_user_data   # data['user_id']을 인덱싱된 Series로 교체해 줍니다. \n",
    "else:\n",
    "    print('user_id column indexing Fail!!')\n",
    "\n",
    "# artist_to_idx을 통해 artist 컬럼도 동일한 방식으로 인덱싱해 줍니다. \n",
    "temp_artist_data = data['artist'].map(artist_to_idx.get).dropna()\n",
    "if len(temp_artist_data) == len(data):\n",
    "    print('artist column indexing OK!!')\n",
    "    data['artist'] = temp_artist_data\n",
    "else:\n",
    "    print('artist column indexing Fail!!')"
   ]
  },
  {
   "cell_type": "markdown",
   "metadata": {},
   "source": [
    "### 2) 분석"
   ]
  },
  {
   "cell_type": "markdown",
   "metadata": {},
   "source": [
    "- **ratings에 있는 유니크한 영화 개수**"
   ]
  },
  {
   "cell_type": "code",
   "execution_count": 6,
   "metadata": {},
   "outputs": [
    {
     "data": {
      "text/plain": [
       "3628"
      ]
     },
     "execution_count": 6,
     "metadata": {},
     "output_type": "execute_result"
    }
   ],
   "source": [
    "ratings['movie_id'].nunique()"
   ]
  },
  {
   "cell_type": "markdown",
   "metadata": {},
   "source": [
    "- **rating에 있는 유니크한 사용자 수**"
   ]
  },
  {
   "cell_type": "code",
   "execution_count": 7,
   "metadata": {},
   "outputs": [
    {
     "data": {
      "text/plain": [
       "6039"
      ]
     },
     "execution_count": 7,
     "metadata": {},
     "output_type": "execute_result"
    }
   ],
   "source": [
    "ratings['user_id'].nunique()"
   ]
  },
  {
   "cell_type": "markdown",
   "metadata": {},
   "source": [
    "- **가장 인기 있는 영화 30개(인기순)**"
   ]
  },
  {
   "cell_type": "code",
   "execution_count": 8,
   "metadata": {
    "scrolled": true
   },
   "outputs": [
    {
     "name": "stdout",
     "output_type": "stream",
     "text": [
      "3628\n"
     ]
    },
    {
     "data": {
      "text/plain": [
       "movie_id\n",
       "2858    3211\n",
       "260     2910\n",
       "1196    2885\n",
       "1210    2716\n",
       "2028    2561\n",
       "589     2509\n",
       "593     2498\n",
       "1198    2473\n",
       "1270    2460\n",
       "2571    2434\n",
       "480     2413\n",
       "2762    2385\n",
       "608     2371\n",
       "110     2314\n",
       "1580    2297\n",
       "527     2257\n",
       "1197    2252\n",
       "2396    2213\n",
       "1617    2210\n",
       "318     2194\n",
       "858     2167\n",
       "1265    2121\n",
       "1097    2102\n",
       "2997    2066\n",
       "2716    2051\n",
       "296     2030\n",
       "356     2022\n",
       "1240    2019\n",
       "1       2000\n",
       "457     1941\n",
       "Name: count, dtype: int64"
      ]
     },
     "execution_count": 8,
     "metadata": {},
     "output_type": "execute_result"
    }
   ],
   "source": [
    "# ratings의 movie_id로 그룹화하여, rating을 합산한 후 상위 30개를 뽑아온다.\n",
    "rating_count = ratings.groupby('movie_id')['count'].count()\n",
    "print(len(rating_count))  # groupby 개수 == 유니크한 영화 개수\n",
    "rating_count.sort_values(ascending=False).head(30)"
   ]
  },
  {
   "cell_type": "markdown",
   "metadata": {},
   "source": [
    "### 3) 내가 선호하는 영화를 5가지 골라서 rating에 추가"
   ]
  },
  {
   "cell_type": "code",
   "execution_count": 9,
   "metadata": {
    "scrolled": true
   },
   "outputs": [
    {
     "name": "stdout",
     "output_type": "stream",
     "text": [
      "[True, True, True, True, True]\n",
      "[1246, 1704, 1, 2671, 356]\n"
     ]
    },
    {
     "data": {
      "text/html": [
       "<div>\n",
       "<style scoped>\n",
       "    .dataframe tbody tr th:only-of-type {\n",
       "        vertical-align: middle;\n",
       "    }\n",
       "\n",
       "    .dataframe tbody tr th {\n",
       "        vertical-align: top;\n",
       "    }\n",
       "\n",
       "    .dataframe thead th {\n",
       "        text-align: right;\n",
       "    }\n",
       "</style>\n",
       "<table border=\"1\" class=\"dataframe\">\n",
       "  <thead>\n",
       "    <tr style=\"text-align: right;\">\n",
       "      <th></th>\n",
       "      <th>user_id</th>\n",
       "      <th>movie_id</th>\n",
       "      <th>count</th>\n",
       "      <th>timestamp</th>\n",
       "    </tr>\n",
       "  </thead>\n",
       "  <tbody>\n",
       "    <tr>\n",
       "      <th>1000203</th>\n",
       "      <td>6040</td>\n",
       "      <td>1090</td>\n",
       "      <td>3.0</td>\n",
       "      <td>956715518</td>\n",
       "    </tr>\n",
       "    <tr>\n",
       "      <th>1000205</th>\n",
       "      <td>6040</td>\n",
       "      <td>1094</td>\n",
       "      <td>5.0</td>\n",
       "      <td>956704887</td>\n",
       "    </tr>\n",
       "    <tr>\n",
       "      <th>1000206</th>\n",
       "      <td>6040</td>\n",
       "      <td>562</td>\n",
       "      <td>5.0</td>\n",
       "      <td>956704746</td>\n",
       "    </tr>\n",
       "    <tr>\n",
       "      <th>1000207</th>\n",
       "      <td>6040</td>\n",
       "      <td>1096</td>\n",
       "      <td>4.0</td>\n",
       "      <td>956715648</td>\n",
       "    </tr>\n",
       "    <tr>\n",
       "      <th>1000208</th>\n",
       "      <td>6040</td>\n",
       "      <td>1097</td>\n",
       "      <td>4.0</td>\n",
       "      <td>956715569</td>\n",
       "    </tr>\n",
       "    <tr>\n",
       "      <th>0</th>\n",
       "      <td>6041</td>\n",
       "      <td>1246</td>\n",
       "      <td>5.0</td>\n",
       "      <td>956715648</td>\n",
       "    </tr>\n",
       "    <tr>\n",
       "      <th>1</th>\n",
       "      <td>6041</td>\n",
       "      <td>1704</td>\n",
       "      <td>5.0</td>\n",
       "      <td>956715648</td>\n",
       "    </tr>\n",
       "    <tr>\n",
       "      <th>2</th>\n",
       "      <td>6041</td>\n",
       "      <td>1</td>\n",
       "      <td>5.0</td>\n",
       "      <td>956715648</td>\n",
       "    </tr>\n",
       "    <tr>\n",
       "      <th>3</th>\n",
       "      <td>6041</td>\n",
       "      <td>2671</td>\n",
       "      <td>5.0</td>\n",
       "      <td>956715648</td>\n",
       "    </tr>\n",
       "    <tr>\n",
       "      <th>4</th>\n",
       "      <td>6041</td>\n",
       "      <td>356</td>\n",
       "      <td>5.0</td>\n",
       "      <td>956715648</td>\n",
       "    </tr>\n",
       "  </tbody>\n",
       "</table>\n",
       "</div>"
      ],
      "text/plain": [
       "         user_id  movie_id  count  timestamp\n",
       "1000203     6040      1090    3.0  956715518\n",
       "1000205     6040      1094    5.0  956704887\n",
       "1000206     6040       562    5.0  956704746\n",
       "1000207     6040      1096    4.0  956715648\n",
       "1000208     6040      1097    4.0  956715569\n",
       "0           6041      1246    5.0  956715648\n",
       "1           6041      1704    5.0  956715648\n",
       "2           6041         1    5.0  956715648\n",
       "3           6041      2671    5.0  956715648\n",
       "4           6041       356    5.0  956715648"
      ]
     },
     "execution_count": 9,
     "metadata": {},
     "output_type": "execute_result"
    }
   ],
   "source": [
    "# ratings : user_id, movie_id, count, timestamp\n",
    "# movies : movie_id, title, genre\n",
    "\n",
    "# 내가 선호하는 영화가 movies에 있는지 체크\n",
    "def check_movie(my_movies, movies=movies):\n",
    "    return [True if (movies['title']==x).any() else False for x in my_movies]\n",
    "\n",
    "my_movies_title = ['Dead Poets Society (1989)', 'Good Will Hunting (1997)', 'Toy Story (1995)', 'Notting Hill (1999)', 'Forrest Gump (1994)']\n",
    "print(check_movie(my_movies_title, movies))\n",
    "\n",
    "# 영화리스트를 index로 변환해주는 함수\n",
    "def title2index(my_movies, movies):\n",
    "    return [movies[movies['title'] == movie]['movie_id'].values[0] for movie in my_movies]\n",
    "\n",
    "my_movies_index = title2index(my_movies_title, movies)\n",
    "print(my_movies_index)\n",
    "\n",
    "# 사용자 인덱스 생성\n",
    "my_id = ratings['user_id'].max() + 1\n",
    "\n",
    "# pandas dataframe으로 바꿔줌\n",
    "my_movie_list = pd.DataFrame({'user_id': [my_id]*5, 'movie_id': my_movies_index, 'count': [5.0]*5, 'timestamp': [956715648]*5})\n",
    "\n",
    "# ratings에 추가\n",
    "if not ratings.isin({'user_id':[my_id]})['user_id'].any():\n",
    "    ratings = ratings.append(my_movie_list)\n",
    "\n",
    "ratings.tail(10)"
   ]
  },
  {
   "cell_type": "markdown",
   "metadata": {},
   "source": [
    "### 4) CSR matrix 생성\n",
    "`csr_matrix((data, (row_ind, col_ind)), [shape=(M, N)])`  \n",
    "참고 : https://docs.scipy.org/doc/scipy/reference/generated/scipy.sparse.csr_matrix.html"
   ]
  },
  {
   "cell_type": "code",
   "execution_count": 27,
   "metadata": {},
   "outputs": [
    {
     "name": "stdout",
     "output_type": "stream",
     "text": [
      "<class 'int'> 6040\n",
      "<class 'int'> 3628\n",
      "[5. 3. 4.]\n"
     ]
    },
    {
     "data": {
      "text/plain": [
       "<6042x3953 sparse matrix of type '<class 'numpy.float64'>'\n",
       "\twith 836483 stored elements in Compressed Sparse Row format>"
      ]
     },
     "execution_count": 27,
     "metadata": {},
     "output_type": "execute_result"
    }
   ],
   "source": [
    "check_none = ratings.isnull().sum()  # null check -> 없음\n",
    "\n",
    "n_user = ratings['user_id'].nunique()    # 6040\n",
    "n_movie = ratings['movie_id'].nunique()  # 3628\n",
    "print(type(n_user), n_user)\n",
    "print(type(n_movie), n_movie)\n",
    "# count내 어떤 종류의 별점이 있는지 확인\n",
    "print(ratings['count'].unique())  # [5. 3. 4.]\n",
    "\n",
    "# user_id가 같고, movie_id도 같은 데이터가 있는지 확인\n",
    "\n",
    "csr_data = csr_matrix((ratings['count'], (ratings.user_id, ratings.movie_id)))\n",
    "# csr_data = csr_matrix((ratings.count, (ratings.user_id, ratings.movie_id)), shape=(n_user, n_movie))\n",
    "csr_data"
   ]
  },
  {
   "cell_type": "markdown",
   "metadata": {},
   "source": [
    "### 5) als_model = AlternatingLeastSquares 모델을 직접 구성하여 훈련\n",
    "1. factors : 유저와 아이템의 벡터를 몇 차원으로 할 것인지\n",
    "2. regularization : 과적합을 방지하기 위해 정규화 값을 얼마나 사용할 것인지\n",
    "3. use_gpu : GPU를 사용할 것인지\n",
    "4. iterations : epochs와 같은 의미입니다. 데이터를 몇 번 반복해서 학습할 것인지\n",
    "\n",
    "1,4를 늘릴수록 학습데이터를 잘 학습하게 되지만 과적합의 우려가 있으니 좋은 값을 찾아야 합니다."
   ]
  },
  {
   "cell_type": "code",
   "execution_count": 11,
   "metadata": {},
   "outputs": [
    {
     "data": {
      "application/vnd.jupyter.widget-view+json": {
       "model_id": "29ef552f51b145bb990b280798bd9973",
       "version_major": 2,
       "version_minor": 0
      },
      "text/plain": [
       "  0%|          | 0/20 [00:00<?, ?it/s]"
      ]
     },
     "metadata": {},
     "output_type": "display_data"
    }
   ],
   "source": [
    "als_model = AlternatingLeastSquares(factors=300, regularization=0.01, use_gpu=False, iterations=20, dtype=np.float32)\n",
    "\n",
    "# als 모델은 input으로 (item X user 꼴의 matrix를 받기 때문에 Transpose해줍니다.)\n",
    "#  ALS의 fit 함수는 (item, user)의 차원으로 데이터셋을 입력받으므로 현재 (plylist, songs or tags), \n",
    "# 즉 (user, item)으로 되어 있는 데이터셋을 전치주어야 합니다.\n",
    "csr_data_transpose = csr_data.T\n",
    "\n",
    "# 모델 훈련\n",
    "als_model.fit(csr_data_transpose)"
   ]
  },
  {
   "cell_type": "markdown",
   "metadata": {},
   "source": [
    "### 6) 내가 선호하는 5가지 영화 중 하나와 그 외의 영화 하나를 골라 훈련된 모델이 예측한 나의 선호도를 파악"
   ]
  },
  {
   "cell_type": "code",
   "execution_count": 15,
   "metadata": {
    "scrolled": true
   },
   "outputs": [
    {
     "name": "stdout",
     "output_type": "stream",
     "text": [
      "내가 선호하는 영화 Forrest Gump (1994)와의 선호도 : 0.9293659925460815\n",
      "그 외의 영화 Father of the Bride Part II (1995)와의 선호도 : 0.03265054151415825\n"
     ]
    }
   ],
   "source": [
    "# movie_id로 영화 title가져오기\n",
    "def get_movie_name(idx):\n",
    "    if idx in movies.movie_id:\n",
    "        return movies[movies['movie_id'] == idx]['title'].values[0]\n",
    "    else:\n",
    "        print('해당 인덱스의 영화가 존재하지 않습니다.')    \n",
    "\n",
    "# 내 벡터와 영화 포레스트검프의 벡터가져오기\n",
    "forrest_gump_id = my_movies_index[4]\n",
    "my_vector, forrest_gump_vector = als_model.user_factors[my_id], als_model.item_factors[my_movies_index[4]]\n",
    "# my_vector와 forrest_gump_vector를 내적하는 코드\n",
    "a = np.dot(my_vector, forrest_gump_vector)\n",
    "\n",
    "# my_vector와 father_of_the_bride_vector를 내적하는 코드\n",
    "father_of_the_bride_id = 5\n",
    "father_of_the_bride_vector = als_model.item_factors[father_of_the_bride_id]\n",
    "b = np.dot(my_vector, father_of_the_bride_vector)\n",
    "\n",
    "print(f'내가 선호하는 영화 {get_movie_name(forrest_gump_id)}와의 선호도 : {a}')\n",
    "print(f'그 외의 영화 {get_movie_name(father_of_the_bride_id)}와의 선호도 : {b}')"
   ]
  },
  {
   "cell_type": "markdown",
   "metadata": {},
   "source": [
    "### 7) 내가 좋아하는 영화와 비슷한 영화를 추천"
   ]
  },
  {
   "cell_type": "code",
   "execution_count": 16,
   "metadata": {},
   "outputs": [
    {
     "name": "stdout",
     "output_type": "stream",
     "text": [
      "['Dead Poets Society (1989)', 'Driving Miss Daisy (1989)', 'Field of Dreams (1989)', 'Karate Kid, The (1984)', 'Children of a Lesser God (1986)', 'Free Willy 3: The Rescue (1997)', 'Adventures of Elmo in Grouchland, The (1999)', 'Curse of the Puppet Master (1998)', 'Cry in the Dark, A (1988)', 'Designated Mourner, The (1997)']\n"
     ]
    }
   ],
   "source": [
    "def get_similar_movie(movie_title, movies, n=10):\n",
    "    exist_movie = check_movie([movie_title], movies)[0]\n",
    "\n",
    "    if exist_movie:\n",
    "        movie_id = title2index([movie_title], movies)[0]\n",
    "        similar_movie = als_model.similar_items(movie_id, N=n)\n",
    "        similar_movie = [get_movie_name(i[0]) for i in similar_movie]\n",
    "        return similar_movie\n",
    "    \n",
    "    print('해당 영화가 데이터에 없습니다.')\n",
    "    return None\n",
    "\n",
    "print(get_similar_movie(my_movies_title[0], movies))"
   ]
  },
  {
   "cell_type": "markdown",
   "metadata": {},
   "source": [
    "### 8) 내가 가장 좋아할 만한 영화들을 추천"
   ]
  },
  {
   "cell_type": "code",
   "execution_count": 21,
   "metadata": {},
   "outputs": [
    {
     "data": {
      "text/plain": [
       "['Toy Story 2 (1999)',\n",
       " 'Jerry Maguire (1996)',\n",
       " 'Rain Man (1988)',\n",
       " \"You've Got Mail (1998)\",\n",
       " 'Field of Dreams (1989)',\n",
       " 'Breakfast Club, The (1985)',\n",
       " \"My Best Friend's Wedding (1997)\",\n",
       " 'Sleepless in Seattle (1993)',\n",
       " \"Ferris Bueller's Day Off (1986)\",\n",
       " \"Bug's Life, A (1998)\",\n",
       " 'As Good As It Gets (1997)',\n",
       " 'Rocky (1976)',\n",
       " 'Aladdin (1992)',\n",
       " 'Dogma (1999)',\n",
       " 'Wedding Singer, The (1998)',\n",
       " 'Driving Miss Daisy (1989)',\n",
       " 'Pretty Woman (1990)',\n",
       " \"Schindler's List (1993)\",\n",
       " 'Lion King, The (1994)',\n",
       " 'L.A. Confidential (1997)']"
      ]
     },
     "execution_count": 21,
     "metadata": {},
     "output_type": "execute_result"
    }
   ],
   "source": [
    "movie_recommended = als_model.recommend(my_id, csr_data, N=20, filter_already_liked_items=True)\n",
    "[get_movie_name(i[0]) for i in movie_recommended]"
   ]
  },
  {
   "cell_type": "code",
   "execution_count": 22,
   "metadata": {},
   "outputs": [
    {
     "data": {
      "text/plain": [
       "[('Toy Story (1995)', 0.24281749151898763),\n",
       " ('Notting Hill (1999)', 0.020565780347741307),\n",
       " ('Forrest Gump (1994)', 0.0011543239838175418),\n",
       " ('Good Will Hunting (1997)', 0.0010189472020988646),\n",
       " ('Dead Poets Society (1989)', -0.008701127979816613)]"
      ]
     },
     "execution_count": 22,
     "metadata": {},
     "output_type": "execute_result"
    }
   ],
   "source": [
    "# 추천 기여도 확인\n",
    "recommend_movie_id = movie_recommended[0][0]\n",
    "explain = als_model.explain(my_id, csr_data, itemid=recommend_movie_id)\n",
    "[(get_movie_name(i[0]), i[1]) for i in explain[1]]"
   ]
  },
  {
   "cell_type": "markdown",
   "metadata": {},
   "source": [
    "<br><br><br><br>\n",
    "\n",
    "## 회고\n",
    "### 이번 프로젝트에서 **어려웠던 점**\n",
    "```py\n",
    "# 1번째 csr_matrix((data, (row_ind, col_ind)), [shape=(M, N)])\n",
    "csr_data = csr_matrix((ratings.count, (ratings.user_id, ratings.movie_id)), shape=(n_user, n_movie))\n",
    "# TypeError: len() of unsized object\n",
    "\n",
    "# 2번째\n",
    "csr_data = csr_matrix((ratings['count'], (ratings.user_id, ratings.movie_id)), shape=(n_user, n_movie))\n",
    "# ValueError: row index exceeds matrix dimensions\n",
    "\n",
    "# 3번째 - 최종\n",
    "csr_data = csr_matrix((ratings['count'], (ratings.user_id, ratings.movie_id)))\n",
    "```\n",
    "csr matrix를 생성할 때 위 코드처럼 2번의 에러가 났었다.  \n",
    "첫번째의 TypeError는 사실 아직도 잘 이해가 가지 않는다. 들어온 데이터가 len() 함수를 지원하지 않는다는 내용같은데, 노드를 진행할 때는 dot(.)으로 진행하였는데 잘 되었기 때문이다. 그래서 \\[\\]으로 변경해주니 타입에러는 없어졌다.   \n",
    "\n",
    "두번째 ValueError는 에러코드를 보니 self.row.max()가 전달해준 shape의 0번째 인덱스보다 크다는 내용이였다. 같은 에러에 대한 질문의 댓글을 보니 영화아이디가 연속적이지 않아 unique갯수보다 더 큰 인덱스가 발생하게 된다는 댓글이 있었다. 에러내용의 max()와 얼추 맞는 듯한 내용이었다. 두가지 방법이 있었는데, movie_id를 다시 설정해주는 방법과 코드상 shape를 제거해주는 방법이 있었는데 나는 후자를 택했다.  \n",
    "```py\n",
    "# 2번째 에러 내용 중\n",
    "if self.row.max() >= self.shape[0]:\n",
    "--> 283                 raise ValueError('row index exceeds matrix dimensions')\n",
    "    284             if self.col.max() >= self.shape[1]:\n",
    "    285                 raise ValueError('column index exceeds matrix dimensions')\n",
    "```\n",
    "\n",
    "\n",
    "### 결과분석\n",
    "6번 과정에서 내가 선택했던 포레스트검프 영화는 0.92로 꽤 높았고, 선택하지 않았던 'Father of the Bride Part II'영화는 0.03으로 꽤 낮게 나왔다. 내가 좋아하는 영화와 비슷한 영화나 추천해준 영화들을 보니 비슷한 장르들로 추천해주는 것을 보아 꽤 괜찮은 학습이 된 것 같다.\n",
    "\n",
    "\n",
    "### 자기 다짐\n",
    "위에서 났던 에러를 보니 데이터전처리가 생각보다 중요하다는 것을 깨달았다. 두가지 방법 중 시간때문에 후자를 택했지만, 전자에 대해 다시 한번 리팩토링 해봐야할 것 같다. "
   ]
  }
 ],
 "metadata": {
  "kernelspec": {
   "display_name": "aiffel",
   "language": "python",
   "name": "aiffel"
  },
  "language_info": {
   "codemirror_mode": {
    "name": "ipython",
    "version": 3
   },
   "file_extension": ".py",
   "mimetype": "text/x-python",
   "name": "python",
   "nbconvert_exporter": "python",
   "pygments_lexer": "ipython3",
   "version": "3.7.9"
  }
 },
 "nbformat": 4,
 "nbformat_minor": 4
}
