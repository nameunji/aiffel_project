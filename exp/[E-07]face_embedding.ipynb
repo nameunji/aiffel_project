{
 "cells": [
  {
   "cell_type": "markdown",
   "metadata": {},
   "source": [
    "# 나랑 닮은 연예인을 찾아보자\n",
    "## 코드"
   ]
  },
  {
   "cell_type": "code",
   "execution_count": 1,
   "metadata": {},
   "outputs": [],
   "source": [
    "import os\n",
    "import numpy as np\n",
    "\n",
    "from PIL import Image\n",
    "import face_recognition\n",
    "\n",
    "dir_path = os.getenv('HOME')+'/aiffel/data/e7_face_embedding/image'\n",
    "pillow_path = os.getenv('HOME')+'/aiffel/e7_face_embedding/static/'"
   ]
  },
  {
   "cell_type": "markdown",
   "metadata": {},
   "source": [
    "### Step1. 얼굴 영역 자르기"
   ]
  },
  {
   "cell_type": "code",
   "execution_count": 2,
   "metadata": {},
   "outputs": [],
   "source": [
    "# 얼굴 영역 구하는 함수\n",
    "def get_gropped_face(image_file):\n",
    "    image = face_recognition.load_image_file(image_file)\n",
    "    face_locations = face_recognition.face_locations(image)\n",
    "\n",
    "    a, b, c, d = face_locations[0]\n",
    "    cropped_face = image[a:c, d:b, :]  # 이미지에서 얼굴영역만 잘라냄\n",
    "\n",
    "    return cropped_face"
   ]
  },
  {
   "cell_type": "markdown",
   "metadata": {},
   "source": [
    "### Step2. 얼굴 영역의 임베딩 추출하기"
   ]
  },
  {
   "cell_type": "code",
   "execution_count": 3,
   "metadata": {},
   "outputs": [],
   "source": [
    "# 얼굴 영역을 가지고 얼굴 임베딩 벡터를 구하는 함수\n",
    "def get_face_embedding(face):\n",
    "    return face_recognition.face_encodings(face)\n",
    "\n",
    "# 디렉토리 안에 있는 모든 이미지의 임베딩 딕셔너리를 구하는 함수\n",
    "def get_face_embedding_dict(path):\n",
    "    file_list = os.listdir(path)\n",
    "    embedding_dict = {}\n",
    "\n",
    "    for file in file_list:\n",
    "        file_name = file.split('.')[0]\n",
    "        file_path = os.path.join(path, file)\n",
    "        face = get_gropped_face(file_path)\n",
    "        embedding = get_face_embedding(face)\n",
    "\n",
    "        if len(embedding) > 0:  # 얼굴영역 face가 제대로 detect되지 않으면  len(embedding)==0인 경우가 발생하므로\n",
    "            embedding_dict[file_name] = embedding[0]\n",
    "\n",
    "            pillow_image = Image.fromarray(face)\n",
    "            pillow_image_path = os.path.join(pillow_path, file)\n",
    "            pillow_image.save(pillow_image_path)\n",
    "\n",
    "    return embedding_dict\n",
    "\n",
    "\n",
    "# 얼굴 벡터 전환\n",
    "embedding_dict = get_face_embedding_dict(dir_path)"
   ]
  },
  {
   "cell_type": "markdown",
   "metadata": {},
   "source": [
    "### Step3. 모은 연예인들과 비교하기"
   ]
  },
  {
   "cell_type": "code",
   "execution_count": 6,
   "metadata": {},
   "outputs": [
    {
     "name": "stdout",
     "output_type": "stream",
     "text": [
      "순위 1 : 이름(김고은), 거리(0.38773857270573703)\n",
      "순위 2 : 이름(진기주), 거리(0.38815607944658315)\n",
      "순위 3 : 이름(박소담), 거리(0.3919039522329788)\n",
      "순위 4 : 이름(이정현), 거리(0.40117460507622144)\n",
      "순위 5 : 이름(태연), 거리(0.4123058783294155)\n"
     ]
    },
    {
     "data": {
      "text/plain": [
       "['김고은', '진기주', '박소담', '이정현', '태연']"
      ]
     },
     "execution_count": 6,
     "metadata": {},
     "output_type": "execute_result"
    }
   ],
   "source": [
    "# 두 얼굴 임베딩 사이의 거리 구하기\n",
    "def get_distance(name1, name2):\n",
    "    return np.linalg.norm(embedding_dict[name1]-embedding_dict[name2], ord=2)\n",
    "\n",
    "\n",
    "def get_sort_key_func(name1):\n",
    "    def get_distance_from_name1(name2):\n",
    "        return get_distance(name1, name2)\n",
    "\n",
    "    return get_distance_from_name1\n",
    "\n",
    "\n",
    "def get_nearest_face(name, top=5):\n",
    "    sort_key_func = get_sort_key_func(name)\n",
    "    sorted_faces = sorted(embedding_dict.items(), key=lambda x: sort_key_func(x[0]))\n",
    "    result = []\n",
    "    \n",
    "    for i in range(top + 1):\n",
    "        if i == 0: continue\n",
    "        if sorted_faces[i]:\n",
    "            print(f'순위 {i} : 이름({sorted_faces[i][0]}), 거리({sort_key_func(sorted_faces[i][0])})')\n",
    "            result.append(sorted_faces[i][0])  # 닮은 사람 이름 반환하기 위해.\n",
    "    \n",
    "    return result\n",
    "\n",
    "get_nearest_face('남은지')"
   ]
  },
  {
   "cell_type": "markdown",
   "metadata": {},
   "source": [
    "### Step4. 다양한 재미있는 시각화 시도해 보기"
   ]
  },
  {
   "cell_type": "code",
   "execution_count": 7,
   "metadata": {
    "scrolled": true
   },
   "outputs": [
    {
     "name": "stdout",
     "output_type": "stream",
     "text": [
      " * Serving Flask app \"__main__\" (lazy loading)\n",
      " * Environment: production\n",
      "\u001b[31m   WARNING: This is a development server. Do not use it in a production deployment.\u001b[0m\n",
      "\u001b[2m   Use a production WSGI server instead.\u001b[0m\n",
      " * Debug mode: on\n"
     ]
    },
    {
     "name": "stderr",
     "output_type": "stream",
     "text": [
      " * Running on http://0.0.0.0:5000/ (Press CTRL+C to quit)\n",
      " * Restarting with inotify reloader\n"
     ]
    },
    {
     "ename": "SystemExit",
     "evalue": "1",
     "output_type": "error",
     "traceback": [
      "An exception has occurred, use %tb to see the full traceback.\n",
      "\u001b[0;31mSystemExit\u001b[0m\u001b[0;31m:\u001b[0m 1\n"
     ]
    },
    {
     "name": "stderr",
     "output_type": "stream",
     "text": [
      "/home/ssac14/anaconda3/envs/aiffel/lib/python3.7/site-packages/IPython/core/interactiveshell.py:3426: UserWarning: To exit: use 'exit', 'quit', or Ctrl-D.\n",
      "  warn(\"To exit: use 'exit', 'quit', or Ctrl-D.\", stacklevel=1)\n"
     ]
    }
   ],
   "source": [
    "\"\"\"\n",
    "업로드한 파일을 가지고 닮은 연예인 찾기\n",
    "\"\"\"\n",
    "\n",
    "import os\n",
    "import fnmatch\n",
    "from collections import defaultdict\n",
    "from werkzeug.utils import secure_filename\n",
    "from flask import Flask, request, render_template\n",
    "\n",
    "\n",
    "UPLOAD_DIR = os.getenv('HOME')+'/aiffel/data/e7_face_embedding/upload'\n",
    "pillow_path = os.getenv('HOME')+'/aiffel/e7_face_embedding/static/'\n",
    "\n",
    "app = Flask(__name__)\n",
    "app.config['UPLOAD_DIR'] = UPLOAD_DIR\n",
    "\n",
    "# 업로드된 이미지 작업\n",
    "def check(fname):\n",
    "    file_name = fname.split('.')[0]  # 파일명\n",
    "    embedding = get_face_embedding_dict(UPLOAD_DIR)  # 업로드 이미지의 임베딩벡터 만들기\n",
    "    img_link = defaultdict(dict)  # 업로드이미지와 연예인이미지 링크 담기\n",
    "    if embedding:\n",
    "        embedding_dict.update(embedding)  # 기존 임베딩 벡터에 업로드이미지 벡터 추가\n",
    "        nearest_star = get_nearest_face(file_name, top=1)  # 가장 닮은 연예인 가져오기\n",
    "        nearest_star = nearest_star[0]\n",
    "\n",
    "        for file in os.listdir(pillow_path):\n",
    "            if fnmatch.fnmatch(file, f'{nearest_star}.*'):\n",
    "                img_link['star']['link'] = file\n",
    "                img_link['star']['name'] = nearest_star\n",
    "                break\n",
    "    return img_link\n",
    "\n",
    "# 파일 업로드를 위한 html 렌더링\n",
    "@app.route('/')\n",
    "def upload_main():\n",
    "    return render_template(\"index.html\")\n",
    "\n",
    "# 서버에 파일 업로드\n",
    "@app.route('/file-upload', methods=['POST'])\n",
    "def upload_files():\n",
    "    if request.method == 'POST':\n",
    "        f = request.files['file']\n",
    "        fname = secure_filename(f.filename)  # 사용자가 서버의 파일시스템이 있는 파일을 수정하는 것을 방지\n",
    "        f.save(os.path.join(app.config['UPLOAD_DIR'], fname))\n",
    "        img_link = check(fname)\n",
    "        if img_link:\n",
    "            return render_template(\"success.html\", img_link=img_link)\n",
    "        else:\n",
    "            return render_template(\"fail.html\")\n",
    "\n",
    "\n",
    "if __name__ == '__main__':\n",
    "    app.run(host='0.0.0.0', port=5000, debug=True)"
   ]
  },
  {
   "cell_type": "markdown",
   "metadata": {},
   "source": []
  },
  {
   "cell_type": "code",
   "execution_count": 10,
   "metadata": {},
   "outputs": [
    {
     "data": {
      "text/html": [
       "<video width=\"600\" height=\"500\" controls>\n",
       "    <source src=../e7_face_embedding/face_embedding_video.mp4 type=\"video/mp4\">\n",
       "    </video>"
      ],
      "text/plain": [
       "<IPython.core.display.HTML object>"
      ]
     },
     "execution_count": 10,
     "metadata": {},
     "output_type": "execute_result"
    }
   ],
   "source": [
    "def show_video_in_jupyter_nb(width, height, video_url):\n",
    "    from IPython.display import HTML\n",
    "    return HTML(\"\"\"<video width=\"{}\" height=\"{}\" controls>\n",
    "    <source src={} type=\"video/mp4\">\n",
    "    </video>\"\"\".format(width, height, video_url))\n",
    "video_url = '../e7_face_embedding/face_embedding_video.mp4'\n",
    "show_video_in_jupyter_nb(600, 500,video_url)"
   ]
  },
  {
   "cell_type": "markdown",
   "metadata": {},
   "source": [
    "<br><br><br><br><br>"
   ]
  },
  {
   "cell_type": "markdown",
   "metadata": {},
   "source": [
    "## 회고\n",
    "### 이번 프로젝트에서 **어려웠던 점**\n",
    "시각화하는 부분에서 로컬에 있는 이미지를 가져오는 것이 힘들었다.  \n",
    "flask를 통해 이미지를 업로드하면, 가장 유사한 연예인을 찾아주는 것을 시도하였으나, 연예인 이름은 뽑아내지만, 절대경로와 상대경로 다 테스트해봤을 때 이미지 출력을 하는데 실패했다. 그래서 좀더 찾아보니, `<img src=\"{{ url_for('static', filename=img_link.star.link) }}\">` 이처럼 html파일에 url_for을 사용하여 진행하였더니 잘 출력이 된 것을 확인했고, static폴더 또한 server가 구동되는 파일의 같은 위치에 존재해야한다는 것을 알았다. \n",
    "  \n",
    "### 만약에 루브릭 평가 관련 지표를 달성 하지 못했을 때, 이유에 관한 추정\n",
    "파이참에서는 서버구동일 잘 되는데, 주피터에서는 잘 되지 않아, 파이참에서 돌린걸 영상으로 녹화해 첨부하였다.  \n",
    "\n",
    "\n",
    "### 자기 다짐\n",
    "현재 저 코드는 일일이 서버를 구동시킬 때마다 폴더 내 이미지들의 벡터를 일일이 매번 구하는 코드이다. 그래서 서버를 돌렸을 때, 시간이 좀 걸린다. 추후 시간이 되면 임베딩 벡터는 한번만 돌려서 저장해놓고 가져오게끔 수정해보는건 어떨까 싶다."
   ]
  }
 ],
 "metadata": {
  "kernelspec": {
   "display_name": "aiffel",
   "language": "python",
   "name": "aiffel"
  },
  "language_info": {
   "codemirror_mode": {
    "name": "ipython",
    "version": 3
   },
   "file_extension": ".py",
   "mimetype": "text/x-python",
   "name": "python",
   "nbconvert_exporter": "python",
   "pygments_lexer": "ipython3",
   "version": "3.7.9"
  }
 },
 "nbformat": 4,
 "nbformat_minor": 4
}
