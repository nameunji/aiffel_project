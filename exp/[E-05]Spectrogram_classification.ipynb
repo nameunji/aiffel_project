{
 "cells": [
  {
   "cell_type": "markdown",
   "metadata": {},
   "source": [
    "# Spectrogram classification\n",
    "## 코드"
   ]
  },
  {
   "cell_type": "markdown",
   "metadata": {},
   "source": [
    "1. 음성데이터를 2차원 Spectrogram 으로 변환하여 데이터셋을 구성하였다.  \n",
    "스펙트로그램 시각화 및 train/test 데이터셋 구성이 정상진행되었다.  \n",
    "<br>  \n",
    "\n",
    "2. 1,2차원 데이터를 처리하는 음성인식 모델이 정상 작동한다.  \n",
    "스펙트로그램을 입력받은 모델이 학습과정에서 안정적으로 수렴하며, evaluation/test 단계를 무리없이 진행가능하다.  \n",
    "<br>  \n",
    "\n",
    "3. 테스트셋 수행결과 음성인식 모델의 Accuracy가 일정 수준에 도달하였다.  \n",
    "evaluation 결과 75% 이상의 정확도를 달성하는 모델이 하나 이상 존재한다.  "
   ]
  },
  {
   "cell_type": "code",
   "execution_count": 1,
   "metadata": {},
   "outputs": [],
   "source": [
    "import os\n",
    "import random\n",
    "import numpy as np\n",
    "import librosa\n",
    "import librosa.display\n",
    "import tensorflow as tf\n",
    "import IPython.display as ipd\n",
    "import matplotlib.pyplot as plt\n",
    "\n",
    "from tensorflow.keras import layers\n",
    "from sklearn.model_selection import train_test_split"
   ]
  },
  {
   "cell_type": "code",
   "execution_count": 3,
   "metadata": {},
   "outputs": [
    {
     "name": "stdout",
     "output_type": "stream",
     "text": [
      "1 Physical GPUs, 1 Logical GPUs\n"
     ]
    }
   ],
   "source": [
    "gpus = tf.config.experimental.list_physical_devices('GPU')\n",
    "if gpus:\n",
    "    try:\n",
    "        # Currently, memory growth needs to be the same across GPUs\n",
    "        for gpu in gpus:\n",
    "            tf.config.experimental.set_memory_growth(gpu, True)\n",
    "        logical_gpus = tf.config.experimental.list_logical_devices('GPU')\n",
    "        print(len(gpus), \"Physical GPUs,\", len(logical_gpus), \"Logical GPUs\")\n",
    "    except RuntimeError as e:\n",
    "        # Memory growth must be set before GPUs have been initialized\n",
    "        print(e)"
   ]
  },
  {
   "cell_type": "markdown",
   "metadata": {},
   "source": [
    "### 1. 데이터 처리와 분류"
   ]
  },
  {
   "cell_type": "code",
   "execution_count": 3,
   "metadata": {},
   "outputs": [],
   "source": [
    "# 1-1. 라벨 데이터 처리하기\n",
    "data_path = os.getenv(\"HOME\") + '/aiffel/data/speech_recognition/data/speech_wav_8000.npz'\n",
    "speech_data = np.load(data_path)\n",
    "\n",
    "label_value = ['yes', 'no', 'up', 'down', 'left', 'right', 'on', 'off', 'stop', 'go', 'unknown', 'silence']\n",
    "new_label_value = dict()\n",
    "for i, l in enumerate(label_value):\n",
    "    new_label_value[l] = i\n",
    "label_value = new_label_value  # {'yes': 0, 'no': 1, 'up': 2, ...}\n",
    "\n",
    "temp = []\n",
    "for v in speech_data[\"label_vals\"]:\n",
    "    temp.append(label_value[v[0]])\n",
    "label_data = np.array(temp)  # array([ 3,  3,  3, ..., 11, 11, 11])\n",
    "\n",
    "# 1-2. train, test분리\n",
    "train_wav, test_wav, train_label, test_label = train_test_split(speech_data[\"wav_vals\"], label_data, test_size=0.1, shuffle=True)\n",
    "\n",
    "del speech_data"
   ]
  },
  {
   "cell_type": "markdown",
   "metadata": {},
   "source": [
    "### 2. 학습을 위한 하이퍼파라미터 설정\n"
   ]
  },
  {
   "cell_type": "code",
   "execution_count": 19,
   "metadata": {},
   "outputs": [],
   "source": [
    "batch_size = 32\n",
    "max_epochs = 10\n",
    "\n",
    "# the save point - 후에 모델체크포인트 callback함수를 설정하거나 모델을 불러올 때 사용\n",
    "checkpoint_dir = os.getenv('HOME') + '/aiffel/data/speech_recognition/models/wav'\n",
    "checkpoint_dir1 = os.getenv('HOME') + '/aiffel/data/speech_recognition/models1/wav'"
   ]
  },
  {
   "cell_type": "markdown",
   "metadata": {},
   "source": [
    "### 3. 데이터셋 구성"
   ]
  },
  {
   "cell_type": "code",
   "execution_count": 5,
   "metadata": {},
   "outputs": [
    {
     "name": "stdout",
     "output_type": "stream",
     "text": [
      "(45558, 130, 126, 1) (45558,)\n",
      "(5062, 130, 126, 1) (5062,)\n"
     ]
    }
   ],
   "source": [
    "# 3-1. 1차원의 Waveform 데이터를 2차원의 Spectrogram 데이터로 변환\n",
    "def wav2spec(wav, fft_size=258):  # spectrogram shape을 맞추기위해서 size 변형\n",
    "    D = np.abs(librosa.stft(wav, n_fft=fft_size))  # wav-파형의 amplitude 값, n_fft-win_length보다 길 경우 모두 zero padding해서 처리하기 위한 파라미터\n",
    "    return D\n",
    "\n",
    "def change_shape(waves):\n",
    "    tmp_wav = []\n",
    "    for wav in waves:\n",
    "        tmp_wav.append(wav2spec(wav))\n",
    "    return np.array(tmp_wav)\n",
    "\n",
    "train_wav = change_shape(train_wav)  # (45558, 130, 126)\n",
    "test_wav = change_shape(test_wav)    # (5062, 130, 126)\n",
    "\n",
    "# 차원 1 -> 2\n",
    "sr = 130\n",
    "sc = 126\n",
    "train_wav = train_wav.reshape(-1, sr, sc, 1)\n",
    "test_wav = test_wav.reshape(-1, sr, sc, 1)\n",
    "print(train_wav.shape, train_label.shape)  # (45558, 130, 126, 1) (45558,)\n",
    "print(test_wav.shape, test_label.shape)    # (5062, 130, 126, 1) (5062,)\n",
    "\n",
    "# 3-2. 데이터 설정\n",
    "# map : dataset이 데이터를 불러올때마다 동작시킬 데이터 전처리 함수를 매핑해줌\n",
    "def one_hot_label(wav, label):\n",
    "    label = tf.one_hot(label, depth=12)\n",
    "    return wav, label\n",
    "\n",
    "# for train\n",
    "train_dataset = tf.data.Dataset.from_tensor_slices((train_wav, train_label))\n",
    "train_dataset = train_dataset.map(one_hot_label)\n",
    "train_dataset = train_dataset.repeat().batch(batch_size=batch_size)\n",
    "\n",
    "# for test\n",
    "test_dataset = tf.data.Dataset.from_tensor_slices((test_wav, test_label))\n",
    "test_dataset = test_dataset.map(one_hot_label)\n",
    "test_dataset = test_dataset.batch(batch_size=batch_size)"
   ]
  },
  {
   "cell_type": "markdown",
   "metadata": {},
   "source": [
    "### 4. 모델 구성\n",
    "- 2차원 Spectrogram 데이터의 시간축 방향으로 Conv1D layer를 적용, 혹은 Conv2D layer를 적용 가능\n",
    "- batchnorm, dropout, dense layer 등을 이용\n",
    "- 12개의 단어 class를 구분하는 loss를 사용하고 Adam optimizer를 사용\n",
    "- 모델 가중치를 저장하는 checkpoint callback 함수 추가\n",
    "- 다양한 모델의 실험을 진행해 보시기 바랍니다."
   ]
  },
  {
   "cell_type": "code",
   "execution_count": 20,
   "metadata": {},
   "outputs": [],
   "source": [
    "# model 1\n",
    "input_tensor = layers.Input(shape=(130, 126, ))\n",
    "\n",
    "x = layers.Conv1D(32, 9, padding='same', activation='relu')(input_tensor)\n",
    "x = layers.Conv1D(32, 9, padding='same', activation='relu')(x)\n",
    "x = layers.MaxPool1D()(x)\n",
    "\n",
    "x = layers.Conv1D(64, 9, padding='same', activation='relu')(x)\n",
    "x = layers.Conv1D(64, 9, padding='same', activation='relu')(x)\n",
    "x = layers.MaxPool1D()(x)\n",
    "\n",
    "x = layers.Conv1D(128, 9, padding='same', activation='relu')(x)\n",
    "x = layers.Conv1D(128, 9, padding='same', activation='relu')(x)\n",
    "x = layers.Conv1D(128, 9, padding='same', activation='relu')(x)\n",
    "x = layers.MaxPool1D()(x)\n",
    "\n",
    "x = layers.Conv1D(256, 9, padding='same', activation='relu')(x)\n",
    "x = layers.Conv1D(256, 9, padding='same', activation='relu')(x)\n",
    "x = layers.Conv1D(256, 9, padding='same', activation='relu')(x)\n",
    "x = layers.MaxPool1D()(x)\n",
    "x = layers.Dropout(0.3)(x)\n",
    "\n",
    "x = layers.Flatten()(x)\n",
    "x = layers.Dense(256)(x)\n",
    "x = layers.BatchNormalization()(x)\n",
    "x = layers.Activation('relu')(x)\n",
    "\n",
    "output_tensor = layers.Dense(12)(x)\n",
    "\n",
    "model_wav = tf.keras.Model(input_tensor, output_tensor)\n",
    "\n",
    "model_wav.compile(loss=tf.keras.losses.CategoricalCrossentropy(from_logits=True),\n",
    "                  optimizer=tf.keras.optimizers.Adam(1e-4),\n",
    "                  metrics=['accuracy'])\n",
    "\n",
    "cp_callback = tf.keras.callbacks.ModelCheckpoint(checkpoint_dir1,\n",
    "                                                 save_weights_only=True,\n",
    "                                                 monitor='val_loss',\n",
    "                                                 mode='auto',\n",
    "                                                 save_best_only=True,\n",
    "                                                 verbose=1)"
   ]
  },
  {
   "cell_type": "code",
   "execution_count": 9,
   "metadata": {},
   "outputs": [],
   "source": [
    "# model 2\n",
    "input_tensor_x2 = layers.Input(shape=(sr, sc, 1))\n",
    "\n",
    "x2 = layers.Conv2D(32, 3, padding='same', activation='relu')(input_tensor_x2)\n",
    "x2 = layers.Conv2D(32, 3, padding='same', activation='relu')(x2)\n",
    "skip_1_x2 = layers.MaxPool2D()(x2)\n",
    "\n",
    "x2 = layers.Conv2D(64, 3, padding='same', activation='relu')(skip_1_x2)\n",
    "x2 = layers.Conv2D(64, 3, padding='same', activation='relu')(x2)\n",
    "x2 = tf.concat([x2, skip_1_x2], -1)\n",
    "skip_2_x2 = layers.MaxPool2D()(x2)\n",
    "\n",
    "x2 = layers.Conv2D(128, 3, padding='same', activation='relu')(skip_2_x2)\n",
    "x2 = layers.Conv2D(128, 3, padding='same', activation='relu')(x2)\n",
    "x2 = layers.Conv2D(128, 3, padding='same', activation='relu')(x2)\n",
    "x2 = tf.concat([x2, skip_2_x2], -1)\n",
    "skip_3_x2 = layers.MaxPool2D()(x2)\n",
    "\n",
    "x2 = layers.Conv2D(256, 3, padding='same', activation='relu')(skip_3_x2)\n",
    "x2 = layers.Conv2D(256, 3, padding='same', activation='relu')(x2)\n",
    "x2 = layers.Conv2D(256, 3, padding='same', activation='relu')(x2)\n",
    "x2 = tf.concat([x2, skip_3_x2], -1)\n",
    "x2 = layers.MaxPool2D()(x2)\n",
    "x2 = layers.Dropout(0.3)(x2)\n",
    "\n",
    "x2 = layers.Flatten()(x2)\n",
    "x2 = layers.Dense(256)(x2)\n",
    "x2 = layers.BatchNormalization()(x2)\n",
    "x2 = layers.Activation('relu')(x2)\n",
    "\n",
    "output_tensor_x2 = layers.Dense(12)(x2)\n",
    "\n",
    "model_wav_x2 = tf.keras.Model(input_tensor_x2, output_tensor_x2)\n",
    "\n",
    "model_wav_x2.compile(loss=tf.keras.losses.CategoricalCrossentropy(from_logits=True),\n",
    "                     optimizer=tf.keras.optimizers.Adam(1e-4),\n",
    "                     metrics=['accuracy'])\n",
    "\n",
    "cp_callback = tf.keras.callbacks.ModelCheckpoint(checkpoint_dir,\n",
    "                                                 save_weights_only=True,\n",
    "                                                 monitor='val_loss',\n",
    "                                                 mode='auto',\n",
    "                                                 save_best_only=True,\n",
    "                                                 verbose=1)"
   ]
  },
  {
   "cell_type": "markdown",
   "metadata": {},
   "source": [
    "### 5. 학습"
   ]
  },
  {
   "cell_type": "code",
   "execution_count": 21,
   "metadata": {
    "scrolled": true
   },
   "outputs": [
    {
     "name": "stdout",
     "output_type": "stream",
     "text": [
      "Epoch 1/10\n",
      "1421/1423 [============================>.] - ETA: 0s - loss: 1.3646 - accuracy: 0.5348\n",
      "Epoch 00001: val_loss improved from inf to 0.92788, saving model to /home/ssac14/aiffel/data/speech_recognition/models1/wav\n",
      "1423/1423 [==============================] - 10s 7ms/step - loss: 1.3640 - accuracy: 0.5350 - val_loss: 0.9279 - val_accuracy: 0.6887\n",
      "Epoch 2/10\n",
      "1419/1423 [============================>.] - ETA: 0s - loss: 0.6755 - accuracy: 0.7760\n",
      "Epoch 00002: val_loss improved from 0.92788 to 0.54679, saving model to /home/ssac14/aiffel/data/speech_recognition/models1/wav\n",
      "1423/1423 [==============================] - 9s 7ms/step - loss: 0.6750 - accuracy: 0.7762 - val_loss: 0.5468 - val_accuracy: 0.8159\n",
      "Epoch 3/10\n",
      "1415/1423 [============================>.] - ETA: 0s - loss: 0.4530 - accuracy: 0.8483\n",
      "Epoch 00003: val_loss improved from 0.54679 to 0.45705, saving model to /home/ssac14/aiffel/data/speech_recognition/models1/wav\n",
      "1423/1423 [==============================] - 9s 7ms/step - loss: 0.4529 - accuracy: 0.8483 - val_loss: 0.4571 - val_accuracy: 0.8481\n",
      "Epoch 4/10\n",
      "1423/1423 [==============================] - ETA: 0s - loss: 0.3439 - accuracy: 0.8871\n",
      "Epoch 00004: val_loss improved from 0.45705 to 0.40194, saving model to /home/ssac14/aiffel/data/speech_recognition/models1/wav\n",
      "1423/1423 [==============================] - 9s 7ms/step - loss: 0.3439 - accuracy: 0.8871 - val_loss: 0.4019 - val_accuracy: 0.8655\n",
      "Epoch 5/10\n",
      "1421/1423 [============================>.] - ETA: 0s - loss: 0.2696 - accuracy: 0.9091\n",
      "Epoch 00005: val_loss improved from 0.40194 to 0.38031, saving model to /home/ssac14/aiffel/data/speech_recognition/models1/wav\n",
      "1423/1423 [==============================] - 9s 7ms/step - loss: 0.2696 - accuracy: 0.9091 - val_loss: 0.3803 - val_accuracy: 0.8744\n",
      "Epoch 6/10\n",
      "1419/1423 [============================>.] - ETA: 0s - loss: 0.2183 - accuracy: 0.9269\n",
      "Epoch 00006: val_loss improved from 0.38031 to 0.35219, saving model to /home/ssac14/aiffel/data/speech_recognition/models1/wav\n",
      "1423/1423 [==============================] - 10s 7ms/step - loss: 0.2182 - accuracy: 0.9268 - val_loss: 0.3522 - val_accuracy: 0.8839\n",
      "Epoch 7/10\n",
      "1417/1423 [============================>.] - ETA: 0s - loss: 0.1815 - accuracy: 0.9390\n",
      "Epoch 00007: val_loss improved from 0.35219 to 0.30869, saving model to /home/ssac14/aiffel/data/speech_recognition/models1/wav\n",
      "1423/1423 [==============================] - 10s 7ms/step - loss: 0.1813 - accuracy: 0.9391 - val_loss: 0.3087 - val_accuracy: 0.8981\n",
      "Epoch 8/10\n",
      "1422/1423 [============================>.] - ETA: 0s - loss: 0.1545 - accuracy: 0.9486\n",
      "Epoch 00008: val_loss did not improve from 0.30869\n",
      "1423/1423 [==============================] - 10s 7ms/step - loss: 0.1544 - accuracy: 0.9486 - val_loss: 0.3091 - val_accuracy: 0.9025\n",
      "Epoch 9/10\n",
      "1416/1423 [============================>.] - ETA: 0s - loss: 0.1402 - accuracy: 0.9530\n",
      "Epoch 00009: val_loss did not improve from 0.30869\n",
      "1423/1423 [==============================] - 10s 7ms/step - loss: 0.1404 - accuracy: 0.9530 - val_loss: 0.3264 - val_accuracy: 0.8999\n",
      "Epoch 10/10\n",
      "1421/1423 [============================>.] - ETA: 0s - loss: 0.1252 - accuracy: 0.9564\n",
      "Epoch 00010: val_loss improved from 0.30869 to 0.28137, saving model to /home/ssac14/aiffel/data/speech_recognition/models1/wav\n",
      "1423/1423 [==============================] - 10s 7ms/step - loss: 0.1251 - accuracy: 0.9564 - val_loss: 0.2814 - val_accuracy: 0.9108\n"
     ]
    }
   ],
   "source": [
    "# model 1\n",
    "history_wav = model_wav.fit(train_dataset,\n",
    "                            epochs=max_epochs,\n",
    "                            steps_per_epoch=len(train_wav) // batch_size,\n",
    "                            validation_data=test_dataset,\n",
    "                            validation_steps=len(test_wav) // batch_size,\n",
    "                            callbacks=[cp_callback]\n",
    "                            )"
   ]
  },
  {
   "cell_type": "code",
   "execution_count": 11,
   "metadata": {},
   "outputs": [
    {
     "name": "stdout",
     "output_type": "stream",
     "text": [
      "Epoch 1/10\n",
      "1422/1423 [============================>.] - ETA: 0s - loss: 0.8186 - accuracy: 0.7375\n",
      "Epoch 00001: val_loss did not improve from 0.25975\n",
      "1423/1423 [==============================] - 66s 46ms/step - loss: 0.8183 - accuracy: 0.7375 - val_loss: 0.3332 - val_accuracy: 0.8928\n",
      "Epoch 2/10\n",
      "1422/1423 [============================>.] - ETA: 0s - loss: 0.2731 - accuracy: 0.9174\n",
      "Epoch 00002: val_loss improved from 0.25975 to 0.22144, saving model to /home/ssac14/aiffel/data/speech_recognition/models/wav\n",
      "1423/1423 [==============================] - 67s 47ms/step - loss: 0.2730 - accuracy: 0.9174 - val_loss: 0.2214 - val_accuracy: 0.9250\n",
      "Epoch 3/10\n",
      "1422/1423 [============================>.] - ETA: 0s - loss: 0.1762 - accuracy: 0.9478\n",
      "Epoch 00003: val_loss improved from 0.22144 to 0.17974, saving model to /home/ssac14/aiffel/data/speech_recognition/models/wav\n",
      "1423/1423 [==============================] - 67s 47ms/step - loss: 0.1762 - accuracy: 0.9478 - val_loss: 0.1797 - val_accuracy: 0.9442\n",
      "Epoch 4/10\n",
      "1422/1423 [============================>.] - ETA: 0s - loss: 0.1257 - accuracy: 0.9629\n",
      "Epoch 00004: val_loss improved from 0.17974 to 0.15422, saving model to /home/ssac14/aiffel/data/speech_recognition/models/wav\n",
      "1423/1423 [==============================] - 67s 47ms/step - loss: 0.1257 - accuracy: 0.9629 - val_loss: 0.1542 - val_accuracy: 0.9531\n",
      "Epoch 5/10\n",
      "1422/1423 [============================>.] - ETA: 0s - loss: 0.0978 - accuracy: 0.9715\n",
      "Epoch 00005: val_loss improved from 0.15422 to 0.11979, saving model to /home/ssac14/aiffel/data/speech_recognition/models/wav\n",
      "1423/1423 [==============================] - 67s 47ms/step - loss: 0.0977 - accuracy: 0.9715 - val_loss: 0.1198 - val_accuracy: 0.9597\n",
      "Epoch 6/10\n",
      "1423/1423 [==============================] - ETA: 0s - loss: 0.0771 - accuracy: 0.9773\n",
      "Epoch 00006: val_loss did not improve from 0.11979\n",
      "1423/1423 [==============================] - 67s 47ms/step - loss: 0.0771 - accuracy: 0.9773 - val_loss: 0.1221 - val_accuracy: 0.9598\n",
      "Epoch 7/10\n",
      "1423/1423 [==============================] - ETA: 0s - loss: 0.0653 - accuracy: 0.9805\n",
      "Epoch 00007: val_loss improved from 0.11979 to 0.11822, saving model to /home/ssac14/aiffel/data/speech_recognition/models/wav\n",
      "1423/1423 [==============================] - 67s 47ms/step - loss: 0.0653 - accuracy: 0.9805 - val_loss: 0.1182 - val_accuracy: 0.9614\n",
      "Epoch 8/10\n",
      "1423/1423 [==============================] - ETA: 0s - loss: 0.0530 - accuracy: 0.9851\n",
      "Epoch 00008: val_loss improved from 0.11822 to 0.09684, saving model to /home/ssac14/aiffel/data/speech_recognition/models/wav\n",
      "1423/1423 [==============================] - 67s 47ms/step - loss: 0.0530 - accuracy: 0.9851 - val_loss: 0.0968 - val_accuracy: 0.9674\n",
      "Epoch 9/10\n",
      "1423/1423 [==============================] - ETA: 0s - loss: 0.0478 - accuracy: 0.9861\n",
      "Epoch 00009: val_loss did not improve from 0.09684\n",
      "1423/1423 [==============================] - 67s 47ms/step - loss: 0.0478 - accuracy: 0.9861 - val_loss: 0.1011 - val_accuracy: 0.9664\n",
      "Epoch 10/10\n",
      "1422/1423 [============================>.] - ETA: 0s - loss: 0.0397 - accuracy: 0.9887\n",
      "Epoch 00010: val_loss did not improve from 0.09684\n",
      "1423/1423 [==============================] - 67s 47ms/step - loss: 0.0397 - accuracy: 0.9887 - val_loss: 0.0996 - val_accuracy: 0.9678\n"
     ]
    }
   ],
   "source": [
    "# model 2\n",
    "history_wav_2 = model_wav_x2.fit(train_dataset,\n",
    "                                 epochs=max_epochs,\n",
    "                                 steps_per_epoch=len(train_wav) // batch_size,\n",
    "                                 validation_data=test_dataset,\n",
    "                                 validation_steps=len(test_wav) // batch_size,\n",
    "                                 callbacks=[cp_callback]\n",
    "                                )"
   ]
  },
  {
   "cell_type": "markdown",
   "metadata": {},
   "source": [
    "### 6. 학습결과\n",
    "학습 후, 학습이 어떻게 진행됐는지 그래프로 출력 - loss, accuracy를 그래프로 표현"
   ]
  },
  {
   "cell_type": "code",
   "execution_count": 13,
   "metadata": {},
   "outputs": [
    {
     "name": "stdout",
     "output_type": "stream",
     "text": [
      "-------------model 1-------------\n"
     ]
    },
    {
     "data": {
      "image/png": "[encoded data removed]",
      "text/plain": [
       "<Figure size 576x576 with 2 Axes>"
      ]
     },
     "metadata": {
      "needs_background": "light"
     },
     "output_type": "display_data"
    },
    {
     "name": "stdout",
     "output_type": "stream",
     "text": [
      "-------------model 2-------------\n"
     ]
    },
    {
     "data": {
      "image/png": "[encoded data removed]",
      "text/plain": [
       "<Figure size 576x576 with 2 Axes>"
      ]
     },
     "metadata": {
      "needs_background": "light"
     },
     "output_type": "display_data"
    }
   ],
   "source": [
    "def draw_graph(history):\n",
    "    acc = history.history['accuracy']\n",
    "    val_acc = history.history['val_accuracy']\n",
    "    loss = history.history['loss']\n",
    "    val_loss = history.history['val_loss']\n",
    "    \n",
    "    epochs_range = range(len(acc))\n",
    "    \n",
    "    plt.figure(figsize=(8, 8))\n",
    "    plt.subplot(1, 2, 1)\n",
    "    plt.plot(epochs_range, acc, label='Training Accuracy')\n",
    "    plt.plot(epochs_range, val_acc, label='Validation Accuracy')\n",
    "    plt.legend(loc='lower right')\n",
    "    plt.title('Training and Validation Accuracy')\n",
    "\n",
    "    plt.subplot(1, 2, 2)\n",
    "    plt.plot(epochs_range, loss, label='Training Loss')\n",
    "    plt.plot(epochs_range, val_loss, label='Validation Loss')\n",
    "    plt.legend(loc='upper right')\n",
    "    plt.title('Training and Validation Loss')\n",
    "    plt.show()\n",
    "\n",
    "\n",
    "print('-------------model 1-------------')\n",
    "draw_graph(history_wav)\n",
    "print('-------------model 2-------------')\n",
    "draw_graph(history_wav_2)"
   ]
  },
  {
   "cell_type": "markdown",
   "metadata": {},
   "source": [
    "### 7. Evaluation 평가\n",
    "- 저장한 weight 불러오기\n",
    "- 모델의 예측값과 정답값이 얼마나 일치하는지 확인"
   ]
  },
  {
   "cell_type": "code",
   "execution_count": 23,
   "metadata": {
    "scrolled": true
   },
   "outputs": [
    {
     "name": "stdout",
     "output_type": "stream",
     "text": [
      "-------------model 1-------------\n",
      "159/159 [==============================] - 20s 123ms/step - loss: 0.2819 - accuracy: 0.9107\n",
      "loss value: 0.282\n",
      "accuracy value: 91.0707%\n"
     ]
    }
   ],
   "source": [
    "print('-------------model 1-------------')\n",
    "model_wav.load_weights(checkpoint_dir1)\n",
    "results = model_wav.evaluate(test_dataset)\n",
    "\n",
    "print(\"loss value: {:.3f}\".format(results[0]))             # loss\n",
    "print(\"accuracy value: {:.4f}%\".format(results[1] * 100))  # accuracy"
   ]
  },
  {
   "cell_type": "code",
   "execution_count": 16,
   "metadata": {},
   "outputs": [
    {
     "name": "stdout",
     "output_type": "stream",
     "text": [
      "-------------model 2-------------\n",
      "159/159 [==============================] - 25s 159ms/step - loss: 0.0967 - accuracy: 0.9674\n",
      "loss value: 0.097\n",
      "accuracy value: 96.7404%\n"
     ]
    }
   ],
   "source": [
    "print('-------------model 2-------------')\n",
    "model_wav_x2.load_weights(checkpoint_dir)\n",
    "results2 = model_wav_x2.evaluate(test_dataset)\n",
    "\n",
    "print(\"loss value: {:.3f}\".format(results2[0]))             # loss\n",
    "print(\"accuracy value: {:.4f}%\".format(results2[1] * 100))  # accuracy"
   ]
  },
  {
   "cell_type": "markdown",
   "metadata": {},
   "source": [
    "<br><br><br><br><br><br>"
   ]
  },
  {
   "cell_type": "markdown",
   "metadata": {},
   "source": [
    "## 회고\n",
    "### 이번 프로젝트에서 **어려웠던 점,**\n",
    "데이터의 shape를 변환시켜주었는데, 어느 부분을 변경시켜서 넣어줘야하는지 감이 잘 오지 않았다. 1차원의 Waveform 데이터를 2차원의 Spectrogram 데이터로 변환해주었는데, 또 reshape해주어야하는지 아직 이해하지 못했다. Spectrogram만 진행하고 reshape를 하지 않고 layer input shape에 (130,126)형태로 넣어줬는데도 잘 동작은 되었다. 그래서 더욱 이해가 되지 않는 부분이다. \n",
    "```python\n",
    "# before\n",
    "sr = 8000\n",
    "input_tensor = layers.Input(shape=(sr, 1))\n",
    "# after\n",
    "input_tensor = layers.Input(shape=(130, 126, 1))\n",
    "```\n",
    "\n",
    "### 프로젝트를 진행하면서 **알아낸 점** 혹은 **아직 모호한 점**.\n",
    "- Sequential API vs Functional API\n",
    "  - Sequential API는 단순하고 직관적이지만 복잡한 모델을 구성할 수 없다고 한다.\n",
    "  - Functional API는 모델을 각각 만들어 합치거나 어떤 층을 공유하는 등 복잡한 모델을 구현할 수 있다고 한다.\n",
    "- 위에도 언급했듯이 아직 shape에 대한 개념이 아직 모호한 것 같다. 그래서 아직 reshape된  \n",
    "\n",
    "### 루브릭 평가 지표를 맞추기 위해 **시도한 것들**.\n",
    "1. 1차원의 Waveform 데이터를 2차원의 Spectrogram 데이터로 변환해주었다.\n",
    "2. Conv1D모델에서 Skip-Connection을 적용한 Conv2D모델을 적용해보았다.\n",
    "  - Conv1D : loss: 0.2819 - accuracy: 0.9107\n",
    "  - Conv2D : loss: 0.0967 - accuracy: 0.9674\n",
    "  \n",
    "  \n",
    "### 만약에 루브릭 평가 관련 지표를 **달성 하지 못했을 때, 이유에 관한 추정**.\n",
    "Validation과 Train의 accuracy와 loss의 그래프를 보았을 때 차이가 나는 것은 dataset을 나눌 때 0.1로 나누어줬기 때문에 약간의 오버피팅이 나지 않았을까 생각한다.\n",
    "\n",
    "### **자기 다짐**\n",
    "numpy공부 좀 해야겠다..."
   ]
  }
 ],
 "metadata": {
  "kernelspec": {
   "display_name": "aiffel",
   "language": "python",
   "name": "aiffel"
  },
  "language_info": {
   "codemirror_mode": {
    "name": "ipython",
    "version": 3
   },
   "file_extension": ".py",
   "mimetype": "text/x-python",
   "name": "python",
   "nbconvert_exporter": "python",
   "pygments_lexer": "ipython3",
   "version": "3.7.9"
  }
 },
 "nbformat": 4,
 "nbformat_minor": 4
}
