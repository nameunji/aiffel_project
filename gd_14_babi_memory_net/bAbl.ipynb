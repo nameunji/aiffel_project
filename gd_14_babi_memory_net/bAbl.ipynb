{
 "cells": [
  {
   "cell_type": "markdown",
   "metadata": {},
   "source": [
    "## 1. 데이터 로드하기"
   ]
  },
  {
   "cell_type": "code",
   "execution_count": 3,
   "metadata": {},
   "outputs": [],
   "source": [
    "from tensorflow.keras.utils import get_file\n",
    "from tensorflow.keras.preprocessing.sequence import pad_sequences\n",
    "from tensorflow.keras.utils import to_categorical\n",
    "import numpy as np\n",
    "import tarfile\n",
    "from nltk import FreqDist\n",
    "from functools import reduce\n",
    "import os\n",
    "import re"
   ]
  },
  {
   "cell_type": "code",
   "execution_count": 5,
   "metadata": {},
   "outputs": [
    {
     "name": "stdout",
     "output_type": "stream",
     "text": [
      "Downloading data from https://s3.amazonaws.com/text-datasets/babi_tasks_1-20_v1-2.tar.gz\n",
      "11747328/11745123 [==============================] - 7s 1us/step\n",
      "/home/ssac14/aiffel/gd_14_babi_memory_net/babi-tasks-v1-2.tar.gz\n"
     ]
    }
   ],
   "source": [
    "# 환경에 맞게 경로 수정\n",
    "home_dir = os.getenv('HOME')+'/aiffel/gd_14_babi_memory_net'\n",
    "file_to_save = home_dir + '/babi-tasks-v1-2.tar.gz'\n",
    "path = get_file(file_to_save, origin='https://s3.amazonaws.com/text-datasets/babi_tasks_1-20_v1-2.tar.gz')\n",
    "print(path)"
   ]
  },
  {
   "cell_type": "code",
   "execution_count": 6,
   "metadata": {},
   "outputs": [],
   "source": [
    "with tarfile.open(path) as tar:\n",
    "    tar.extractall(home_dir)  # home_dir 아래에 압축해제\n",
    "    tar.close()"
   ]
  },
  {
   "cell_type": "code",
   "execution_count": 7,
   "metadata": {},
   "outputs": [],
   "source": [
    "# 환경에 맞게 경로 적절히 수정\n",
    "DATA_DIR = home_dir + '/tasks_1-20_v1-2/en-10k'\n",
    "TRAIN_FILE = os.path.join(DATA_DIR, \"qa1_single-supporting-fact_train.txt\")\n",
    "TEST_FILE = os.path.join(DATA_DIR, \"qa1_single-supporting-fact_test.txt\")"
   ]
  },
  {
   "cell_type": "code",
   "execution_count": 8,
   "metadata": {},
   "outputs": [
    {
     "name": "stdout",
     "output_type": "stream",
     "text": [
      "1 Mary moved to the bathroom.\n",
      "2 John went to the hallway.\n",
      "3 Where is Mary? \tbathroom\t1\n",
      "4 Daniel went back to the hallway.\n",
      "5 Sandra moved to the garden.\n",
      "6 Where is Daniel? \thallway\t4\n",
      "7 John moved to the office.\n",
      "8 Sandra journeyed to the bathroom.\n",
      "9 Where is Daniel? \thallway\t4\n",
      "10 Mary moved to the hallway.\n",
      "11 Daniel travelled to the office.\n",
      "12 Where is Daniel? \toffice\t11\n",
      "13 John went back to the garden.\n",
      "14 John moved to the bedroom.\n",
      "15 Where is Sandra? \tbathroom\t8\n",
      "1 Sandra travelled to the office.\n",
      "2 Sandra went to the bathroom.\n",
      "3 Where is Sandra? \tbathroom\t2\n",
      "4 Mary went to the bedroom.\n",
      "5 Daniel moved to the hallway.\n"
     ]
    }
   ],
   "source": [
    "# 훈련데이터에서 20개 문장 출력\n",
    "i = 0\n",
    "lines = open(TRAIN_FILE , \"rb\")\n",
    "for line in lines:\n",
    "    line = line.decode(\"utf-8\").strip()\n",
    "    # lno, text = line.split(\" \", 1) # ID와 TEXT 분리\n",
    "    i = i + 1\n",
    "    print(line)\n",
    "    if i == 20:\n",
    "        break"
   ]
  },
  {
   "cell_type": "markdown",
   "metadata": {},
   "source": [
    "<br><br><br><br>"
   ]
  },
  {
   "cell_type": "markdown",
   "metadata": {},
   "source": [
    "## 2. 데이터 전처리"
   ]
  },
  {
   "cell_type": "markdown",
   "metadata": {},
   "source": [
    "### 2-1. 기본 전처리"
   ]
  },
  {
   "cell_type": "code",
   "execution_count": 9,
   "metadata": {},
   "outputs": [],
   "source": [
    "def read_data(dir):\n",
    "    stories, questions, answers = [], [], [] # 각각 스토리, 질문, 답변을 저장할 예정\n",
    "    story_temp = [] # 현재 시점의 스토리 임시 저장\n",
    "    lines = open(dir, \"rb\")\n",
    "\n",
    "    for line in lines:\n",
    "        line = line.decode(\"utf-8\") # b' 제거\n",
    "        line = line.strip() # '\\n' 제거\n",
    "        idx, text = line.split(\" \", 1) # 맨 앞에 있는 id number 분리\n",
    "        # 여기까지는 모든 줄에 적용되는 전처리\n",
    "\n",
    "        if int(idx) == 1:\n",
    "            story_temp = []\n",
    "        \n",
    "        if \"\\t\" in text: # 현재 읽는 줄이 질문 (tab) 답변 (tab)인 경우\n",
    "            question, answer, _ = text.split(\"\\t\") # 질문과 답변을 각각 저장\n",
    "            stories.append([x for x in story_temp if x]) # 지금까지의 누적 스토리를 스토리에 저장\n",
    "            questions.append(question)\n",
    "            answers.append(answer)\n",
    "\n",
    "        else: # 현재 읽는 줄이 스토리인 경우\n",
    "            story_temp.append(text) # 임시 저장\n",
    "\n",
    "    lines.close()\n",
    "    return stories, questions, answers"
   ]
  },
  {
   "cell_type": "code",
   "execution_count": 11,
   "metadata": {},
   "outputs": [],
   "source": [
    "train_stories, train_questions, train_answers = read_data(TRAIN_FILE)\n",
    "test_stories, test_questions, test_answers = read_data(TEST_FILE)"
   ]
  },
  {
   "cell_type": "code",
   "execution_count": 12,
   "metadata": {},
   "outputs": [
    {
     "name": "stdout",
     "output_type": "stream",
     "text": [
      "train 스토리 개수: 10000\n",
      "train 질문 개수: 10000\n",
      "train 답변 개수: 10000\n",
      "test 스토리 개수: 1000\n",
      "test 질문 개수: 1000\n",
      "test 답변 개수: 1000\n"
     ]
    }
   ],
   "source": [
    "print(\"train 스토리 개수:\", len(train_stories))\n",
    "print(\"train 질문 개수:\", len(train_questions))\n",
    "print(\"train 답변 개수:\", len(train_answers))\n",
    "print(\"test 스토리 개수:\", len(test_stories))\n",
    "print(\"test 질문 개수:\", len(test_questions))\n",
    "print(\"test 답변 개수:\", len(test_answers))"
   ]
  },
  {
   "cell_type": "code",
   "execution_count": 13,
   "metadata": {},
   "outputs": [
    {
     "data": {
      "text/plain": [
       "['Daniel journeyed to the bathroom.',\n",
       " 'Sandra moved to the office.',\n",
       " 'John went to the kitchen.',\n",
       " 'Sandra moved to the bathroom.',\n",
       " 'Daniel moved to the hallway.',\n",
       " 'Mary travelled to the kitchen.',\n",
       " 'Daniel went to the kitchen.',\n",
       " 'Daniel travelled to the bathroom.']"
      ]
     },
     "execution_count": 13,
     "metadata": {},
     "output_type": "execute_result"
    }
   ],
   "source": [
    "# 임의로 3879번째 스토리 출력\n",
    "train_stories[3878]"
   ]
  },
  {
   "cell_type": "code",
   "execution_count": 14,
   "metadata": {},
   "outputs": [
    {
     "data": {
      "text/plain": [
       "['Where is Mary? ',\n",
       " 'Where is Daniel? ',\n",
       " 'Where is Daniel? ',\n",
       " 'Where is Daniel? ',\n",
       " 'Where is Sandra? ']"
      ]
     },
     "execution_count": 14,
     "metadata": {},
     "output_type": "execute_result"
    }
   ],
   "source": [
    "# 상위 5개 질문 출력\n",
    "train_questions[:5]"
   ]
  },
  {
   "cell_type": "code",
   "execution_count": 15,
   "metadata": {},
   "outputs": [
    {
     "data": {
      "text/plain": [
       "['bathroom', 'hallway', 'hallway', 'office', 'bathroom']"
      ]
     },
     "execution_count": 15,
     "metadata": {},
     "output_type": "execute_result"
    }
   ],
   "source": [
    "# 상위 5개 답변 출력\n",
    "train_answers[:5]"
   ]
  },
  {
   "cell_type": "code",
   "execution_count": 17,
   "metadata": {},
   "outputs": [],
   "source": [
    "# 토큰화\n",
    "def tokenize(sent):\n",
    "    return [ x.strip() for x in re.sub(r\"\\s+|\\b\", '\\f', sent).split('\\f') if x.strip() ] "
   ]
  },
  {
   "cell_type": "code",
   "execution_count": 19,
   "metadata": {},
   "outputs": [],
   "source": [
    "# 단어장을 생성하고, 단어에서 정수로, 정수에서 단어로 맵핑하는 딕셔너리(dictionary) 생성\n",
    "# 스토리와 질문의 가장 긴 길이를 구하여 패딩에 적용\n",
    "# 같은 스토리 내의 여러 문장들을 하나의 문장으로 통합\n",
    "def preprocess_data(train_data, test_data):\n",
    "    counter = FreqDist()\n",
    "    \n",
    "    # 두 문장의 story를 하나의 문장으로 통합하는 함수\n",
    "    flatten = lambda data: reduce(lambda x, y: x + y, data)\n",
    "\n",
    "    # 각 샘플의 길이를 저장하는 리스트\n",
    "    story_len = []\n",
    "    question_len = []\n",
    "    \n",
    "    for stories, questions, answers in [train_data, test_data]:\n",
    "        for story in stories:\n",
    "            stories = tokenize(flatten(story)) # 스토리의 문장들을 펼친 후 토큰화\n",
    "            story_len.append(len(stories)) # 각 story의 길이 저장\n",
    "            for word in stories: # 단어 집합에 단어 추가\n",
    "                counter[word] += 1\n",
    "        for question in questions:\n",
    "            question = tokenize(question)\n",
    "            question_len.append(len(question))\n",
    "            for word in question:\n",
    "                counter[word] += 1\n",
    "        for answer in answers:\n",
    "            answer = tokenize(answer)\n",
    "            for word in answer:\n",
    "                counter[word] += 1\n",
    "\n",
    "    # 단어장 생성\n",
    "    word2idx = {word : (idx + 1) for idx, (word, _) in enumerate(counter.most_common())}\n",
    "    idx2word = {idx : word for word, idx in word2idx.items()}\n",
    "\n",
    "    # 가장 긴 샘플의 길이\n",
    "    story_max_len = np.max(story_len)\n",
    "    question_max_len = np.max(question_len)\n",
    "\n",
    "    return word2idx, idx2word, story_max_len, question_max_len"
   ]
  },
  {
   "cell_type": "code",
   "execution_count": 20,
   "metadata": {},
   "outputs": [],
   "source": [
    "word2idx, idx2word, story_max_len, question_max_len = preprocess_data(train_data, test_data)"
   ]
  },
  {
   "cell_type": "code",
   "execution_count": 21,
   "metadata": {},
   "outputs": [
    {
     "name": "stdout",
     "output_type": "stream",
     "text": [
      "{'to': 1, 'the': 2, '.': 3, 'went': 4, 'Sandra': 5, 'John': 6, 'Daniel': 7, 'Mary': 8, 'travelled': 9, 'journeyed': 10, 'back': 11, 'bathroom': 12, 'garden': 13, 'hallway': 14, 'moved': 15, 'office': 16, 'kitchen': 17, 'bedroom': 18, 'Where': 19, 'is': 20, '?': 21}\n"
     ]
    }
   ],
   "source": [
    "print(word2idx)"
   ]
  },
  {
   "cell_type": "code",
   "execution_count": 22,
   "metadata": {},
   "outputs": [],
   "source": [
    "# 실제 변수로 사용할 단어장의 크기는 패딩을 고려하여 +1을 해주어야함\n",
    "vocab_size = len(word2idx) + 1"
   ]
  },
  {
   "cell_type": "code",
   "execution_count": 23,
   "metadata": {},
   "outputs": [
    {
     "name": "stdout",
     "output_type": "stream",
     "text": [
      "스토리의 최대 길이 : 68\n",
      "질문의 최대 길이 : 4\n"
     ]
    }
   ],
   "source": [
    "print('스토리의 최대 길이 :',story_max_len)\n",
    "print('질문의 최대 길이 :',question_max_len)"
   ]
  },
  {
   "cell_type": "markdown",
   "metadata": {},
   "source": [
    "### 2-2. 패딩, 정수 인코딩, 벡터화"
   ]
  },
  {
   "cell_type": "code",
   "execution_count": 24,
   "metadata": {},
   "outputs": [],
   "source": [
    "def vectorize(data, word2idx, story_maxlen, question_maxlen):\n",
    "    Xs, Xq, Y = [], [], []\n",
    "    flatten = lambda data: reduce(lambda x, y: x + y, data)\n",
    "\n",
    "    stories, questions, answers = data\n",
    "    for story, question, answer in zip(stories, questions, answers):\n",
    "        xs = [word2idx[w] for w in tokenize(flatten(story))]\n",
    "        xq = [word2idx[w] for w in tokenize(question)]\n",
    "        Xs.append(xs)\n",
    "        Xq.append(xq)\n",
    "        Y.append(word2idx[answer])\n",
    "\n",
    "    # 스토리와 질문은 각각의 최대 길이로 패딩\n",
    "    # 정답은 원-핫 인코딩\n",
    "    return pad_sequences(Xs, maxlen=story_maxlen),\\\n",
    "           pad_sequences(Xq, maxlen=question_maxlen),\\\n",
    "           to_categorical(Y, num_classes=len(word2idx) + 1)"
   ]
  },
  {
   "cell_type": "code",
   "execution_count": 25,
   "metadata": {},
   "outputs": [],
   "source": [
    "Xstrain, Xqtrain, Ytrain = vectorize(train_data, word2idx, story_max_len, question_max_len)\n",
    "Xstest, Xqtest, Ytest = vectorize(test_data, word2idx, story_max_len, question_max_len)"
   ]
  },
  {
   "cell_type": "code",
   "execution_count": 26,
   "metadata": {},
   "outputs": [
    {
     "name": "stdout",
     "output_type": "stream",
     "text": [
      "(10000, 68) (10000, 4) (10000, 22) (1000, 68) (1000, 4) (1000, 22)\n"
     ]
    }
   ],
   "source": [
    "print(Xstrain.shape, Xqtrain.shape, Ytrain.shape, Xstest.shape, Xqtest.shape, Ytest.shape)"
   ]
  },
  {
   "cell_type": "markdown",
   "metadata": {},
   "source": [
    "<br><br><br><br>"
   ]
  },
  {
   "cell_type": "markdown",
   "metadata": {},
   "source": [
    "## 3. 메모리 네트워크 구현"
   ]
  },
  {
   "cell_type": "code",
   "execution_count": 27,
   "metadata": {},
   "outputs": [],
   "source": [
    "from tensorflow.keras.models import Sequential, Model\n",
    "from tensorflow.keras.layers import Embedding\n",
    "from tensorflow.keras.layers import Permute, dot, add, concatenate\n",
    "from tensorflow.keras.layers import LSTM, Dense, Dropout, Input, Activation\n",
    "import matplotlib.pyplot as plt"
   ]
  },
  {
   "cell_type": "code",
   "execution_count": 28,
   "metadata": {},
   "outputs": [],
   "source": [
    "train_epochs = 120  # 에포크 횟수\n",
    "batch_size = 32     # 배치 크기\n",
    "embed_size = 50     # 임베딩 크기\n",
    "lstm_size = 64      # LSTM의 크기\n",
    "dropout_rate = 0.30 # 과적합 방지 기법인 드롭아웃 적용 비율"
   ]
  },
  {
   "cell_type": "code",
   "execution_count": 29,
   "metadata": {},
   "outputs": [
    {
     "name": "stdout",
     "output_type": "stream",
     "text": [
      "Stories : Tensor(\"input_1:0\", shape=(None, 68), dtype=float32)\n",
      "Question: Tensor(\"input_2:0\", shape=(None, 4), dtype=float32)\n"
     ]
    }
   ],
   "source": [
    "# 입력을 담아두는 변수 정의\n",
    "input_sequence = Input((story_max_len,))\n",
    "question = Input((question_max_len,))\n",
    " \n",
    "print('Stories :', input_sequence)\n",
    "print('Question:', question)"
   ]
  },
  {
   "cell_type": "markdown",
   "metadata": {},
   "source": [
    "![](https://aiffelstaticprd.blob.core.windows.net/media/images/GN-7-L-02.max-800x600.png)"
   ]
  },
  {
   "cell_type": "code",
   "execution_count": 30,
   "metadata": {},
   "outputs": [],
   "source": [
    "# 스토리를 위한 첫 번째 임베딩. 그림에서의 Embedding A\n",
    "input_encoder_m = Sequential()\n",
    "input_encoder_m.add(Embedding(input_dim=vocab_size, output_dim=embed_size))\n",
    "input_encoder_m.add(Dropout(dropout_rate))\n",
    "# 결과 : (samples, story_max_len, embed_size) / 샘플의 수, 문장의 최대 길이, 임베딩 벡터의 차원\n",
    "\n",
    "\n",
    "# 스토리를 위한 두 번째 임베딩. 그림에서의 Embedding C\n",
    "# 임베딩 벡터의 차원을 question_max_len(질문의 최대 길이)로 한다.\n",
    "input_encoder_c = Sequential()\n",
    "input_encoder_c.add(Embedding(input_dim=vocab_size, output_dim=question_max_len))\n",
    "input_encoder_c.add(Dropout(dropout_rate))\n",
    "# 결과 : (samples, story_max_len, question_max_len) / 샘플의 수, 문장의 최대 길이, 질문의 최대 길이(임베딩 벡터의 차원)"
   ]
  },
  {
   "cell_type": "code",
   "execution_count": 31,
   "metadata": {},
   "outputs": [],
   "source": [
    "# 질문을 위한 임베딩. 그림에서의 Embedding B\n",
    "question_encoder = Sequential()\n",
    "question_encoder.add(Embedding(input_dim=vocab_size, output_dim=embed_size,\n",
    "                               input_length=question_max_len))\n",
    "question_encoder.add(Dropout(dropout_rate))\n",
    "# 결과 : (samples, question_max_len, embed_size) / 샘플의 수, 질문의 최대 길이, 임베딩 벡터의 차원"
   ]
  },
  {
   "cell_type": "code",
   "execution_count": 33,
   "metadata": {},
   "outputs": [
    {
     "name": "stdout",
     "output_type": "stream",
     "text": [
      "Input encoded m Tensor(\"sequential_3/Identity:0\", shape=(None, 68, 50), dtype=float32) \n",
      "\n",
      "Input encoded c Tensor(\"sequential_1_1/Identity:0\", shape=(None, 68, 4), dtype=float32) \n",
      "\n",
      "Question encoded Tensor(\"sequential_2_1/Identity:0\", shape=(None, 4, 50), dtype=float32) \n",
      "\n"
     ]
    }
   ],
   "source": [
    "# 구현된 인코더를 이용해 텍스트를 임베딩으로 변환\n",
    "# 실질적인 임베딩 과정\n",
    "input_encoded_m = input_encoder_m(input_sequence)\n",
    "input_encoded_c = input_encoder_c(input_sequence)\n",
    "question_encoded = question_encoder(question)\n",
    "\n",
    "print('Input encoded m', input_encoded_m, '\\n')\n",
    "print('Input encoded c', input_encoded_c, '\\n')\n",
    "print('Question encoded', question_encoded, '\\n')"
   ]
  },
  {
   "cell_type": "markdown",
   "metadata": {},
   "source": [
    "**스토리 문장과 질문 문장의 매칭 유사도 계산 과정**\n",
    "![](https://aiffelstaticprd.blob.core.windows.net/media/images/GN-7-L-03.max-800x600.png)"
   ]
  },
  {
   "cell_type": "code",
   "execution_count": 34,
   "metadata": {},
   "outputs": [
    {
     "name": "stdout",
     "output_type": "stream",
     "text": [
      "Match shape Tensor(\"activation/Identity:0\", shape=(None, 68, 4), dtype=float32)\n"
     ]
    }
   ],
   "source": [
    "# 스토리 단어들과 질문 단어들 간의 유사도를 구하는 과정\n",
    "# 유사도는 내적을 사용한다.\n",
    "match = dot([input_encoded_m, question_encoded], axes=-1, normalize=False)\n",
    "match = Activation('softmax')(match)\n",
    "print('Match shape', match)\n",
    "# 결과 : (samples, story_max_len, question_max_len) / 샘플의 수, 문장의 최대 길이, 질문의 최대 길이"
   ]
  },
  {
   "cell_type": "code",
   "execution_count": 35,
   "metadata": {},
   "outputs": [
    {
     "name": "stdout",
     "output_type": "stream",
     "text": [
      "Response shape Tensor(\"permute/Identity:0\", shape=(None, 4, 68), dtype=float32)\n"
     ]
    }
   ],
   "source": [
    "# 매칭 유사도 행렬과 질문에 대한 임베딩을 더한다.\n",
    "response = add([match, input_encoded_c])  # (samples, story_maxlen, question_max_len)\n",
    "response = Permute((2, 1))(response)  # (samples, question_max_len, story_maxlen)\n",
    "print('Response shape', response)"
   ]
  },
  {
   "cell_type": "code",
   "execution_count": 36,
   "metadata": {},
   "outputs": [
    {
     "name": "stdout",
     "output_type": "stream",
     "text": [
      "Answer shape Tensor(\"concatenate/Identity:0\", shape=(None, 4, 118), dtype=float32)\n"
     ]
    }
   ],
   "source": [
    "# concatenate the response vector with the question vector sequence\n",
    "answer = concatenate([response, question_encoded])\n",
    "print('Answer shape', answer)\n",
    " \n",
    "answer = LSTM(lstm_size)(answer)  # Generate tensors of shape 32\n",
    "answer = Dropout(dropout_rate)(answer)\n",
    "answer = Dense(vocab_size)(answer)  # (samples, vocab_size)\n",
    "# we output a probability distribution over the vocabulary\n",
    "answer = Activation('softmax')(answer)"
   ]
  },
  {
   "cell_type": "code",
   "execution_count": 38,
   "metadata": {
    "scrolled": true
   },
   "outputs": [
    {
     "name": "stdout",
     "output_type": "stream",
     "text": [
      "Epoch 1/120\n",
      "313/313 [==============================] - 1s 4ms/step - loss: 0.0741 - acc: 0.9762 - val_loss: 0.5257 - val_acc: 0.8700\n",
      "Epoch 2/120\n",
      "313/313 [==============================] - 1s 3ms/step - loss: 0.0760 - acc: 0.9746 - val_loss: 0.5293 - val_acc: 0.8690\n",
      "Epoch 3/120\n",
      "313/313 [==============================] - 1s 4ms/step - loss: 0.0706 - acc: 0.9756 - val_loss: 0.5810 - val_acc: 0.8630\n",
      "Epoch 4/120\n",
      "313/313 [==============================] - 1s 3ms/step - loss: 0.0708 - acc: 0.9791 - val_loss: 0.5026 - val_acc: 0.8750\n",
      "Epoch 5/120\n",
      "313/313 [==============================] - 1s 4ms/step - loss: 0.0606 - acc: 0.9790 - val_loss: 0.5185 - val_acc: 0.8770\n",
      "Epoch 6/120\n",
      "313/313 [==============================] - 1s 3ms/step - loss: 0.0618 - acc: 0.9796 - val_loss: 0.5399 - val_acc: 0.8730\n",
      "Epoch 7/120\n",
      "313/313 [==============================] - 1s 3ms/step - loss: 0.0597 - acc: 0.9822 - val_loss: 0.5259 - val_acc: 0.8690\n",
      "Epoch 8/120\n",
      "313/313 [==============================] - 1s 3ms/step - loss: 0.0615 - acc: 0.9796 - val_loss: 0.5206 - val_acc: 0.8810\n",
      "Epoch 9/120\n",
      "313/313 [==============================] - 1s 4ms/step - loss: 0.0664 - acc: 0.9780 - val_loss: 0.4939 - val_acc: 0.8740\n",
      "Epoch 10/120\n",
      "313/313 [==============================] - 1s 3ms/step - loss: 0.0605 - acc: 0.9800 - val_loss: 0.5095 - val_acc: 0.8740\n",
      "Epoch 11/120\n",
      "313/313 [==============================] - 1s 3ms/step - loss: 0.0659 - acc: 0.9789 - val_loss: 0.5219 - val_acc: 0.8800\n",
      "Epoch 12/120\n",
      "313/313 [==============================] - 1s 3ms/step - loss: 0.0569 - acc: 0.9808 - val_loss: 0.4820 - val_acc: 0.8840\n",
      "Epoch 13/120\n",
      "313/313 [==============================] - 1s 4ms/step - loss: 0.0550 - acc: 0.9801 - val_loss: 0.5100 - val_acc: 0.8760\n",
      "Epoch 14/120\n",
      "313/313 [==============================] - 1s 3ms/step - loss: 0.0586 - acc: 0.9802 - val_loss: 0.5070 - val_acc: 0.8740\n",
      "Epoch 15/120\n",
      "313/313 [==============================] - 1s 4ms/step - loss: 0.0587 - acc: 0.9808 - val_loss: 0.5068 - val_acc: 0.8770\n",
      "Epoch 16/120\n",
      "313/313 [==============================] - 1s 4ms/step - loss: 0.0572 - acc: 0.9816 - val_loss: 0.4917 - val_acc: 0.8750\n",
      "Epoch 17/120\n",
      "313/313 [==============================] - 1s 4ms/step - loss: 0.0489 - acc: 0.9858 - val_loss: 0.5554 - val_acc: 0.8730\n",
      "Epoch 18/120\n",
      "313/313 [==============================] - 1s 4ms/step - loss: 0.0618 - acc: 0.9824 - val_loss: 0.5361 - val_acc: 0.8740\n",
      "Epoch 19/120\n",
      "313/313 [==============================] - 1s 4ms/step - loss: 0.0536 - acc: 0.9832 - val_loss: 0.5258 - val_acc: 0.8710\n",
      "Epoch 20/120\n",
      "313/313 [==============================] - 1s 4ms/step - loss: 0.0515 - acc: 0.9828 - val_loss: 0.5773 - val_acc: 0.8730\n",
      "Epoch 21/120\n",
      "313/313 [==============================] - 1s 4ms/step - loss: 0.0536 - acc: 0.9836 - val_loss: 0.5664 - val_acc: 0.8810\n",
      "Epoch 22/120\n",
      "313/313 [==============================] - 1s 4ms/step - loss: 0.0531 - acc: 0.9832 - val_loss: 0.5359 - val_acc: 0.8860\n",
      "Epoch 23/120\n",
      "313/313 [==============================] - 1s 4ms/step - loss: 0.0503 - acc: 0.9850 - val_loss: 0.5271 - val_acc: 0.8860\n",
      "Epoch 24/120\n",
      "313/313 [==============================] - 1s 4ms/step - loss: 0.0493 - acc: 0.9836 - val_loss: 0.4848 - val_acc: 0.8880\n",
      "Epoch 25/120\n",
      "313/313 [==============================] - 1s 4ms/step - loss: 0.0512 - acc: 0.9842 - val_loss: 0.5326 - val_acc: 0.8760\n",
      "Epoch 26/120\n",
      "313/313 [==============================] - 1s 3ms/step - loss: 0.0507 - acc: 0.9843 - val_loss: 0.6101 - val_acc: 0.8680\n",
      "Epoch 27/120\n",
      "313/313 [==============================] - 1s 3ms/step - loss: 0.0501 - acc: 0.9847 - val_loss: 0.5336 - val_acc: 0.8710\n",
      "Epoch 28/120\n",
      "313/313 [==============================] - 1s 3ms/step - loss: 0.0461 - acc: 0.9865 - val_loss: 0.5963 - val_acc: 0.8780\n",
      "Epoch 29/120\n",
      "313/313 [==============================] - 1s 3ms/step - loss: 0.0440 - acc: 0.9850 - val_loss: 0.5513 - val_acc: 0.8860\n",
      "Epoch 30/120\n",
      "313/313 [==============================] - 1s 4ms/step - loss: 0.0527 - acc: 0.9826 - val_loss: 0.5150 - val_acc: 0.8810\n",
      "Epoch 31/120\n",
      "313/313 [==============================] - 1s 3ms/step - loss: 0.0455 - acc: 0.9860 - val_loss: 0.5227 - val_acc: 0.8820\n",
      "Epoch 32/120\n",
      "313/313 [==============================] - 1s 3ms/step - loss: 0.0485 - acc: 0.9862 - val_loss: 0.5233 - val_acc: 0.8820\n",
      "Epoch 33/120\n",
      "313/313 [==============================] - 1s 3ms/step - loss: 0.0445 - acc: 0.9870 - val_loss: 0.5300 - val_acc: 0.8790\n",
      "Epoch 34/120\n",
      "313/313 [==============================] - 1s 3ms/step - loss: 0.0467 - acc: 0.9857 - val_loss: 0.5734 - val_acc: 0.8730\n",
      "Epoch 35/120\n",
      "313/313 [==============================] - 1s 3ms/step - loss: 0.0470 - acc: 0.9855 - val_loss: 0.5265 - val_acc: 0.8760\n",
      "Epoch 36/120\n",
      "313/313 [==============================] - 1s 3ms/step - loss: 0.0425 - acc: 0.9863 - val_loss: 0.5040 - val_acc: 0.8880\n",
      "Epoch 37/120\n",
      "313/313 [==============================] - 1s 3ms/step - loss: 0.0507 - acc: 0.9855 - val_loss: 0.5671 - val_acc: 0.8770\n",
      "Epoch 38/120\n",
      "313/313 [==============================] - 1s 4ms/step - loss: 0.0402 - acc: 0.9862 - val_loss: 0.5836 - val_acc: 0.8750\n",
      "Epoch 39/120\n",
      "313/313 [==============================] - 1s 3ms/step - loss: 0.0379 - acc: 0.9877 - val_loss: 0.5522 - val_acc: 0.8860\n",
      "Epoch 40/120\n",
      "313/313 [==============================] - 1s 4ms/step - loss: 0.0431 - acc: 0.9854 - val_loss: 0.5361 - val_acc: 0.8880\n",
      "Epoch 41/120\n",
      "313/313 [==============================] - 1s 3ms/step - loss: 0.0375 - acc: 0.9892 - val_loss: 0.5482 - val_acc: 0.8800\n",
      "Epoch 42/120\n",
      "313/313 [==============================] - 1s 4ms/step - loss: 0.0358 - acc: 0.9880 - val_loss: 0.6319 - val_acc: 0.8740\n",
      "Epoch 43/120\n",
      "313/313 [==============================] - 1s 4ms/step - loss: 0.0484 - acc: 0.9858 - val_loss: 0.5167 - val_acc: 0.8800\n",
      "Epoch 44/120\n",
      "313/313 [==============================] - 1s 3ms/step - loss: 0.0437 - acc: 0.9868 - val_loss: 0.5615 - val_acc: 0.8740\n",
      "Epoch 45/120\n",
      "313/313 [==============================] - 1s 4ms/step - loss: 0.0353 - acc: 0.9900 - val_loss: 0.5865 - val_acc: 0.8790\n",
      "Epoch 46/120\n",
      "313/313 [==============================] - 1s 3ms/step - loss: 0.0403 - acc: 0.9880 - val_loss: 0.5419 - val_acc: 0.8890\n",
      "Epoch 47/120\n",
      "313/313 [==============================] - 1s 3ms/step - loss: 0.0351 - acc: 0.9893 - val_loss: 0.5580 - val_acc: 0.8870\n",
      "Epoch 48/120\n",
      "313/313 [==============================] - 1s 3ms/step - loss: 0.0414 - acc: 0.9872 - val_loss: 0.5315 - val_acc: 0.8820\n",
      "Epoch 49/120\n",
      "313/313 [==============================] - 1s 4ms/step - loss: 0.0498 - acc: 0.9868 - val_loss: 0.5397 - val_acc: 0.8840\n",
      "Epoch 50/120\n",
      "313/313 [==============================] - 1s 3ms/step - loss: 0.0334 - acc: 0.9892 - val_loss: 0.5633 - val_acc: 0.8830\n",
      "Epoch 51/120\n",
      "313/313 [==============================] - 1s 4ms/step - loss: 0.0461 - acc: 0.9878 - val_loss: 0.5499 - val_acc: 0.8840\n",
      "Epoch 52/120\n",
      "313/313 [==============================] - 1s 3ms/step - loss: 0.0431 - acc: 0.9889 - val_loss: 0.5647 - val_acc: 0.8790\n",
      "Epoch 53/120\n",
      "313/313 [==============================] - 1s 3ms/step - loss: 0.0347 - acc: 0.9892 - val_loss: 0.5300 - val_acc: 0.8880\n",
      "Epoch 54/120\n",
      "313/313 [==============================] - 1s 4ms/step - loss: 0.0404 - acc: 0.9875 - val_loss: 0.5312 - val_acc: 0.8810\n",
      "Epoch 55/120\n",
      "313/313 [==============================] - 1s 4ms/step - loss: 0.0326 - acc: 0.9894 - val_loss: 0.5559 - val_acc: 0.8770\n",
      "Epoch 56/120\n",
      "313/313 [==============================] - 1s 4ms/step - loss: 0.0409 - acc: 0.9886 - val_loss: 0.5395 - val_acc: 0.8910\n",
      "Epoch 57/120\n",
      "313/313 [==============================] - 1s 3ms/step - loss: 0.0477 - acc: 0.9875 - val_loss: 0.5500 - val_acc: 0.8840\n",
      "Epoch 58/120\n",
      "313/313 [==============================] - 1s 3ms/step - loss: 0.0394 - acc: 0.9877 - val_loss: 0.5470 - val_acc: 0.8880\n",
      "Epoch 59/120\n",
      "313/313 [==============================] - 1s 3ms/step - loss: 0.0340 - acc: 0.9899 - val_loss: 0.5243 - val_acc: 0.8830\n",
      "Epoch 60/120\n",
      "313/313 [==============================] - 1s 4ms/step - loss: 0.0396 - acc: 0.9893 - val_loss: 0.5803 - val_acc: 0.8820\n",
      "Epoch 61/120\n",
      "313/313 [==============================] - 1s 3ms/step - loss: 0.0450 - acc: 0.9890 - val_loss: 0.5513 - val_acc: 0.8840\n",
      "Epoch 62/120\n"
     ]
    },
    {
     "name": "stdout",
     "output_type": "stream",
     "text": [
      "313/313 [==============================] - 1s 4ms/step - loss: 0.0332 - acc: 0.9904 - val_loss: 0.5283 - val_acc: 0.8910\n",
      "Epoch 63/120\n",
      "313/313 [==============================] - 1s 4ms/step - loss: 0.0373 - acc: 0.9893 - val_loss: 0.5360 - val_acc: 0.8880\n",
      "Epoch 64/120\n",
      "313/313 [==============================] - 1s 3ms/step - loss: 0.0363 - acc: 0.9882 - val_loss: 0.5803 - val_acc: 0.8860\n",
      "Epoch 65/120\n",
      "313/313 [==============================] - 1s 4ms/step - loss: 0.0361 - acc: 0.9902 - val_loss: 0.5511 - val_acc: 0.8830\n",
      "Epoch 66/120\n",
      "313/313 [==============================] - 1s 4ms/step - loss: 0.0376 - acc: 0.9892 - val_loss: 0.5040 - val_acc: 0.8880\n",
      "Epoch 67/120\n",
      "313/313 [==============================] - 1s 4ms/step - loss: 0.0332 - acc: 0.9910 - val_loss: 0.5187 - val_acc: 0.8920\n",
      "Epoch 68/120\n",
      "313/313 [==============================] - 1s 3ms/step - loss: 0.0412 - acc: 0.9884 - val_loss: 0.5609 - val_acc: 0.8860\n",
      "Epoch 69/120\n",
      "313/313 [==============================] - 1s 3ms/step - loss: 0.0375 - acc: 0.9889 - val_loss: 0.5304 - val_acc: 0.8930\n",
      "Epoch 70/120\n",
      "313/313 [==============================] - 1s 3ms/step - loss: 0.0326 - acc: 0.9886 - val_loss: 0.5248 - val_acc: 0.8890\n",
      "Epoch 71/120\n",
      "313/313 [==============================] - 1s 3ms/step - loss: 0.0388 - acc: 0.9891 - val_loss: 0.5872 - val_acc: 0.8880\n",
      "Epoch 72/120\n",
      "313/313 [==============================] - 1s 3ms/step - loss: 0.0357 - acc: 0.9894 - val_loss: 0.5582 - val_acc: 0.8960\n",
      "Epoch 73/120\n",
      "313/313 [==============================] - 1s 3ms/step - loss: 0.0346 - acc: 0.9905 - val_loss: 0.5451 - val_acc: 0.8900\n",
      "Epoch 74/120\n",
      "313/313 [==============================] - 1s 3ms/step - loss: 0.0346 - acc: 0.9899 - val_loss: 0.5783 - val_acc: 0.8790\n",
      "Epoch 75/120\n",
      "313/313 [==============================] - 1s 3ms/step - loss: 0.0313 - acc: 0.9908 - val_loss: 0.5012 - val_acc: 0.8960\n",
      "Epoch 76/120\n",
      "313/313 [==============================] - 1s 3ms/step - loss: 0.0430 - acc: 0.9884 - val_loss: 0.5044 - val_acc: 0.8890\n",
      "Epoch 77/120\n",
      "313/313 [==============================] - 1s 3ms/step - loss: 0.0324 - acc: 0.9893 - val_loss: 0.5337 - val_acc: 0.8910\n",
      "Epoch 78/120\n",
      "313/313 [==============================] - 1s 3ms/step - loss: 0.0311 - acc: 0.9904 - val_loss: 0.5262 - val_acc: 0.8950\n",
      "Epoch 79/120\n",
      "313/313 [==============================] - 1s 3ms/step - loss: 0.0316 - acc: 0.9895 - val_loss: 0.5676 - val_acc: 0.8870\n",
      "Epoch 80/120\n",
      "313/313 [==============================] - 1s 3ms/step - loss: 0.0267 - acc: 0.9930 - val_loss: 0.5479 - val_acc: 0.8880\n",
      "Epoch 81/120\n",
      "313/313 [==============================] - 1s 3ms/step - loss: 0.0283 - acc: 0.9917 - val_loss: 0.5344 - val_acc: 0.8870\n",
      "Epoch 82/120\n",
      "313/313 [==============================] - 1s 3ms/step - loss: 0.0288 - acc: 0.9920 - val_loss: 0.5756 - val_acc: 0.8830\n",
      "Epoch 83/120\n",
      "313/313 [==============================] - 1s 3ms/step - loss: 0.0276 - acc: 0.9920 - val_loss: 0.6106 - val_acc: 0.8880\n",
      "Epoch 84/120\n",
      "313/313 [==============================] - 1s 3ms/step - loss: 0.0347 - acc: 0.9904 - val_loss: 0.4988 - val_acc: 0.8950\n",
      "Epoch 85/120\n",
      "313/313 [==============================] - 1s 3ms/step - loss: 0.0337 - acc: 0.9897 - val_loss: 0.5412 - val_acc: 0.8890\n",
      "Epoch 86/120\n",
      "313/313 [==============================] - 1s 3ms/step - loss: 0.0365 - acc: 0.9905 - val_loss: 0.5296 - val_acc: 0.8940\n",
      "Epoch 87/120\n",
      "313/313 [==============================] - 1s 3ms/step - loss: 0.0391 - acc: 0.9883 - val_loss: 0.5443 - val_acc: 0.8930\n",
      "Epoch 88/120\n",
      "313/313 [==============================] - 1s 3ms/step - loss: 0.0272 - acc: 0.9902 - val_loss: 0.5775 - val_acc: 0.8910\n",
      "Epoch 89/120\n",
      "313/313 [==============================] - 1s 3ms/step - loss: 0.0350 - acc: 0.9898 - val_loss: 0.6305 - val_acc: 0.8870\n",
      "Epoch 90/120\n",
      "313/313 [==============================] - 1s 3ms/step - loss: 0.0329 - acc: 0.9911 - val_loss: 0.6071 - val_acc: 0.8860\n",
      "Epoch 91/120\n",
      "313/313 [==============================] - 1s 3ms/step - loss: 0.0292 - acc: 0.9902 - val_loss: 0.5785 - val_acc: 0.8840\n",
      "Epoch 92/120\n",
      "313/313 [==============================] - 1s 3ms/step - loss: 0.0323 - acc: 0.9919 - val_loss: 0.5641 - val_acc: 0.8860\n",
      "Epoch 93/120\n",
      "313/313 [==============================] - 1s 3ms/step - loss: 0.0325 - acc: 0.9914 - val_loss: 0.5743 - val_acc: 0.8860\n",
      "Epoch 94/120\n",
      "313/313 [==============================] - 1s 3ms/step - loss: 0.0316 - acc: 0.9914 - val_loss: 0.5851 - val_acc: 0.8940\n",
      "Epoch 95/120\n",
      "313/313 [==============================] - 1s 3ms/step - loss: 0.0332 - acc: 0.9906 - val_loss: 0.5844 - val_acc: 0.8940\n",
      "Epoch 96/120\n",
      "313/313 [==============================] - 1s 3ms/step - loss: 0.0201 - acc: 0.9931 - val_loss: 0.5716 - val_acc: 0.8870\n",
      "Epoch 97/120\n",
      "313/313 [==============================] - 1s 3ms/step - loss: 0.0370 - acc: 0.9908 - val_loss: 0.5923 - val_acc: 0.8850\n",
      "Epoch 98/120\n",
      "313/313 [==============================] - 1s 3ms/step - loss: 0.0330 - acc: 0.9906 - val_loss: 0.5933 - val_acc: 0.8780\n",
      "Epoch 99/120\n",
      "313/313 [==============================] - 1s 3ms/step - loss: 0.0264 - acc: 0.9917 - val_loss: 0.6469 - val_acc: 0.8870\n",
      "Epoch 100/120\n",
      "313/313 [==============================] - 1s 3ms/step - loss: 0.0289 - acc: 0.9922 - val_loss: 0.5975 - val_acc: 0.8850\n",
      "Epoch 101/120\n",
      "313/313 [==============================] - 1s 3ms/step - loss: 0.0261 - acc: 0.9915 - val_loss: 0.7307 - val_acc: 0.8720\n",
      "Epoch 102/120\n",
      "313/313 [==============================] - 1s 3ms/step - loss: 0.0271 - acc: 0.9928 - val_loss: 0.5679 - val_acc: 0.8960\n",
      "Epoch 103/120\n",
      "313/313 [==============================] - 1s 3ms/step - loss: 0.0296 - acc: 0.9926 - val_loss: 0.6375 - val_acc: 0.8820\n",
      "Epoch 104/120\n",
      "313/313 [==============================] - 1s 3ms/step - loss: 0.0273 - acc: 0.9918 - val_loss: 0.6436 - val_acc: 0.8860\n",
      "Epoch 105/120\n",
      "313/313 [==============================] - 1s 3ms/step - loss: 0.0272 - acc: 0.9922 - val_loss: 0.5405 - val_acc: 0.8950\n",
      "Epoch 106/120\n",
      "313/313 [==============================] - 1s 3ms/step - loss: 0.0279 - acc: 0.9931 - val_loss: 0.5738 - val_acc: 0.8930\n",
      "Epoch 107/120\n",
      "313/313 [==============================] - 1s 3ms/step - loss: 0.0280 - acc: 0.9928 - val_loss: 0.5777 - val_acc: 0.8880\n",
      "Epoch 108/120\n",
      "313/313 [==============================] - 1s 3ms/step - loss: 0.0375 - acc: 0.9893 - val_loss: 0.5424 - val_acc: 0.8980\n",
      "Epoch 109/120\n",
      "313/313 [==============================] - 1s 3ms/step - loss: 0.0317 - acc: 0.9921 - val_loss: 0.5737 - val_acc: 0.8900\n",
      "Epoch 110/120\n",
      "313/313 [==============================] - 1s 3ms/step - loss: 0.0336 - acc: 0.9906 - val_loss: 0.5720 - val_acc: 0.8920\n",
      "Epoch 111/120\n",
      "313/313 [==============================] - 1s 3ms/step - loss: 0.0211 - acc: 0.9934 - val_loss: 0.5337 - val_acc: 0.8980\n",
      "Epoch 112/120\n",
      "313/313 [==============================] - 1s 3ms/step - loss: 0.0330 - acc: 0.9911 - val_loss: 0.5956 - val_acc: 0.8910\n",
      "Epoch 113/120\n",
      "313/313 [==============================] - 1s 3ms/step - loss: 0.0253 - acc: 0.9915 - val_loss: 0.5760 - val_acc: 0.8910\n",
      "Epoch 114/120\n",
      "313/313 [==============================] - 1s 3ms/step - loss: 0.0240 - acc: 0.9918 - val_loss: 0.5809 - val_acc: 0.9000\n",
      "Epoch 115/120\n",
      "313/313 [==============================] - 1s 3ms/step - loss: 0.0319 - acc: 0.9931 - val_loss: 0.5085 - val_acc: 0.9080\n",
      "Epoch 116/120\n",
      "313/313 [==============================] - 1s 3ms/step - loss: 0.0312 - acc: 0.9923 - val_loss: 0.6057 - val_acc: 0.8990\n",
      "Epoch 117/120\n",
      "313/313 [==============================] - 1s 3ms/step - loss: 0.0323 - acc: 0.9907 - val_loss: 0.5632 - val_acc: 0.9000\n",
      "Epoch 118/120\n",
      "313/313 [==============================] - 1s 3ms/step - loss: 0.0308 - acc: 0.9918 - val_loss: 0.6074 - val_acc: 0.8900\n",
      "Epoch 119/120\n",
      "313/313 [==============================] - 1s 3ms/step - loss: 0.0231 - acc: 0.9930 - val_loss: 0.6263 - val_acc: 0.8860\n",
      "Epoch 120/120\n",
      "313/313 [==============================] - 1s 3ms/step - loss: 0.0311 - acc: 0.9920 - val_loss: 0.5821 - val_acc: 0.8930\n"
     ]
    }
   ],
   "source": [
    "import os\n",
    "\n",
    "# 모델 컴파일\n",
    "model = Model([input_sequence, question], answer)\n",
    "model.compile(optimizer='rmsprop', loss='categorical_crossentropy',\n",
    "              metrics=['acc'])\n",
    " \n",
    "# 테스트 데이터를 검증 데이터로 사용하면서 모델 훈련 시작\n",
    "history = model.fit([Xstrain, Xqtrain],\n",
    "         Ytrain, batch_size, train_epochs,\n",
    "         validation_data=([Xstest, Xqtest], Ytest))"
   ]
  },
  {
   "cell_type": "code",
   "execution_count": 39,
   "metadata": {},
   "outputs": [],
   "source": [
    "# 훈련 후 모델 저장\n",
    "model_path = os.getenv('HOME')+'/aiffel/gd_14_babi_memory_net/model.h5'\n",
    "model.save(model_path)"
   ]
  },
  {
   "cell_type": "code",
   "execution_count": 40,
   "metadata": {},
   "outputs": [
    {
     "name": "stdout",
     "output_type": "stream",
     "text": [
      "32/32 [==============================] - 0s 2ms/step - loss: 0.5821 - acc: 0.8930\n",
      "\n",
      " 테스트 정확도: 0.8930\n"
     ]
    }
   ],
   "source": [
    "# 테스트 정확도 출력\n",
    "print(\"\\n 테스트 정확도: %.4f\" % (model.evaluate([Xstest, Xqtest], Ytest)[1]))"
   ]
  },
  {
   "cell_type": "code",
   "execution_count": 41,
   "metadata": {},
   "outputs": [
    {
     "data": {
      "image/png": "[encoded data removed]",
      "text/plain": [
       "<Figure size 432x288 with 2 Axes>"
      ]
     },
     "metadata": {
      "needs_background": "light"
     },
     "output_type": "display_data"
    }
   ],
   "source": [
    "# plot accuracy and loss plot\n",
    "plt.subplot(211)\n",
    "plt.title(\"Accuracy\")\n",
    "plt.plot(history.history[\"acc\"], color=\"g\", label=\"train\")\n",
    "plt.plot(history.history[\"val_acc\"], color=\"b\", label=\"validation\")\n",
    "plt.legend(loc=\"best\")\n",
    "\n",
    "plt.subplot(212)\n",
    "plt.title(\"Loss\")\n",
    "plt.plot(history.history[\"loss\"], color=\"g\", label=\"train\")\n",
    "plt.plot(history.history[\"val_loss\"], color=\"b\", label=\"validation\")\n",
    "plt.legend(loc=\"best\")\n",
    "\n",
    "plt.tight_layout()\n",
    "plt.show()\n",
    "\n",
    "# labels\n",
    "ytest = np.argmax(Ytest, axis=1)\n",
    "\n",
    "# get predictions\n",
    "Ytest_ = model.predict([Xstest, Xqtest])\n",
    "ytest_ = np.argmax(Ytest_, axis=1)"
   ]
  },
  {
   "cell_type": "code",
   "execution_count": 42,
   "metadata": {},
   "outputs": [
    {
     "name": "stdout",
     "output_type": "stream",
     "text": [
      "질문                  |실제값    |예측값\n",
      "---------------------------------------\n",
      "Where is John ?     : hallway  hallway\n",
      "Where is Mary ?     : bathroom bathroom\n",
      "Where is Sandra ?   : kitchen  kitchen\n",
      "Where is Sandra ?   : hallway  hallway\n",
      "Where is Sandra ?   : kitchen  kitchen\n",
      "Where is Sandra ?   : hallway  hallway\n",
      "Where is Sandra ?   : garden   garden\n",
      "Where is Daniel ?   : hallway  hallway\n",
      "Where is Sandra ?   : office   garden\n",
      "Where is Daniel ?   : office   kitchen\n",
      "Where is Mary ?     : kitchen  kitchen\n",
      "Where is Mary ?     : garden   garden\n",
      "Where is Daniel ?   : office   office\n",
      "Where is Mary ?     : bedroom  bedroom\n",
      "Where is Mary ?     : bedroom  bedroom\n",
      "Where is John ?     : kitchen  kitchen\n",
      "Where is John ?     : garden   garden\n",
      "Where is John ?     : kitchen  kitchen\n",
      "Where is Daniel ?   : office   kitchen\n",
      "Where is John ?     : kitchen  kitchen\n",
      "Where is Mary ?     : hallway  hallway\n",
      "Where is John ?     : office   office\n",
      "Where is John ?     : office   office\n",
      "Where is Sandra ?   : hallway  hallway\n",
      "Where is Daniel ?   : bedroom  bedroom\n",
      "Where is Sandra ?   : bedroom  bedroom\n",
      "Where is Mary ?     : bedroom  bedroom\n",
      "Where is Daniel ?   : kitchen  kitchen\n",
      "Where is Daniel ?   : kitchen  kitchen\n",
      "Where is Daniel ?   : kitchen  office\n"
     ]
    }
   ],
   "source": [
    "NUM_DISPLAY = 30\n",
    "\n",
    "print(\"{:20}|{:7}|{}\".format(\"질문\", \"실제값\", \"예측값\"))\n",
    "print(39 * \"-\")\n",
    "\n",
    "for i in range(NUM_DISPLAY):\n",
    "    question = \" \".join([idx2word[x] for x in Xqtest[i].tolist()])\n",
    "    label = idx2word[ytest[i]]\n",
    "    prediction = idx2word[ytest_[i]]\n",
    "    print(\"{:20}: {:8} {}\".format(question, label, prediction))"
   ]
  },
  {
   "cell_type": "code",
   "execution_count": null,
   "metadata": {},
   "outputs": [],
   "source": []
  }
 ],
 "metadata": {
  "kernelspec": {
   "display_name": "aiffel",
   "language": "python",
   "name": "aiffel"
  },
  "language_info": {
   "codemirror_mode": {
    "name": "ipython",
    "version": 3
   },
   "file_extension": ".py",
   "mimetype": "text/x-python",
   "name": "python",
   "nbconvert_exporter": "python",
   "pygments_lexer": "ipython3",
   "version": "3.7.9"
  }
 },
 "nbformat": 4,
 "nbformat_minor": 4
}
