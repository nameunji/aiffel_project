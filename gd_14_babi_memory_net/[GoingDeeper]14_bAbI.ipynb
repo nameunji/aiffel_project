{
 "cells": [
  {
   "cell_type": "markdown",
   "metadata": {},
   "source": [
    "# 한국어 QA 모델 만들기"
   ]
  },
  {
   "cell_type": "code",
   "execution_count": 2,
   "metadata": {
    "ExecuteTime": {
     "end_time": "2021-05-09T03:00:33.799510Z",
     "start_time": "2021-05-09T03:00:30.674461Z"
    }
   },
   "outputs": [],
   "source": [
    "from tensorflow.keras.preprocessing.sequence import pad_sequences\n",
    "from tensorflow.keras.utils import to_categorical\n",
    "import numpy as np\n",
    "import tarfile\n",
    "from nltk import FreqDist\n",
    "from functools import reduce\n",
    "import os\n",
    "import re"
   ]
  },
  {
   "cell_type": "markdown",
   "metadata": {},
   "source": [
    "<br><br><br>"
   ]
  },
  {
   "cell_type": "markdown",
   "metadata": {},
   "source": [
    "# 1. 데이터 로드"
   ]
  },
  {
   "cell_type": "code",
   "execution_count": 25,
   "metadata": {
    "ExecuteTime": {
     "end_time": "2021-05-09T07:49:46.856851Z",
     "start_time": "2021-05-09T07:49:46.854521Z"
    }
   },
   "outputs": [],
   "source": [
    "DATA_DIR = os.getenv(\"HOME\") + '/aiffel/gd_14_babi_memory_net/e-28-korean/'\n",
    "TRAIN_FILE = os.path.join(DATA_DIR, 'qa1_single-supporting-fact_train_kor.txt')\n",
    "TEST_FILE = os.path.join(DATA_DIR, 'qa1_single-supporting-fact_test_kor.txt')"
   ]
  },
  {
   "cell_type": "code",
   "execution_count": 26,
   "metadata": {
    "ExecuteTime": {
     "end_time": "2021-05-09T07:49:47.668112Z",
     "start_time": "2021-05-09T07:49:47.655940Z"
    },
    "scrolled": true
   },
   "outputs": [
    {
     "name": "stdout",
     "output_type": "stream",
     "text": [
      "1 필웅이는 화장실로 갔습니다.\n",
      "2 은경이는 복도로 이동했습니다.\n",
      "3 필웅이는 어디야? \t화장실\t1\n",
      "4 수종이는 복도로 복귀했습니다.\n",
      "5 경임이는 정원으로 갔습니다.\n",
      "6 수종이는 어디야? \t복도\t4\n",
      "7 은경이는 사무실로 갔습니다.\n",
      "8 경임이는 화장실로 뛰어갔습니다.\n",
      "9 수종이는 어디야? \t복도\t4\n",
      "10 필웅이는 복도로 갔습니다.\n",
      "11 수종이는 사무실로 가버렸습니다.\n",
      "12 수종이는 어디야? \t사무실\t11\n",
      "13 은경이는 정원으로 복귀했습니다.\n",
      "14 은경이는 침실로 갔습니다.\n",
      "15 경임이는 어디야? \t화장실\t8\n",
      "1 경임이는 사무실로 가버렸습니다.\n",
      "2 경임이는 화장실로 이동했습니다.\n",
      "3 경임이는 어디야? \t화장실\t2\n",
      "4 필웅이는 침실로 이동했습니다.\n",
      "5 수종이는 복도로 갔습니다.\n"
     ]
    }
   ],
   "source": [
    "# 훈련데이터에서 20개 문장 출력\n",
    "i = 0\n",
    "lines = open(TRAIN_FILE , \"rb\")\n",
    "for line in lines:\n",
    "    line = line.decode(\"utf-8\").strip()\n",
    "    # lno, text = line.split(\" \", 1) # ID와 TEXT 분리\n",
    "    i = i + 1\n",
    "    print(line)\n",
    "    if i == 20:\n",
    "        break"
   ]
  },
  {
   "cell_type": "markdown",
   "metadata": {},
   "source": [
    "<br><br><br>"
   ]
  },
  {
   "cell_type": "markdown",
   "metadata": {},
   "source": [
    "# 2. 데이터 전처리"
   ]
  },
  {
   "cell_type": "code",
   "execution_count": 27,
   "metadata": {
    "ExecuteTime": {
     "end_time": "2021-05-09T07:49:49.283163Z",
     "start_time": "2021-05-09T07:49:49.264714Z"
    }
   },
   "outputs": [],
   "source": [
    "def read_data(dir):\n",
    "    stories, questions, answers = [], [], [] # 각각 스토리, 질문, 답변을 저장할 예정\n",
    "    story_temp = [] # 현재 시점의 스토리 임시 저장\n",
    "    lines = open(dir, \"rb\")\n",
    "\n",
    "    for line in lines:\n",
    "        line = line.decode(\"utf-8\") # b' 제거\n",
    "        line = line.strip() # '\\n' 제거\n",
    "        idx, text = line.split(\" \", 1) # 맨 앞에 있는 id number 분리\n",
    "        # 여기까지는 모든 줄에 적용되는 전처리\n",
    "\n",
    "        if int(idx) == 1:\n",
    "            story_temp = []\n",
    "        \n",
    "        if \"\\t\" in text: # 현재 읽는 줄이 질문 (tab) 답변 (tab)인 경우\n",
    "            question, answer, _ = text.split(\"\\t\") # 질문과 답변을 각각 저장\n",
    "            stories.append([x for x in story_temp if x]) # 지금까지의 누적 스토리를 스토리에 저장\n",
    "            questions.append(question)\n",
    "            answers.append(answer)\n",
    "\n",
    "        else: # 현재 읽는 줄이 스토리인 경우\n",
    "            story_temp.append(text) # 임시 저장\n",
    "\n",
    "    lines.close()\n",
    "    return stories, questions, answers"
   ]
  },
  {
   "cell_type": "code",
   "execution_count": 28,
   "metadata": {
    "ExecuteTime": {
     "end_time": "2021-05-09T07:49:50.110634Z",
     "start_time": "2021-05-09T07:49:50.055740Z"
    }
   },
   "outputs": [],
   "source": [
    "train_data = read_data(TRAIN_FILE)\n",
    "test_data = read_data(TEST_FILE)"
   ]
  },
  {
   "cell_type": "code",
   "execution_count": 29,
   "metadata": {
    "ExecuteTime": {
     "end_time": "2021-05-09T07:49:51.349616Z",
     "start_time": "2021-05-09T07:49:51.298718Z"
    }
   },
   "outputs": [],
   "source": [
    "train_stories, train_questions, train_answers = read_data(TRAIN_FILE)\n",
    "test_stories, test_questions, test_answers = read_data(TEST_FILE)"
   ]
  },
  {
   "cell_type": "code",
   "execution_count": 30,
   "metadata": {
    "ExecuteTime": {
     "end_time": "2021-05-09T07:49:51.944615Z",
     "start_time": "2021-05-09T07:49:51.939460Z"
    }
   },
   "outputs": [
    {
     "name": "stdout",
     "output_type": "stream",
     "text": [
      "train 스토리 개수: 10000\n",
      "train 질문 개수: 10000\n",
      "train 답변 개수: 10000\n",
      "test 스토리 개수: 1000\n",
      "test 질문 개수: 1000\n",
      "test 답변 개수: 1000\n"
     ]
    }
   ],
   "source": [
    "print(\"train 스토리 개수:\", len(train_stories))\n",
    "print(\"train 질문 개수:\", len(train_questions))\n",
    "print(\"train 답변 개수:\", len(train_answers))\n",
    "print(\"test 스토리 개수:\", len(test_stories))\n",
    "print(\"test 질문 개수:\", len(test_questions))\n",
    "print(\"test 답변 개수:\", len(test_answers))"
   ]
  },
  {
   "cell_type": "code",
   "execution_count": 31,
   "metadata": {
    "ExecuteTime": {
     "end_time": "2021-05-09T07:49:52.634945Z",
     "start_time": "2021-05-09T07:49:52.627760Z"
    }
   },
   "outputs": [
    {
     "name": "stdout",
     "output_type": "stream",
     "text": [
      "['필웅이는 화장실로 갔습니다.', '은경이는 복도로 이동했습니다.', '수종이는 복도로 복귀했습니다.', '경임이는 정원으로 갔습니다.', '은경이는 사무실로 갔습니다.', '경임이는 화장실로 뛰어갔습니다.']\n",
      "수종이는 어디야? \n",
      "복도\n"
     ]
    }
   ],
   "source": [
    "print(train_stories[2])\n",
    "print(train_questions[2])\n",
    "print(train_answers[2])"
   ]
  },
  {
   "cell_type": "markdown",
   "metadata": {},
   "source": [
    "<br><br><br>"
   ]
  },
  {
   "cell_type": "markdown",
   "metadata": {},
   "source": [
    "# 2. 토크나이저"
   ]
  },
  {
   "cell_type": "code",
   "execution_count": 32,
   "metadata": {
    "ExecuteTime": {
     "end_time": "2021-05-09T07:49:54.742059Z",
     "start_time": "2021-05-09T07:49:54.576871Z"
    }
   },
   "outputs": [
    {
     "name": "stderr",
     "output_type": "stream",
     "text": [
      "/home/ssac14/anaconda3/envs/aiffel/lib/python3.7/site-packages/konlpy/tag/_okt.py:16: UserWarning: \"Twitter\" has changed to \"Okt\" since KoNLPy v0.4.5.\n",
      "  warn('\"Twitter\" has changed to \"Okt\" since KoNLPy v0.4.5.')\n"
     ]
    }
   ],
   "source": [
    "from ckonlpy.tag import Twitter\n",
    "\n",
    "twitter = Twitter()\n",
    "\n",
    "twitter.add_dictionary('은경이', 'Noun')\n",
    "twitter.add_dictionary('필웅이', 'Noun')\n",
    "twitter.add_dictionary('수종이', 'Noun')\n",
    "twitter.add_dictionary('경임이', 'Noun')"
   ]
  },
  {
   "cell_type": "code",
   "execution_count": 33,
   "metadata": {
    "ExecuteTime": {
     "end_time": "2021-05-09T07:49:55.301596Z",
     "start_time": "2021-05-09T07:49:55.270214Z"
    }
   },
   "outputs": [
    {
     "data": {
      "text/plain": [
       "['은경이', '는', '사무실', '로', '갔습니다', '.']"
      ]
     },
     "execution_count": 33,
     "metadata": {},
     "output_type": "execute_result"
    }
   ],
   "source": [
    "twitter.morphs('은경이는 사무실로 갔습니다.')"
   ]
  },
  {
   "cell_type": "code",
   "execution_count": 34,
   "metadata": {
    "ExecuteTime": {
     "end_time": "2021-05-09T07:49:56.202871Z",
     "start_time": "2021-05-09T07:49:56.197269Z"
    }
   },
   "outputs": [],
   "source": [
    "# 토큰화\n",
    "def tokenize(sent):\n",
    "    return twitter.morphs(sent)"
   ]
  },
  {
   "cell_type": "code",
   "execution_count": 35,
   "metadata": {
    "ExecuteTime": {
     "end_time": "2021-05-09T07:49:58.221632Z",
     "start_time": "2021-05-09T07:49:58.204051Z"
    }
   },
   "outputs": [],
   "source": [
    "# 단어장을 생성하고, 단어에서 정수로, 정수에서 단어로 맵핑하는 딕셔너리(dictionary) 생성\n",
    "# 스토리와 질문의 가장 긴 길이를 구하여 패딩에 적용\n",
    "# 같은 스토리 내의 여러 문장들을 하나의 문장으로 통합\n",
    "def preprocess_data(train_data, test_data):\n",
    "    counter = FreqDist()\n",
    "    \n",
    "    # 두 문장의 story를 하나의 문장으로 통합하는 함수\n",
    "    flatten = lambda data: reduce(lambda x, y: x + y, data)\n",
    "\n",
    "    # 각 샘플의 길이를 저장하는 리스트\n",
    "    story_len = []\n",
    "    question_len = []\n",
    "    \n",
    "    for stories, questions, answers in [train_data, test_data]:\n",
    "        for story in stories:\n",
    "            stories = tokenize(flatten(story)) # 스토리의 문장들을 펼친 후 토큰화\n",
    "            story_len.append(len(stories)) # 각 story의 길이 저장\n",
    "            for word in stories: # 단어 집합에 단어 추가\n",
    "                counter[word] += 1\n",
    "        for question in questions:\n",
    "            question = tokenize(question)\n",
    "            question_len.append(len(question))\n",
    "            for word in question:\n",
    "                counter[word] += 1\n",
    "        for answer in answers:\n",
    "            answer = tokenize(answer)\n",
    "            for word in answer:\n",
    "                counter[word] += 1\n",
    "\n",
    "    # 단어장 생성\n",
    "    word2idx = {word : (idx + 1) for idx, (word, _) in enumerate(counter.most_common())}\n",
    "    idx2word = {idx : word for word, idx in word2idx.items()}\n",
    "\n",
    "    # 가장 긴 샘플의 길이\n",
    "    story_max_len = np.max(story_len)\n",
    "    question_max_len = np.max(question_len)\n",
    "\n",
    "    return word2idx, idx2word, story_max_len, question_max_len"
   ]
  },
  {
   "cell_type": "code",
   "execution_count": 36,
   "metadata": {
    "ExecuteTime": {
     "end_time": "2021-05-09T07:50:54.246023Z",
     "start_time": "2021-05-09T07:50:12.336599Z"
    }
   },
   "outputs": [],
   "source": [
    "word2idx, idx2word, story_max_len, question_max_len = preprocess_data(train_data, test_data)"
   ]
  },
  {
   "cell_type": "code",
   "execution_count": 37,
   "metadata": {
    "ExecuteTime": {
     "end_time": "2021-05-09T07:51:41.137597Z",
     "start_time": "2021-05-09T07:51:41.131519Z"
    }
   },
   "outputs": [
    {
     "name": "stdout",
     "output_type": "stream",
     "text": [
      "{'는': 1, '.': 2, '로': 3, '했습니다': 4, '으로': 5, '경임이': 6, '은경이': 7, '수종이': 8, '필웅이': 9, '이동': 10, '가버렸습니다': 11, '뛰어갔습니다': 12, '복귀': 13, '화장실': 14, '정원': 15, '복도': 16, '갔습니다': 17, '사무실': 18, '부엌': 19, '침실': 20, '어디': 21, '야': 22, '?': 23}\n"
     ]
    }
   ],
   "source": [
    "print(word2idx)"
   ]
  },
  {
   "cell_type": "code",
   "execution_count": 38,
   "metadata": {
    "ExecuteTime": {
     "end_time": "2021-05-09T07:52:11.721713Z",
     "start_time": "2021-05-09T07:52:11.716377Z"
    }
   },
   "outputs": [],
   "source": [
    "# 실제 변수로 사용할 단어장의 크기는 패딩을 고려하여 +1을 해주어야함\n",
    "vocab_size = len(word2idx) + 1"
   ]
  },
  {
   "cell_type": "code",
   "execution_count": 39,
   "metadata": {
    "ExecuteTime": {
     "end_time": "2021-05-09T07:52:19.880055Z",
     "start_time": "2021-05-09T07:52:19.876327Z"
    }
   },
   "outputs": [
    {
     "name": "stdout",
     "output_type": "stream",
     "text": [
      "스토리의 최대 길이 : 70\n",
      "질문의 최대 길이 : 5\n"
     ]
    }
   ],
   "source": [
    "print('스토리의 최대 길이 :',story_max_len)\n",
    "print('질문의 최대 길이 :',question_max_len)"
   ]
  },
  {
   "cell_type": "markdown",
   "metadata": {},
   "source": [
    "<br><br><br>"
   ]
  },
  {
   "cell_type": "markdown",
   "metadata": {},
   "source": [
    "# 2. 형태소 분석 후 불용어 처리"
   ]
  },
  {
   "cell_type": "code",
   "execution_count": 40,
   "metadata": {
    "ExecuteTime": {
     "end_time": "2021-05-09T08:16:42.366378Z",
     "start_time": "2021-05-09T08:16:42.361864Z"
    }
   },
   "outputs": [],
   "source": [
    "def vectorize(data, word2idx, story_maxlen, question_maxlen):\n",
    "    Xs, Xq, Y = [], [], []\n",
    "    flatten = lambda data: reduce(lambda x, y: x + y, data)\n",
    "\n",
    "    stories, questions, answers = data\n",
    "    for story, question, answer in zip(stories, questions, answers):\n",
    "        xs = [word2idx[w] for w in tokenize(flatten(story))]\n",
    "        xq = [word2idx[w] for w in tokenize(question)]\n",
    "        Xs.append(xs)\n",
    "        Xq.append(xq)\n",
    "        Y.append(word2idx[answer])\n",
    "\n",
    "    # 스토리와 질문은 각각의 최대 길이로 패딩\n",
    "    # 정답은 원-핫 인코딩\n",
    "    return pad_sequences(Xs, maxlen=story_maxlen),\\\n",
    "           pad_sequences(Xq, maxlen=question_maxlen),\\\n",
    "           to_categorical(Y, num_classes=len(word2idx) + 1)"
   ]
  },
  {
   "cell_type": "code",
   "execution_count": 41,
   "metadata": {
    "ExecuteTime": {
     "end_time": "2021-05-09T08:41:46.418338Z",
     "start_time": "2021-05-09T08:41:05.664014Z"
    }
   },
   "outputs": [],
   "source": [
    "Xstrain, Xqtrain, Ytrain = vectorize(train_data, word2idx, story_max_len, question_max_len)\n",
    "Xstest, Xqtest, Ytest = vectorize(test_data, word2idx, story_max_len, question_max_len)"
   ]
  },
  {
   "cell_type": "code",
   "execution_count": 43,
   "metadata": {
    "ExecuteTime": {
     "end_time": "2021-05-09T08:42:12.537804Z",
     "start_time": "2021-05-09T08:42:12.533510Z"
    }
   },
   "outputs": [
    {
     "data": {
      "text/plain": [
       "(array([ 0,  0,  0,  0,  0,  0,  0,  0,  0,  0,  0,  0,  0,  0,  0,  0,  0,\n",
       "         0,  0,  0,  0,  0,  0,  0,  0,  0,  0,  0,  0,  0,  0,  0,  0,  0,\n",
       "         0,  0,  0,  0,  0,  0,  0,  0,  0,  0,  0,  0,  0,  0,  0,  0,  0,\n",
       "         0,  0,  0,  0,  0,  0,  9,  1, 14,  3, 17,  2,  7,  1, 16,  3, 10,\n",
       "         4,  2], dtype=int32),\n",
       " array([ 9,  1, 21, 22, 23], dtype=int32),\n",
       " array([0., 0., 0., 0., 0., 0., 0., 0., 0., 0., 0., 0., 0., 0., 1., 0., 0.,\n",
       "        0., 0., 0., 0., 0., 0., 0.], dtype=float32))"
      ]
     },
     "execution_count": 43,
     "metadata": {},
     "output_type": "execute_result"
    }
   ],
   "source": [
    "Xstrain[0], Xqtrain[0], Ytrain[0]"
   ]
  },
  {
   "cell_type": "code",
   "execution_count": 44,
   "metadata": {
    "ExecuteTime": {
     "end_time": "2021-05-09T08:43:12.573716Z",
     "start_time": "2021-05-09T08:43:12.570640Z"
    }
   },
   "outputs": [
    {
     "name": "stdout",
     "output_type": "stream",
     "text": [
      "(10000, 70) (10000, 5) (10000, 24)\n",
      "(1000, 70) (1000, 5) (1000, 24)\n"
     ]
    }
   ],
   "source": [
    "print(Xstrain.shape, Xqtrain.shape, Ytrain.shape)\n",
    "print(Xstest.shape, Xqtest.shape, Ytest.shape)"
   ]
  },
  {
   "cell_type": "markdown",
   "metadata": {},
   "source": [
    "<br><br><br>"
   ]
  },
  {
   "cell_type": "markdown",
   "metadata": {},
   "source": [
    "# 3. 한국어에서의 모델 정확도 확인"
   ]
  },
  {
   "cell_type": "markdown",
   "metadata": {},
   "source": [
    "## 3-1. 메모리네트워크 설계"
   ]
  },
  {
   "cell_type": "code",
   "execution_count": 46,
   "metadata": {
    "ExecuteTime": {
     "end_time": "2021-05-09T08:53:46.582714Z",
     "start_time": "2021-05-09T08:53:46.399176Z"
    }
   },
   "outputs": [],
   "source": [
    "from tensorflow.keras.models import Sequential, Model\n",
    "from tensorflow.keras.layers import Embedding\n",
    "from tensorflow.keras.layers import Permute, dot, add, concatenate\n",
    "from tensorflow.keras.layers import LSTM, Dense, Dropout, Input, Activation\n",
    "import matplotlib.pyplot as plt"
   ]
  },
  {
   "cell_type": "code",
   "execution_count": 47,
   "metadata": {
    "ExecuteTime": {
     "end_time": "2021-05-09T08:53:51.749213Z",
     "start_time": "2021-05-09T08:53:51.741650Z"
    }
   },
   "outputs": [],
   "source": [
    "train_epochs = 120  # 에포크 횟수\n",
    "batch_size = 32     # 배치 크기\n",
    "embed_size = 50     # 임베딩 크기\n",
    "lstm_size = 64      # LSTM의 크기\n",
    "dropout_rate = 0.30 # 과적합 방지 기법인 드롭아웃 적용 비율"
   ]
  },
  {
   "cell_type": "code",
   "execution_count": 48,
   "metadata": {
    "ExecuteTime": {
     "end_time": "2021-05-09T08:53:56.937808Z",
     "start_time": "2021-05-09T08:53:56.923745Z"
    }
   },
   "outputs": [
    {
     "name": "stdout",
     "output_type": "stream",
     "text": [
      "Stories : Tensor(\"input_1:0\", shape=(None, 70), dtype=float32)\n",
      "Question: Tensor(\"input_2:0\", shape=(None, 5), dtype=float32)\n"
     ]
    }
   ],
   "source": [
    "# 입력을 담아두는 변수 정의\n",
    "input_sequence = Input((story_max_len,))\n",
    "question = Input((question_max_len,))\n",
    " \n",
    "print('Stories :', input_sequence)\n",
    "print('Question:', question)"
   ]
  },
  {
   "cell_type": "code",
   "execution_count": 49,
   "metadata": {
    "ExecuteTime": {
     "end_time": "2021-05-09T08:56:29.962200Z",
     "start_time": "2021-05-09T08:56:29.560032Z"
    }
   },
   "outputs": [],
   "source": [
    "# 스토리를 위한 첫 번째 임베딩. 그림에서의 Embedding A\n",
    "input_encoder_m = Sequential()\n",
    "input_encoder_m.add(Embedding(input_dim=vocab_size, output_dim=embed_size))\n",
    "input_encoder_m.add(Dropout(dropout_rate))\n",
    "# 결과 : (samples, story_max_len, embed_size) / 샘플의 수, 문장의 최대 길이, 임베딩 벡터의 차원\n",
    "\n",
    "\n",
    "# 스토리를 위한 두 번째 임베딩. 그림에서의 Embedding C\n",
    "# 임베딩 벡터의 차원을 question_max_len(질문의 최대 길이)로 한다.\n",
    "input_encoder_c = Sequential()\n",
    "input_encoder_c.add(Embedding(input_dim=vocab_size, output_dim=question_max_len))\n",
    "input_encoder_c.add(Dropout(dropout_rate))\n",
    "# 결과 : (samples, story_max_len, question_max_len) / 샘플의 수, 문장의 최대 길이, 질문의 최대 길이(임베딩 벡터의 차원)"
   ]
  },
  {
   "cell_type": "code",
   "execution_count": 50,
   "metadata": {
    "ExecuteTime": {
     "end_time": "2021-05-09T08:56:30.876083Z",
     "start_time": "2021-05-09T08:56:30.855037Z"
    }
   },
   "outputs": [],
   "source": [
    "# 질문을 위한 임베딩. 그림에서의 Embedding B\n",
    "question_encoder = Sequential()\n",
    "question_encoder.add(Embedding(input_dim=vocab_size,\n",
    "                               output_dim=embed_size,\n",
    "                               input_length=question_max_len))\n",
    "question_encoder.add(Dropout(dropout_rate))\n",
    "# 결과 : (samples, question_max_len, embed_size) / 샘플의 수, 질문의 최대 길이, 임베딩 벡터의 차원"
   ]
  },
  {
   "cell_type": "code",
   "execution_count": 51,
   "metadata": {
    "ExecuteTime": {
     "end_time": "2021-05-09T08:58:51.806704Z",
     "start_time": "2021-05-09T08:58:51.761384Z"
    }
   },
   "outputs": [
    {
     "name": "stdout",
     "output_type": "stream",
     "text": [
      "Input encoded m Tensor(\"sequential/Identity:0\", shape=(None, 70, 50), dtype=float32) \n",
      "\n",
      "Input encoded c Tensor(\"sequential_1/Identity:0\", shape=(None, 70, 5), dtype=float32) \n",
      "\n",
      "Question encoded Tensor(\"sequential_2/Identity:0\", shape=(None, 5, 50), dtype=float32) \n",
      "\n"
     ]
    }
   ],
   "source": [
    "# 구현된 인코더를 이용해 텍스트를 임베딩으로 변환\n",
    "# 실질적인 임베딩 과정\n",
    "input_encoded_m = input_encoder_m(input_sequence)\n",
    "input_encoded_c = input_encoder_c(input_sequence)\n",
    "question_encoded = question_encoder(question)\n",
    "\n",
    "print('Input encoded m', input_encoded_m, '\\n')\n",
    "print('Input encoded c', input_encoded_c, '\\n')\n",
    "print('Question encoded', question_encoded, '\\n')"
   ]
  },
  {
   "cell_type": "code",
   "execution_count": 52,
   "metadata": {
    "ExecuteTime": {
     "end_time": "2021-05-09T08:59:08.373664Z",
     "start_time": "2021-05-09T08:59:08.357058Z"
    }
   },
   "outputs": [
    {
     "name": "stdout",
     "output_type": "stream",
     "text": [
      "Match shape Tensor(\"activation/Identity:0\", shape=(None, 70, 5), dtype=float32)\n"
     ]
    }
   ],
   "source": [
    "# 스토리 단어들과 질문 단어들 간의 유사도를 구하는 과정\n",
    "# 유사도는 내적을 사용한다.\n",
    "match = dot([input_encoded_m, question_encoded], axes=-1, normalize=False)\n",
    "match = Activation('softmax')(match)\n",
    "print('Match shape', match)\n",
    "# 결과 : (samples, story_max_len, question_max_len) / 샘플의 수, 문장의 최대 길이, 질문의 최대 길이"
   ]
  },
  {
   "cell_type": "code",
   "execution_count": 53,
   "metadata": {
    "ExecuteTime": {
     "end_time": "2021-05-09T08:59:10.259825Z",
     "start_time": "2021-05-09T08:59:10.251112Z"
    }
   },
   "outputs": [
    {
     "name": "stdout",
     "output_type": "stream",
     "text": [
      "Response shape Tensor(\"permute/Identity:0\", shape=(None, 5, 70), dtype=float32)\n"
     ]
    }
   ],
   "source": [
    "# 매칭 유사도 행렬과 질문에 대한 임베딩을 더한다.\n",
    "response = add([match, input_encoded_c])  # (samples, story_maxlen, question_max_len)\n",
    "response = Permute((2, 1))(response)  # (samples, question_max_len, story_maxlen)\n",
    "print('Response shape', response)"
   ]
  },
  {
   "cell_type": "code",
   "execution_count": 54,
   "metadata": {
    "ExecuteTime": {
     "end_time": "2021-05-09T08:59:13.999676Z",
     "start_time": "2021-05-09T08:59:12.205862Z"
    }
   },
   "outputs": [
    {
     "name": "stdout",
     "output_type": "stream",
     "text": [
      "Answer shape Tensor(\"concatenate/Identity:0\", shape=(None, 5, 120), dtype=float32)\n"
     ]
    }
   ],
   "source": [
    "# concatenate the response vector with the question vector sequence\n",
    "answer = concatenate([response, question_encoded])\n",
    "print('Answer shape', answer)\n",
    " \n",
    "answer = LSTM(lstm_size)(answer)  # Generate tensors of shape 32\n",
    "answer = Dropout(dropout_rate)(answer)\n",
    "answer = Dense(vocab_size)(answer)  # (samples, vocab_size)\n",
    "# we output a probability distribution over the vocabulary\n",
    "answer = Activation('softmax')(answer)"
   ]
  },
  {
   "cell_type": "code",
   "execution_count": 55,
   "metadata": {
    "ExecuteTime": {
     "end_time": "2021-05-09T09:01:20.148075Z",
     "start_time": "2021-05-09T08:59:16.535314Z"
    }
   },
   "outputs": [
    {
     "name": "stdout",
     "output_type": "stream",
     "text": [
      "Epoch 1/120\n",
      "313/313 [==============================] - 1s 5ms/step - loss: 1.8964 - acc: 0.1674 - val_loss: 1.8106 - val_acc: 0.1710\n",
      "Epoch 2/120\n",
      "313/313 [==============================] - 1s 3ms/step - loss: 1.6933 - acc: 0.2708 - val_loss: 1.5689 - val_acc: 0.3600\n",
      "Epoch 3/120\n",
      "313/313 [==============================] - 1s 3ms/step - loss: 1.5646 - acc: 0.3312 - val_loss: 1.5282 - val_acc: 0.3330\n",
      "Epoch 4/120\n",
      "313/313 [==============================] - 1s 3ms/step - loss: 1.5228 - acc: 0.3541 - val_loss: 1.4791 - val_acc: 0.3970\n",
      "Epoch 5/120\n",
      "313/313 [==============================] - 1s 3ms/step - loss: 1.4854 - acc: 0.3773 - val_loss: 1.4570 - val_acc: 0.3980\n",
      "Epoch 6/120\n",
      "313/313 [==============================] - 1s 3ms/step - loss: 1.4653 - acc: 0.4143 - val_loss: 1.4358 - val_acc: 0.4430\n",
      "Epoch 7/120\n",
      "313/313 [==============================] - 1s 3ms/step - loss: 1.4352 - acc: 0.4436 - val_loss: 1.3993 - val_acc: 0.4710\n",
      "Epoch 8/120\n",
      "313/313 [==============================] - 1s 3ms/step - loss: 1.3725 - acc: 0.4803 - val_loss: 1.3523 - val_acc: 0.4940\n",
      "Epoch 9/120\n",
      "313/313 [==============================] - 1s 3ms/step - loss: 1.3342 - acc: 0.5039 - val_loss: 1.3179 - val_acc: 0.5020\n",
      "Epoch 10/120\n",
      "313/313 [==============================] - 1s 3ms/step - loss: 1.3058 - acc: 0.5017 - val_loss: 1.2958 - val_acc: 0.5050\n",
      "Epoch 11/120\n",
      "313/313 [==============================] - 1s 3ms/step - loss: 1.2731 - acc: 0.5131 - val_loss: 1.2807 - val_acc: 0.5060\n",
      "Epoch 12/120\n",
      "313/313 [==============================] - 1s 3ms/step - loss: 1.2536 - acc: 0.5104 - val_loss: 1.2648 - val_acc: 0.5110\n",
      "Epoch 13/120\n",
      "313/313 [==============================] - 1s 3ms/step - loss: 1.2357 - acc: 0.5176 - val_loss: 1.2549 - val_acc: 0.5320\n",
      "Epoch 14/120\n",
      "313/313 [==============================] - 1s 4ms/step - loss: 1.2191 - acc: 0.5228 - val_loss: 1.2517 - val_acc: 0.5250\n",
      "Epoch 15/120\n",
      "313/313 [==============================] - 1s 3ms/step - loss: 1.2038 - acc: 0.5281 - val_loss: 1.2220 - val_acc: 0.5270\n",
      "Epoch 16/120\n",
      "313/313 [==============================] - 1s 3ms/step - loss: 1.1909 - acc: 0.5273 - val_loss: 1.2184 - val_acc: 0.5200\n",
      "Epoch 17/120\n",
      "313/313 [==============================] - 1s 3ms/step - loss: 1.1789 - acc: 0.5281 - val_loss: 1.2276 - val_acc: 0.5300\n",
      "Epoch 18/120\n",
      "313/313 [==============================] - 1s 3ms/step - loss: 1.1696 - acc: 0.5261 - val_loss: 1.2067 - val_acc: 0.5330\n",
      "Epoch 19/120\n",
      "313/313 [==============================] - 1s 3ms/step - loss: 1.1447 - acc: 0.5359 - val_loss: 1.2179 - val_acc: 0.5150\n",
      "Epoch 20/120\n",
      "313/313 [==============================] - 1s 3ms/step - loss: 1.1409 - acc: 0.5365 - val_loss: 1.2068 - val_acc: 0.5240\n",
      "Epoch 21/120\n",
      "313/313 [==============================] - 1s 3ms/step - loss: 1.1299 - acc: 0.5349 - val_loss: 1.2045 - val_acc: 0.5220\n",
      "Epoch 22/120\n",
      "313/313 [==============================] - 1s 3ms/step - loss: 1.1181 - acc: 0.5367 - val_loss: 1.2014 - val_acc: 0.5010\n",
      "Epoch 23/120\n",
      "313/313 [==============================] - 1s 3ms/step - loss: 1.1147 - acc: 0.5366 - val_loss: 1.1966 - val_acc: 0.5320\n",
      "Epoch 24/120\n",
      "313/313 [==============================] - 1s 3ms/step - loss: 1.0985 - acc: 0.5452 - val_loss: 1.2009 - val_acc: 0.5130\n",
      "Epoch 25/120\n",
      "313/313 [==============================] - 1s 3ms/step - loss: 1.0953 - acc: 0.5458 - val_loss: 1.2110 - val_acc: 0.5020\n",
      "Epoch 26/120\n",
      "313/313 [==============================] - 1s 3ms/step - loss: 1.0853 - acc: 0.5495 - val_loss: 1.1975 - val_acc: 0.5200\n",
      "Epoch 27/120\n",
      "313/313 [==============================] - 1s 3ms/step - loss: 1.0791 - acc: 0.5505 - val_loss: 1.1998 - val_acc: 0.5240\n",
      "Epoch 28/120\n",
      "313/313 [==============================] - 1s 3ms/step - loss: 1.0708 - acc: 0.5489 - val_loss: 1.1862 - val_acc: 0.5190\n",
      "Epoch 29/120\n",
      "313/313 [==============================] - 1s 4ms/step - loss: 1.0658 - acc: 0.5573 - val_loss: 1.2033 - val_acc: 0.5090\n",
      "Epoch 30/120\n",
      "313/313 [==============================] - 1s 3ms/step - loss: 1.0557 - acc: 0.5611 - val_loss: 1.1834 - val_acc: 0.5100\n",
      "Epoch 31/120\n",
      "313/313 [==============================] - 1s 3ms/step - loss: 1.0502 - acc: 0.5611 - val_loss: 1.2007 - val_acc: 0.4970\n",
      "Epoch 32/120\n",
      "313/313 [==============================] - 1s 3ms/step - loss: 1.0393 - acc: 0.5653 - val_loss: 1.1989 - val_acc: 0.5160\n",
      "Epoch 33/120\n",
      "313/313 [==============================] - 1s 3ms/step - loss: 1.0382 - acc: 0.5685 - val_loss: 1.1974 - val_acc: 0.5000\n",
      "Epoch 34/120\n",
      "313/313 [==============================] - 1s 3ms/step - loss: 1.0339 - acc: 0.5620 - val_loss: 1.2180 - val_acc: 0.4900\n",
      "Epoch 35/120\n",
      "313/313 [==============================] - 1s 3ms/step - loss: 1.0192 - acc: 0.5765 - val_loss: 1.2111 - val_acc: 0.5010\n",
      "Epoch 36/120\n",
      "313/313 [==============================] - 1s 3ms/step - loss: 1.0147 - acc: 0.5764 - val_loss: 1.2306 - val_acc: 0.5050\n",
      "Epoch 37/120\n",
      "313/313 [==============================] - 1s 3ms/step - loss: 0.9985 - acc: 0.5819 - val_loss: 1.2371 - val_acc: 0.5080\n",
      "Epoch 38/120\n",
      "313/313 [==============================] - 1s 3ms/step - loss: 0.9995 - acc: 0.5841 - val_loss: 1.1948 - val_acc: 0.5000\n",
      "Epoch 39/120\n",
      "313/313 [==============================] - 1s 3ms/step - loss: 0.9879 - acc: 0.5855 - val_loss: 1.2185 - val_acc: 0.5050\n",
      "Epoch 40/120\n",
      "313/313 [==============================] - 1s 3ms/step - loss: 0.9876 - acc: 0.5832 - val_loss: 1.2262 - val_acc: 0.4970\n",
      "Epoch 41/120\n",
      "313/313 [==============================] - 1s 3ms/step - loss: 0.9726 - acc: 0.5906 - val_loss: 1.2216 - val_acc: 0.4820\n",
      "Epoch 42/120\n",
      "313/313 [==============================] - 1s 3ms/step - loss: 0.9669 - acc: 0.5950 - val_loss: 1.2393 - val_acc: 0.4940\n",
      "Epoch 43/120\n",
      "313/313 [==============================] - 1s 3ms/step - loss: 0.9552 - acc: 0.6039 - val_loss: 1.2144 - val_acc: 0.4820\n",
      "Epoch 44/120\n",
      "313/313 [==============================] - 1s 3ms/step - loss: 0.9451 - acc: 0.6069 - val_loss: 1.2262 - val_acc: 0.4920\n",
      "Epoch 45/120\n",
      "313/313 [==============================] - 1s 3ms/step - loss: 0.9467 - acc: 0.6066 - val_loss: 1.1976 - val_acc: 0.5110\n",
      "Epoch 46/120\n",
      "313/313 [==============================] - 1s 3ms/step - loss: 0.9368 - acc: 0.6145 - val_loss: 1.2148 - val_acc: 0.5090\n",
      "Epoch 47/120\n",
      "313/313 [==============================] - 1s 3ms/step - loss: 0.9239 - acc: 0.6266 - val_loss: 1.2070 - val_acc: 0.5220\n",
      "Epoch 48/120\n",
      "313/313 [==============================] - 1s 3ms/step - loss: 0.8841 - acc: 0.6448 - val_loss: 1.1629 - val_acc: 0.5620\n",
      "Epoch 49/120\n",
      "313/313 [==============================] - 1s 3ms/step - loss: 0.8373 - acc: 0.6711 - val_loss: 1.0736 - val_acc: 0.6110\n",
      "Epoch 50/120\n",
      "313/313 [==============================] - 1s 3ms/step - loss: 0.6968 - acc: 0.7451 - val_loss: 0.8184 - val_acc: 0.7160\n",
      "Epoch 51/120\n",
      "313/313 [==============================] - 1s 3ms/step - loss: 0.5728 - acc: 0.7968 - val_loss: 0.7430 - val_acc: 0.7400\n",
      "Epoch 52/120\n",
      "313/313 [==============================] - 1s 3ms/step - loss: 0.5178 - acc: 0.8106 - val_loss: 0.6880 - val_acc: 0.7620\n",
      "Epoch 53/120\n",
      "313/313 [==============================] - 1s 3ms/step - loss: 0.4709 - acc: 0.8257 - val_loss: 0.6418 - val_acc: 0.7750\n",
      "Epoch 54/120\n",
      "313/313 [==============================] - 1s 3ms/step - loss: 0.4343 - acc: 0.8454 - val_loss: 0.5589 - val_acc: 0.7950\n",
      "Epoch 55/120\n",
      "313/313 [==============================] - 1s 3ms/step - loss: 0.3941 - acc: 0.8577 - val_loss: 0.5263 - val_acc: 0.8120\n",
      "Epoch 56/120\n",
      "313/313 [==============================] - 1s 3ms/step - loss: 0.3623 - acc: 0.8712 - val_loss: 0.4874 - val_acc: 0.8260\n",
      "Epoch 57/120\n",
      "313/313 [==============================] - 1s 3ms/step - loss: 0.3403 - acc: 0.8779 - val_loss: 0.4448 - val_acc: 0.8320\n",
      "Epoch 58/120\n",
      "313/313 [==============================] - 1s 3ms/step - loss: 0.3179 - acc: 0.8865 - val_loss: 0.4357 - val_acc: 0.8390\n",
      "Epoch 59/120\n",
      "313/313 [==============================] - 1s 4ms/step - loss: 0.3001 - acc: 0.8949 - val_loss: 0.4555 - val_acc: 0.8430\n",
      "Epoch 60/120\n",
      "313/313 [==============================] - 1s 3ms/step - loss: 0.2818 - acc: 0.8998 - val_loss: 0.4159 - val_acc: 0.8510\n",
      "Epoch 61/120\n",
      "313/313 [==============================] - 1s 3ms/step - loss: 0.2659 - acc: 0.9053 - val_loss: 0.4247 - val_acc: 0.8520\n",
      "Epoch 62/120\n"
     ]
    },
    {
     "name": "stdout",
     "output_type": "stream",
     "text": [
      "313/313 [==============================] - 1s 3ms/step - loss: 0.2522 - acc: 0.9099 - val_loss: 0.3999 - val_acc: 0.8590\n",
      "Epoch 63/120\n",
      "313/313 [==============================] - 1s 3ms/step - loss: 0.2376 - acc: 0.9148 - val_loss: 0.3734 - val_acc: 0.8660\n",
      "Epoch 64/120\n",
      "313/313 [==============================] - 1s 3ms/step - loss: 0.2230 - acc: 0.9219 - val_loss: 0.3790 - val_acc: 0.8680\n",
      "Epoch 65/120\n",
      "313/313 [==============================] - 1s 3ms/step - loss: 0.2046 - acc: 0.9266 - val_loss: 0.3385 - val_acc: 0.8840\n",
      "Epoch 66/120\n",
      "313/313 [==============================] - 1s 3ms/step - loss: 0.2006 - acc: 0.9300 - val_loss: 0.3219 - val_acc: 0.8880\n",
      "Epoch 67/120\n",
      "313/313 [==============================] - 1s 3ms/step - loss: 0.1804 - acc: 0.9361 - val_loss: 0.3175 - val_acc: 0.9040\n",
      "Epoch 68/120\n",
      "313/313 [==============================] - 1s 3ms/step - loss: 0.1649 - acc: 0.9436 - val_loss: 0.2859 - val_acc: 0.9100\n",
      "Epoch 69/120\n",
      "313/313 [==============================] - 1s 3ms/step - loss: 0.1655 - acc: 0.9438 - val_loss: 0.2914 - val_acc: 0.9060\n",
      "Epoch 70/120\n",
      "313/313 [==============================] - 1s 3ms/step - loss: 0.1440 - acc: 0.9493 - val_loss: 0.2662 - val_acc: 0.9140\n",
      "Epoch 71/120\n",
      "313/313 [==============================] - 1s 3ms/step - loss: 0.1394 - acc: 0.9522 - val_loss: 0.2721 - val_acc: 0.9110\n",
      "Epoch 72/120\n",
      "313/313 [==============================] - 1s 3ms/step - loss: 0.1322 - acc: 0.9539 - val_loss: 0.2305 - val_acc: 0.9280\n",
      "Epoch 73/120\n",
      "313/313 [==============================] - 1s 3ms/step - loss: 0.1288 - acc: 0.9566 - val_loss: 0.2464 - val_acc: 0.9280\n",
      "Epoch 74/120\n",
      "313/313 [==============================] - 1s 3ms/step - loss: 0.1234 - acc: 0.9569 - val_loss: 0.2238 - val_acc: 0.9290\n",
      "Epoch 75/120\n",
      "313/313 [==============================] - 1s 3ms/step - loss: 0.1121 - acc: 0.9596 - val_loss: 0.2210 - val_acc: 0.9310\n",
      "Epoch 76/120\n",
      "313/313 [==============================] - 1s 3ms/step - loss: 0.1059 - acc: 0.9634 - val_loss: 0.2208 - val_acc: 0.9350\n",
      "Epoch 77/120\n",
      "313/313 [==============================] - 1s 3ms/step - loss: 0.1014 - acc: 0.9648 - val_loss: 0.2378 - val_acc: 0.9330\n",
      "Epoch 78/120\n",
      "313/313 [==============================] - 1s 3ms/step - loss: 0.0995 - acc: 0.9656 - val_loss: 0.2066 - val_acc: 0.9420\n",
      "Epoch 79/120\n",
      "313/313 [==============================] - 1s 3ms/step - loss: 0.1000 - acc: 0.9637 - val_loss: 0.1962 - val_acc: 0.9420\n",
      "Epoch 80/120\n",
      "313/313 [==============================] - 1s 3ms/step - loss: 0.0931 - acc: 0.9679 - val_loss: 0.2194 - val_acc: 0.9330\n",
      "Epoch 81/120\n",
      "313/313 [==============================] - 1s 3ms/step - loss: 0.0865 - acc: 0.9705 - val_loss: 0.2206 - val_acc: 0.9380\n",
      "Epoch 82/120\n",
      "313/313 [==============================] - 1s 3ms/step - loss: 0.0830 - acc: 0.9717 - val_loss: 0.2196 - val_acc: 0.9380\n",
      "Epoch 83/120\n",
      "313/313 [==============================] - 1s 3ms/step - loss: 0.0780 - acc: 0.9722 - val_loss: 0.2103 - val_acc: 0.9400\n",
      "Epoch 84/120\n",
      "313/313 [==============================] - 1s 3ms/step - loss: 0.0702 - acc: 0.9766 - val_loss: 0.2253 - val_acc: 0.9350\n",
      "Epoch 85/120\n",
      "313/313 [==============================] - 1s 3ms/step - loss: 0.0707 - acc: 0.9745 - val_loss: 0.2593 - val_acc: 0.9250\n",
      "Epoch 86/120\n",
      "313/313 [==============================] - 1s 3ms/step - loss: 0.0697 - acc: 0.9752 - val_loss: 0.2095 - val_acc: 0.9440\n",
      "Epoch 87/120\n",
      "313/313 [==============================] - 1s 3ms/step - loss: 0.0766 - acc: 0.9756 - val_loss: 0.2025 - val_acc: 0.9440\n",
      "Epoch 88/120\n",
      "313/313 [==============================] - 1s 3ms/step - loss: 0.0662 - acc: 0.9769 - val_loss: 0.1898 - val_acc: 0.9530\n",
      "Epoch 89/120\n",
      "313/313 [==============================] - 1s 3ms/step - loss: 0.0684 - acc: 0.9771 - val_loss: 0.2017 - val_acc: 0.9440\n",
      "Epoch 90/120\n",
      "313/313 [==============================] - 1s 3ms/step - loss: 0.0633 - acc: 0.9788 - val_loss: 0.2025 - val_acc: 0.9440\n",
      "Epoch 91/120\n",
      "313/313 [==============================] - 1s 3ms/step - loss: 0.0639 - acc: 0.9778 - val_loss: 0.2107 - val_acc: 0.9420\n",
      "Epoch 92/120\n",
      "313/313 [==============================] - 1s 3ms/step - loss: 0.0590 - acc: 0.9800 - val_loss: 0.2201 - val_acc: 0.9440\n",
      "Epoch 93/120\n",
      "313/313 [==============================] - 1s 3ms/step - loss: 0.0554 - acc: 0.9812 - val_loss: 0.1884 - val_acc: 0.9520\n",
      "Epoch 94/120\n",
      "313/313 [==============================] - 1s 3ms/step - loss: 0.0558 - acc: 0.9809 - val_loss: 0.2069 - val_acc: 0.9420\n",
      "Epoch 95/120\n",
      "313/313 [==============================] - 1s 3ms/step - loss: 0.0488 - acc: 0.9841 - val_loss: 0.2440 - val_acc: 0.9400\n",
      "Epoch 96/120\n",
      "313/313 [==============================] - 1s 3ms/step - loss: 0.0511 - acc: 0.9830 - val_loss: 0.2179 - val_acc: 0.9440\n",
      "Epoch 97/120\n",
      "313/313 [==============================] - 1s 3ms/step - loss: 0.0491 - acc: 0.9844 - val_loss: 0.2057 - val_acc: 0.9500\n",
      "Epoch 98/120\n",
      "313/313 [==============================] - 1s 4ms/step - loss: 0.0549 - acc: 0.9846 - val_loss: 0.1974 - val_acc: 0.9540\n",
      "Epoch 99/120\n",
      "313/313 [==============================] - 1s 3ms/step - loss: 0.0519 - acc: 0.9829 - val_loss: 0.2040 - val_acc: 0.9480\n",
      "Epoch 100/120\n",
      "313/313 [==============================] - 1s 3ms/step - loss: 0.0418 - acc: 0.9867 - val_loss: 0.2008 - val_acc: 0.9510\n",
      "Epoch 101/120\n",
      "313/313 [==============================] - 1s 3ms/step - loss: 0.0416 - acc: 0.9862 - val_loss: 0.2549 - val_acc: 0.9420\n",
      "Epoch 102/120\n",
      "313/313 [==============================] - 1s 3ms/step - loss: 0.0439 - acc: 0.9863 - val_loss: 0.2089 - val_acc: 0.9520\n",
      "Epoch 103/120\n",
      "313/313 [==============================] - 1s 3ms/step - loss: 0.0487 - acc: 0.9852 - val_loss: 0.2144 - val_acc: 0.9520\n",
      "Epoch 104/120\n",
      "313/313 [==============================] - 1s 3ms/step - loss: 0.0438 - acc: 0.9850 - val_loss: 0.2113 - val_acc: 0.9500\n",
      "Epoch 105/120\n",
      "313/313 [==============================] - 1s 3ms/step - loss: 0.0453 - acc: 0.9855 - val_loss: 0.2062 - val_acc: 0.9510\n",
      "Epoch 106/120\n",
      "313/313 [==============================] - 1s 3ms/step - loss: 0.0378 - acc: 0.9869 - val_loss: 0.2316 - val_acc: 0.9470\n",
      "Epoch 107/120\n",
      "313/313 [==============================] - 1s 3ms/step - loss: 0.0374 - acc: 0.9872 - val_loss: 0.2036 - val_acc: 0.9490\n",
      "Epoch 108/120\n",
      "313/313 [==============================] - 1s 3ms/step - loss: 0.0386 - acc: 0.9880 - val_loss: 0.2096 - val_acc: 0.9490\n",
      "Epoch 109/120\n",
      "313/313 [==============================] - 1s 3ms/step - loss: 0.0388 - acc: 0.9884 - val_loss: 0.2706 - val_acc: 0.9360\n",
      "Epoch 110/120\n",
      "313/313 [==============================] - 1s 3ms/step - loss: 0.0378 - acc: 0.9885 - val_loss: 0.2071 - val_acc: 0.9530\n",
      "Epoch 111/120\n",
      "313/313 [==============================] - 1s 3ms/step - loss: 0.0393 - acc: 0.9873 - val_loss: 0.2200 - val_acc: 0.9520\n",
      "Epoch 112/120\n",
      "313/313 [==============================] - 1s 3ms/step - loss: 0.0350 - acc: 0.9886 - val_loss: 0.2008 - val_acc: 0.9480\n",
      "Epoch 113/120\n",
      "313/313 [==============================] - 1s 3ms/step - loss: 0.0348 - acc: 0.9900 - val_loss: 0.1971 - val_acc: 0.9470\n",
      "Epoch 114/120\n",
      "313/313 [==============================] - 1s 3ms/step - loss: 0.0374 - acc: 0.9893 - val_loss: 0.1927 - val_acc: 0.9540\n",
      "Epoch 115/120\n",
      "313/313 [==============================] - 1s 3ms/step - loss: 0.0342 - acc: 0.9901 - val_loss: 0.1943 - val_acc: 0.9540\n",
      "Epoch 116/120\n",
      "313/313 [==============================] - 1s 3ms/step - loss: 0.0313 - acc: 0.9895 - val_loss: 0.2101 - val_acc: 0.9550\n",
      "Epoch 117/120\n",
      "313/313 [==============================] - 1s 3ms/step - loss: 0.0344 - acc: 0.9890 - val_loss: 0.2269 - val_acc: 0.9470\n",
      "Epoch 118/120\n",
      "313/313 [==============================] - 1s 3ms/step - loss: 0.0306 - acc: 0.9899 - val_loss: 0.1984 - val_acc: 0.9560\n",
      "Epoch 119/120\n",
      "313/313 [==============================] - 1s 3ms/step - loss: 0.0293 - acc: 0.9905 - val_loss: 0.2002 - val_acc: 0.9530\n",
      "Epoch 120/120\n",
      "313/313 [==============================] - 1s 3ms/step - loss: 0.0256 - acc: 0.9923 - val_loss: 0.2259 - val_acc: 0.9460\n"
     ]
    }
   ],
   "source": [
    "# 모델 컴파일\n",
    "model = Model([input_sequence, question], answer)\n",
    "model.compile(optimizer='rmsprop', loss='categorical_crossentropy',\n",
    "              metrics=['acc'])\n",
    " \n",
    "# 테스트 데이터를 검증 데이터로 사용하면서 모델 훈련 시작\n",
    "history = model.fit([Xstrain, Xqtrain],\n",
    "         Ytrain, batch_size, train_epochs,\n",
    "         validation_data=([Xstest, Xqtest], Ytest))"
   ]
  },
  {
   "cell_type": "code",
   "execution_count": 56,
   "metadata": {
    "ExecuteTime": {
     "end_time": "2021-05-09T09:05:17.591263Z",
     "start_time": "2021-05-09T09:05:17.544125Z"
    }
   },
   "outputs": [],
   "source": [
    "# 훈련 후 모델 저장\n",
    "model_path = os.getenv('HOME')+'/aiffel/gd_14_babi_memory_net/model_1.h5'\n",
    "model.save(model_path)"
   ]
  },
  {
   "cell_type": "code",
   "execution_count": 57,
   "metadata": {
    "ExecuteTime": {
     "end_time": "2021-05-09T09:05:34.433804Z",
     "start_time": "2021-05-09T09:05:34.339435Z"
    }
   },
   "outputs": [
    {
     "name": "stdout",
     "output_type": "stream",
     "text": [
      "32/32 [==============================] - 0s 2ms/step - loss: 0.2259 - acc: 0.9460\n",
      "\n",
      " 테스트 정확도: 0.9460\n"
     ]
    }
   ],
   "source": [
    "print(\"\\n 테스트 정확도: %.4f\" % (model.evaluate([Xstest, Xqtest], Ytest)[1]))"
   ]
  },
  {
   "cell_type": "code",
   "execution_count": 58,
   "metadata": {
    "ExecuteTime": {
     "end_time": "2021-05-09T09:05:45.591171Z",
     "start_time": "2021-05-09T09:05:44.987629Z"
    }
   },
   "outputs": [
    {
     "data": {
      "image/png": "[encoded data removed]",
      "text/plain": [
       "<Figure size 432x288 with 2 Axes>"
      ]
     },
     "metadata": {
      "needs_background": "light"
     },
     "output_type": "display_data"
    }
   ],
   "source": [
    "# plot accuracy and loss plot\n",
    "plt.subplot(211)\n",
    "plt.title(\"Accuracy\")\n",
    "plt.plot(history.history[\"acc\"], color=\"g\", label=\"train\")\n",
    "plt.plot(history.history[\"val_acc\"], color=\"b\", label=\"validation\")\n",
    "plt.legend(loc=\"best\")\n",
    "\n",
    "plt.subplot(212)\n",
    "plt.title(\"Loss\")\n",
    "plt.plot(history.history[\"loss\"], color=\"g\", label=\"train\")\n",
    "plt.plot(history.history[\"val_loss\"], color=\"b\", label=\"validation\")\n",
    "plt.legend(loc=\"best\")\n",
    "\n",
    "plt.tight_layout()\n",
    "plt.show()\n",
    "\n",
    "# labels\n",
    "ytest = np.argmax(Ytest, axis=1)\n",
    "\n",
    "# get predictions\n",
    "Ytest_ = model.predict([Xstest, Xqtest])\n",
    "ytest_ = np.argmax(Ytest_, axis=1)"
   ]
  },
  {
   "cell_type": "code",
   "execution_count": 59,
   "metadata": {
    "ExecuteTime": {
     "end_time": "2021-05-09T09:06:14.982576Z",
     "start_time": "2021-05-09T09:06:14.974669Z"
    }
   },
   "outputs": [
    {
     "name": "stdout",
     "output_type": "stream",
     "text": [
      "질문                |실제값  |예측값\n",
      "---------------------------------------\n",
      "은경이 는 어디 야 ?        : 복도      복도\n",
      "필웅이 는 어디 야 ?        : 화장실     화장실\n",
      "경임이 는 어디 야 ?        : 부엌      부엌\n",
      "경임이 는 어디 야 ?        : 복도      복도\n",
      "경임이 는 어디 야 ?        : 부엌      부엌\n",
      "경임이 는 어디 야 ?        : 복도      복도\n",
      "경임이 는 어디 야 ?        : 정원      정원\n",
      "수종이 는 어디 야 ?        : 복도      복도\n",
      "경임이 는 어디 야 ?        : 사무실     사무실\n",
      "수종이 는 어디 야 ?        : 사무실     사무실\n",
      "필웅이 는 어디 야 ?        : 부엌      부엌\n",
      "필웅이 는 어디 야 ?        : 정원      정원\n",
      "수종이 는 어디 야 ?        : 사무실     사무실\n",
      "필웅이 는 어디 야 ?        : 침실      침실\n",
      "필웅이 는 어디 야 ?        : 침실      침실\n",
      "은경이 는 어디 야 ?        : 부엌      부엌\n",
      "은경이 는 어디 야 ?        : 정원      정원\n",
      "은경이 는 어디 야 ?        : 부엌      부엌\n",
      "수종이 는 어디 야 ?        : 사무실     사무실\n",
      "은경이 는 어디 야 ?        : 부엌      사무실\n",
      "필웅이 는 어디 야 ?        : 복도      복도\n",
      "은경이 는 어디 야 ?        : 사무실     사무실\n",
      "은경이 는 어디 야 ?        : 사무실     사무실\n",
      "경임이 는 어디 야 ?        : 복도      사무실\n",
      "수종이 는 어디 야 ?        : 침실      침실\n",
      "경임이 는 어디 야 ?        : 침실      침실\n",
      "필웅이 는 어디 야 ?        : 침실      침실\n",
      "수종이 는 어디 야 ?        : 부엌      부엌\n",
      "수종이 는 어디 야 ?        : 부엌      부엌\n",
      "수종이 는 어디 야 ?        : 부엌      사무실\n"
     ]
    }
   ],
   "source": [
    "NUM_DISPLAY = 30\n",
    "\n",
    "print(\"{:18}|{:5}|{}\".format(\"질문\", \"실제값\", \"예측값\"))\n",
    "print(39 * \"-\")\n",
    "\n",
    "for i in range(NUM_DISPLAY):\n",
    "    question = \" \".join([idx2word[x] for x in Xqtest[i].tolist()])\n",
    "    label = idx2word[ytest[i]]\n",
    "    prediction = idx2word[ytest_[i]]\n",
    "    print(\"{:20}: {:7} {}\".format(question, label, prediction))"
   ]
  },
  {
   "cell_type": "markdown",
   "metadata": {},
   "source": [
    "<br><br><br>"
   ]
  },
  {
   "cell_type": "markdown",
   "metadata": {},
   "source": [
    "# 4. 불용어 제거 후 모델 정확도 확인"
   ]
  },
  {
   "cell_type": "code",
   "execution_count": 60,
   "metadata": {
    "ExecuteTime": {
     "end_time": "2021-05-09T10:13:09.964555Z",
     "start_time": "2021-05-09T10:13:09.960141Z"
    }
   },
   "outputs": [],
   "source": [
    "from ckonlpy.tag import Postprocessor\n",
    "\n",
    "postprocessor = Postprocessor(\n",
    "    base_tagger=twitter,\n",
    "    stopwords={'는', '으로', '로', '야'}\n",
    ")"
   ]
  },
  {
   "cell_type": "code",
   "execution_count": 69,
   "metadata": {
    "ExecuteTime": {
     "end_time": "2021-05-09T10:15:58.919248Z",
     "start_time": "2021-05-09T10:15:58.913491Z"
    }
   },
   "outputs": [
    {
     "name": "stdout",
     "output_type": "stream",
     "text": [
      "[('은경이', 'Noun'), ('는', 'Josa'), ('사무실', 'Noun'), ('로', 'Josa'), ('갔습니다', 'Verb'), ('.', 'Punctuation')]\n",
      "[('은경이', 'Noun'), ('사무실', 'Noun'), ('갔습니다', 'Verb'), ('.', 'Punctuation')]\n"
     ]
    }
   ],
   "source": [
    "print(twitter.pos('은경이는 사무실로 갔습니다.'))\n",
    "print(postprocessor.pos('은경이는 사무실로 갔습니다.'))"
   ]
  },
  {
   "cell_type": "code",
   "execution_count": 70,
   "metadata": {
    "ExecuteTime": {
     "end_time": "2021-05-09T10:42:48.415573Z",
     "start_time": "2021-05-09T10:42:48.411876Z"
    }
   },
   "outputs": [],
   "source": [
    "def tokenize(sent):\n",
    "    return [x[0] for x in postprocessor.pos(sent)]"
   ]
  },
  {
   "cell_type": "code",
   "execution_count": 71,
   "metadata": {
    "ExecuteTime": {
     "end_time": "2021-05-09T10:46:13.626816Z",
     "start_time": "2021-05-09T10:45:29.129782Z"
    }
   },
   "outputs": [],
   "source": [
    "word2idx, idx2word, story_max_len, question_max_len = preprocess_data(train_data, test_data)"
   ]
  },
  {
   "cell_type": "code",
   "execution_count": 72,
   "metadata": {
    "ExecuteTime": {
     "end_time": "2021-05-09T10:46:16.138947Z",
     "start_time": "2021-05-09T10:46:16.136473Z"
    }
   },
   "outputs": [
    {
     "name": "stdout",
     "output_type": "stream",
     "text": [
      "{'.': 1, '했습니다': 2, '경임이': 3, '은경이': 4, '수종이': 5, '필웅이': 6, '이동': 7, '가버렸습니다': 8, '뛰어갔습니다': 9, '복귀': 10, '화장실': 11, '정원': 12, '복도': 13, '갔습니다': 14, '사무실': 15, '부엌': 16, '침실': 17, '어디': 18, '?': 19}\n"
     ]
    }
   ],
   "source": [
    "print(word2idx)"
   ]
  },
  {
   "cell_type": "code",
   "execution_count": 73,
   "metadata": {
    "ExecuteTime": {
     "end_time": "2021-05-09T10:46:22.109997Z",
     "start_time": "2021-05-09T10:46:22.107780Z"
    }
   },
   "outputs": [],
   "source": [
    "# 실제 변수로 사용할 단어장의 크기는 패딩을 고려하여 +1을 해주어야함\n",
    "vocab_size = len(word2idx) + 1"
   ]
  },
  {
   "cell_type": "code",
   "execution_count": 74,
   "metadata": {
    "ExecuteTime": {
     "end_time": "2021-05-09T10:46:24.189507Z",
     "start_time": "2021-05-09T10:46:24.182935Z"
    }
   },
   "outputs": [
    {
     "name": "stdout",
     "output_type": "stream",
     "text": [
      "스토리의 최대 길이 : 50\n",
      "질문의 최대 길이 : 3\n"
     ]
    }
   ],
   "source": [
    "print('스토리의 최대 길이 :',story_max_len)\n",
    "print('질문의 최대 길이 :',question_max_len)"
   ]
  },
  {
   "cell_type": "code",
   "execution_count": 75,
   "metadata": {
    "ExecuteTime": {
     "end_time": "2021-05-09T10:48:44.834388Z",
     "start_time": "2021-05-09T10:48:01.155103Z"
    }
   },
   "outputs": [],
   "source": [
    "Xstrain, Xqtrain, Ytrain = vectorize(train_data, word2idx, story_max_len, question_max_len)\n",
    "Xstest, Xqtest, Ytest = vectorize(test_data, word2idx, story_max_len, question_max_len)"
   ]
  },
  {
   "cell_type": "code",
   "execution_count": 76,
   "metadata": {
    "ExecuteTime": {
     "end_time": "2021-05-09T10:48:52.906906Z",
     "start_time": "2021-05-09T10:48:52.897571Z"
    }
   },
   "outputs": [
    {
     "name": "stdout",
     "output_type": "stream",
     "text": [
      "(10000, 50) (10000, 3) (10000, 20)\n",
      "(1000, 50) (1000, 3) (1000, 20)\n"
     ]
    }
   ],
   "source": [
    "print(Xstrain.shape, Xqtrain.shape, Ytrain.shape)\n",
    "print(Xstest.shape, Xqtest.shape, Ytest.shape)"
   ]
  },
  {
   "cell_type": "markdown",
   "metadata": {},
   "source": [
    "### 모델"
   ]
  },
  {
   "cell_type": "code",
   "execution_count": 77,
   "metadata": {
    "ExecuteTime": {
     "end_time": "2021-05-09T10:50:05.022606Z",
     "start_time": "2021-05-09T10:50:05.016748Z"
    }
   },
   "outputs": [
    {
     "name": "stdout",
     "output_type": "stream",
     "text": [
      "Stories : Tensor(\"input_3:0\", shape=(None, 50), dtype=float32)\n",
      "Question: Tensor(\"input_4:0\", shape=(None, 3), dtype=float32)\n"
     ]
    }
   ],
   "source": [
    "# 입력을 담아두는 변수 정의\n",
    "input_sequence = Input((story_max_len,))\n",
    "question = Input((question_max_len,))\n",
    " \n",
    "print('Stories :', input_sequence)\n",
    "print('Question:', question)"
   ]
  },
  {
   "cell_type": "code",
   "execution_count": 78,
   "metadata": {
    "ExecuteTime": {
     "end_time": "2021-05-09T10:50:05.973049Z",
     "start_time": "2021-05-09T10:50:05.932327Z"
    }
   },
   "outputs": [],
   "source": [
    "# 스토리를 위한 첫 번째 임베딩. 그림에서의 Embedding A\n",
    "input_encoder_m = Sequential()\n",
    "input_encoder_m.add(Embedding(input_dim=vocab_size, output_dim=embed_size))\n",
    "input_encoder_m.add(Dropout(dropout_rate))\n",
    "# 결과 : (samples, story_max_len, embed_size) / 샘플의 수, 문장의 최대 길이, 임베딩 벡터의 차원\n",
    "\n",
    "\n",
    "# 스토리를 위한 두 번째 임베딩. 그림에서의 Embedding C\n",
    "# 임베딩 벡터의 차원을 question_max_len(질문의 최대 길이)로 한다.\n",
    "input_encoder_c = Sequential()\n",
    "input_encoder_c.add(Embedding(input_dim=vocab_size, output_dim=question_max_len))\n",
    "input_encoder_c.add(Dropout(dropout_rate))\n",
    "# 결과 : (samples, story_max_len, question_max_len) / 샘플의 수, 문장의 최대 길이, 질문의 최대 길이(임베딩 벡터의 차원)"
   ]
  },
  {
   "cell_type": "code",
   "execution_count": 79,
   "metadata": {
    "ExecuteTime": {
     "end_time": "2021-05-09T10:50:06.712757Z",
     "start_time": "2021-05-09T10:50:06.688780Z"
    }
   },
   "outputs": [],
   "source": [
    "# 질문을 위한 임베딩. 그림에서의 Embedding B\n",
    "question_encoder = Sequential()\n",
    "question_encoder.add(Embedding(input_dim=vocab_size,\n",
    "                               output_dim=embed_size,\n",
    "                               input_length=question_max_len))\n",
    "question_encoder.add(Dropout(dropout_rate))\n",
    "# 결과 : (samples, question_max_len, embed_size) / 샘플의 수, 질문의 최대 길이, 임베딩 벡터의 차원"
   ]
  },
  {
   "cell_type": "code",
   "execution_count": 80,
   "metadata": {
    "ExecuteTime": {
     "end_time": "2021-05-09T10:50:07.801069Z",
     "start_time": "2021-05-09T10:50:07.757268Z"
    }
   },
   "outputs": [
    {
     "name": "stdout",
     "output_type": "stream",
     "text": [
      "Input encoded m Tensor(\"sequential_3/Identity:0\", shape=(None, 50, 50), dtype=float32) \n",
      "\n",
      "Input encoded c Tensor(\"sequential_4/Identity:0\", shape=(None, 50, 3), dtype=float32) \n",
      "\n",
      "Question encoded Tensor(\"sequential_5/Identity:0\", shape=(None, 3, 50), dtype=float32) \n",
      "\n"
     ]
    }
   ],
   "source": [
    "# 구현된 인코더를 이용해 텍스트를 임베딩으로 변환\n",
    "# 실질적인 임베딩 과정\n",
    "input_encoded_m = input_encoder_m(input_sequence)\n",
    "input_encoded_c = input_encoder_c(input_sequence)\n",
    "question_encoded = question_encoder(question)\n",
    "\n",
    "print('Input encoded m', input_encoded_m, '\\n')\n",
    "print('Input encoded c', input_encoded_c, '\\n')\n",
    "print('Question encoded', question_encoded, '\\n')"
   ]
  },
  {
   "cell_type": "code",
   "execution_count": 81,
   "metadata": {
    "ExecuteTime": {
     "end_time": "2021-05-09T10:50:08.611352Z",
     "start_time": "2021-05-09T10:50:08.599399Z"
    }
   },
   "outputs": [
    {
     "name": "stdout",
     "output_type": "stream",
     "text": [
      "Match shape Tensor(\"activation_2/Identity:0\", shape=(None, 50, 3), dtype=float32)\n"
     ]
    }
   ],
   "source": [
    "# 스토리 단어들과 질문 단어들 간의 유사도를 구하는 과정\n",
    "# 유사도는 내적을 사용한다.\n",
    "match = dot([input_encoded_m, question_encoded], axes=-1, normalize=False)\n",
    "match = Activation('softmax')(match)\n",
    "print('Match shape', match)\n",
    "# 결과 : (samples, story_max_len, question_max_len) / 샘플의 수, 문장의 최대 길이, 질문의 최대 길이"
   ]
  },
  {
   "cell_type": "code",
   "execution_count": 82,
   "metadata": {
    "ExecuteTime": {
     "end_time": "2021-05-09T10:50:09.876094Z",
     "start_time": "2021-05-09T10:50:09.867352Z"
    }
   },
   "outputs": [
    {
     "name": "stdout",
     "output_type": "stream",
     "text": [
      "Response shape Tensor(\"permute_1/Identity:0\", shape=(None, 3, 50), dtype=float32)\n"
     ]
    }
   ],
   "source": [
    "# 매칭 유사도 행렬과 질문에 대한 임베딩을 더한다.\n",
    "response = add([match, input_encoded_c])  # (samples, story_maxlen, question_max_len)\n",
    "response = Permute((2, 1))(response)  # (samples, question_max_len, story_maxlen)\n",
    "print('Response shape', response)"
   ]
  },
  {
   "cell_type": "code",
   "execution_count": 83,
   "metadata": {
    "ExecuteTime": {
     "end_time": "2021-05-09T10:50:11.786509Z",
     "start_time": "2021-05-09T10:50:11.601615Z"
    }
   },
   "outputs": [
    {
     "name": "stdout",
     "output_type": "stream",
     "text": [
      "Answer shape Tensor(\"concatenate_1/Identity:0\", shape=(None, 3, 100), dtype=float32)\n"
     ]
    }
   ],
   "source": [
    "# concatenate the response vector with the question vector sequence\n",
    "answer = concatenate([response, question_encoded])\n",
    "print('Answer shape', answer)\n",
    " \n",
    "answer = LSTM(lstm_size)(answer)  # Generate tensors of shape 32\n",
    "answer = Dropout(dropout_rate)(answer)\n",
    "answer = Dense(vocab_size)(answer)  # (samples, vocab_size)\n",
    "# we output a probability distribution over the vocabulary\n",
    "answer = Activation('softmax')(answer)"
   ]
  },
  {
   "cell_type": "code",
   "execution_count": 84,
   "metadata": {
    "ExecuteTime": {
     "end_time": "2021-05-09T10:52:56.667988Z",
     "start_time": "2021-05-09T10:50:58.199171Z"
    }
   },
   "outputs": [
    {
     "name": "stdout",
     "output_type": "stream",
     "text": [
      "Epoch 1/120\n",
      "313/313 [==============================] - 1s 4ms/step - loss: 1.8817 - acc: 0.1744 - val_loss: 1.8062 - val_acc: 0.1570\n",
      "Epoch 2/120\n",
      "313/313 [==============================] - 1s 3ms/step - loss: 1.7853 - acc: 0.1913 - val_loss: 1.7239 - val_acc: 0.2370\n",
      "Epoch 3/120\n",
      "313/313 [==============================] - 1s 3ms/step - loss: 1.6603 - acc: 0.3011 - val_loss: 1.5915 - val_acc: 0.3550\n",
      "Epoch 4/120\n",
      "313/313 [==============================] - 1s 3ms/step - loss: 1.5595 - acc: 0.3598 - val_loss: 1.5105 - val_acc: 0.3730\n",
      "Epoch 5/120\n",
      "313/313 [==============================] - 1s 3ms/step - loss: 1.5159 - acc: 0.3861 - val_loss: 1.4717 - val_acc: 0.3870\n",
      "Epoch 6/120\n",
      "313/313 [==============================] - 1s 3ms/step - loss: 1.4964 - acc: 0.3926 - val_loss: 1.4783 - val_acc: 0.4020\n",
      "Epoch 7/120\n",
      "313/313 [==============================] - 1s 3ms/step - loss: 1.4375 - acc: 0.4289 - val_loss: 1.3922 - val_acc: 0.4390\n",
      "Epoch 8/120\n",
      "313/313 [==============================] - 1s 3ms/step - loss: 1.3948 - acc: 0.4508 - val_loss: 1.3712 - val_acc: 0.4550\n",
      "Epoch 9/120\n",
      "313/313 [==============================] - 1s 3ms/step - loss: 1.3871 - acc: 0.4533 - val_loss: 1.3696 - val_acc: 0.4660\n",
      "Epoch 10/120\n",
      "313/313 [==============================] - 1s 3ms/step - loss: 1.3753 - acc: 0.4604 - val_loss: 1.3487 - val_acc: 0.4610\n",
      "Epoch 11/120\n",
      "313/313 [==============================] - 1s 3ms/step - loss: 1.3697 - acc: 0.4586 - val_loss: 1.3714 - val_acc: 0.4510\n",
      "Epoch 12/120\n",
      "313/313 [==============================] - 1s 3ms/step - loss: 1.3621 - acc: 0.4670 - val_loss: 1.3542 - val_acc: 0.4550\n",
      "Epoch 13/120\n",
      "313/313 [==============================] - 1s 3ms/step - loss: 1.3513 - acc: 0.4721 - val_loss: 1.3397 - val_acc: 0.4730\n",
      "Epoch 14/120\n",
      "313/313 [==============================] - 1s 3ms/step - loss: 1.3413 - acc: 0.4790 - val_loss: 1.3438 - val_acc: 0.4790\n",
      "Epoch 15/120\n",
      "313/313 [==============================] - 1s 3ms/step - loss: 1.3271 - acc: 0.4879 - val_loss: 1.2901 - val_acc: 0.5020\n",
      "Epoch 16/120\n",
      "313/313 [==============================] - 1s 3ms/step - loss: 1.3107 - acc: 0.4960 - val_loss: 1.2917 - val_acc: 0.5270\n",
      "Epoch 17/120\n",
      "313/313 [==============================] - 1s 3ms/step - loss: 1.3054 - acc: 0.4972 - val_loss: 1.2635 - val_acc: 0.5280\n",
      "Epoch 18/120\n",
      "313/313 [==============================] - 1s 3ms/step - loss: 1.2929 - acc: 0.5020 - val_loss: 1.2641 - val_acc: 0.5210\n",
      "Epoch 19/120\n",
      "313/313 [==============================] - 1s 3ms/step - loss: 1.2817 - acc: 0.5099 - val_loss: 1.2593 - val_acc: 0.5220\n",
      "Epoch 20/120\n",
      "313/313 [==============================] - 1s 3ms/step - loss: 1.2741 - acc: 0.5093 - val_loss: 1.2589 - val_acc: 0.5120\n",
      "Epoch 21/120\n",
      "313/313 [==============================] - 1s 3ms/step - loss: 1.2643 - acc: 0.5088 - val_loss: 1.2541 - val_acc: 0.5140\n",
      "Epoch 22/120\n",
      "313/313 [==============================] - 1s 3ms/step - loss: 1.2583 - acc: 0.5123 - val_loss: 1.2485 - val_acc: 0.5250\n",
      "Epoch 23/120\n",
      "313/313 [==============================] - 1s 3ms/step - loss: 1.2449 - acc: 0.5158 - val_loss: 1.2557 - val_acc: 0.5140\n",
      "Epoch 24/120\n",
      "313/313 [==============================] - 1s 3ms/step - loss: 1.2404 - acc: 0.5174 - val_loss: 1.2296 - val_acc: 0.5170\n",
      "Epoch 25/120\n",
      "313/313 [==============================] - 1s 3ms/step - loss: 1.2418 - acc: 0.5196 - val_loss: 1.2432 - val_acc: 0.5110\n",
      "Epoch 26/120\n",
      "313/313 [==============================] - 1s 3ms/step - loss: 1.2321 - acc: 0.5232 - val_loss: 1.2424 - val_acc: 0.5120\n",
      "Epoch 27/120\n",
      "313/313 [==============================] - 1s 3ms/step - loss: 1.2268 - acc: 0.5268 - val_loss: 1.2483 - val_acc: 0.5170\n",
      "Epoch 28/120\n",
      "313/313 [==============================] - 1s 3ms/step - loss: 1.2056 - acc: 0.5341 - val_loss: 1.2026 - val_acc: 0.5190\n",
      "Epoch 29/120\n",
      "313/313 [==============================] - 1s 3ms/step - loss: 1.1853 - acc: 0.5439 - val_loss: 1.2071 - val_acc: 0.5440\n",
      "Epoch 30/120\n",
      "313/313 [==============================] - 1s 3ms/step - loss: 1.1574 - acc: 0.5612 - val_loss: 1.1415 - val_acc: 0.5820\n",
      "Epoch 31/120\n",
      "313/313 [==============================] - 1s 3ms/step - loss: 1.1059 - acc: 0.5874 - val_loss: 1.0427 - val_acc: 0.6220\n",
      "Epoch 32/120\n",
      "313/313 [==============================] - 1s 3ms/step - loss: 1.0316 - acc: 0.6277 - val_loss: 0.9181 - val_acc: 0.6730\n",
      "Epoch 33/120\n",
      "313/313 [==============================] - 1s 3ms/step - loss: 0.9338 - acc: 0.6753 - val_loss: 0.8518 - val_acc: 0.6940\n",
      "Epoch 34/120\n",
      "313/313 [==============================] - 1s 3ms/step - loss: 0.8592 - acc: 0.6931 - val_loss: 0.7500 - val_acc: 0.7350\n",
      "Epoch 35/120\n",
      "313/313 [==============================] - 1s 3ms/step - loss: 0.7982 - acc: 0.7188 - val_loss: 0.7044 - val_acc: 0.7600\n",
      "Epoch 36/120\n",
      "313/313 [==============================] - 1s 3ms/step - loss: 0.7422 - acc: 0.7385 - val_loss: 0.6546 - val_acc: 0.7580\n",
      "Epoch 37/120\n",
      "313/313 [==============================] - 1s 3ms/step - loss: 0.7005 - acc: 0.7410 - val_loss: 0.5981 - val_acc: 0.7930\n",
      "Epoch 38/120\n",
      "313/313 [==============================] - 1s 3ms/step - loss: 0.6320 - acc: 0.7728 - val_loss: 0.5657 - val_acc: 0.7840\n",
      "Epoch 39/120\n",
      "313/313 [==============================] - 1s 3ms/step - loss: 0.6005 - acc: 0.7805 - val_loss: 0.5186 - val_acc: 0.8130\n",
      "Epoch 40/120\n",
      "313/313 [==============================] - 1s 3ms/step - loss: 0.5542 - acc: 0.8015 - val_loss: 0.4736 - val_acc: 0.8330\n",
      "Epoch 41/120\n",
      "313/313 [==============================] - 1s 3ms/step - loss: 0.5199 - acc: 0.8133 - val_loss: 0.4404 - val_acc: 0.8370\n",
      "Epoch 42/120\n",
      "313/313 [==============================] - 1s 3ms/step - loss: 0.5030 - acc: 0.8131 - val_loss: 0.4264 - val_acc: 0.8380\n",
      "Epoch 43/120\n",
      "313/313 [==============================] - 1s 3ms/step - loss: 0.4894 - acc: 0.8169 - val_loss: 0.4424 - val_acc: 0.8210\n",
      "Epoch 44/120\n",
      "313/313 [==============================] - 1s 3ms/step - loss: 0.4687 - acc: 0.8283 - val_loss: 0.4104 - val_acc: 0.8470\n",
      "Epoch 45/120\n",
      "313/313 [==============================] - 1s 3ms/step - loss: 0.4498 - acc: 0.8329 - val_loss: 0.4398 - val_acc: 0.8310\n",
      "Epoch 46/120\n",
      "313/313 [==============================] - 1s 3ms/step - loss: 0.4373 - acc: 0.8387 - val_loss: 0.4118 - val_acc: 0.8440\n",
      "Epoch 47/120\n",
      "313/313 [==============================] - 1s 3ms/step - loss: 0.4234 - acc: 0.8409 - val_loss: 0.3908 - val_acc: 0.8520\n",
      "Epoch 48/120\n",
      "313/313 [==============================] - 1s 3ms/step - loss: 0.4166 - acc: 0.8436 - val_loss: 0.3786 - val_acc: 0.8550\n",
      "Epoch 49/120\n",
      "313/313 [==============================] - 1s 3ms/step - loss: 0.4057 - acc: 0.8464 - val_loss: 0.4004 - val_acc: 0.8490\n",
      "Epoch 50/120\n",
      "313/313 [==============================] - 1s 3ms/step - loss: 0.3880 - acc: 0.8559 - val_loss: 0.3826 - val_acc: 0.8590\n",
      "Epoch 51/120\n",
      "313/313 [==============================] - 1s 3ms/step - loss: 0.3888 - acc: 0.8574 - val_loss: 0.3537 - val_acc: 0.8750\n",
      "Epoch 52/120\n",
      "313/313 [==============================] - 1s 3ms/step - loss: 0.3672 - acc: 0.8637 - val_loss: 0.3380 - val_acc: 0.8730\n",
      "Epoch 53/120\n",
      "313/313 [==============================] - 1s 3ms/step - loss: 0.3633 - acc: 0.8641 - val_loss: 0.3342 - val_acc: 0.8720\n",
      "Epoch 54/120\n",
      "313/313 [==============================] - 1s 3ms/step - loss: 0.3612 - acc: 0.8664 - val_loss: 0.3482 - val_acc: 0.8600\n",
      "Epoch 55/120\n",
      "313/313 [==============================] - 1s 3ms/step - loss: 0.3441 - acc: 0.8703 - val_loss: 0.3307 - val_acc: 0.8760\n",
      "Epoch 56/120\n",
      "313/313 [==============================] - 1s 3ms/step - loss: 0.3344 - acc: 0.8748 - val_loss: 0.3098 - val_acc: 0.8830\n",
      "Epoch 57/120\n",
      "313/313 [==============================] - 1s 3ms/step - loss: 0.3227 - acc: 0.8839 - val_loss: 0.3523 - val_acc: 0.8580\n",
      "Epoch 58/120\n",
      "313/313 [==============================] - 1s 3ms/step - loss: 0.3227 - acc: 0.8795 - val_loss: 0.3059 - val_acc: 0.8920\n",
      "Epoch 59/120\n",
      "313/313 [==============================] - 1s 3ms/step - loss: 0.3127 - acc: 0.8841 - val_loss: 0.2769 - val_acc: 0.8990\n",
      "Epoch 60/120\n",
      "313/313 [==============================] - 1s 3ms/step - loss: 0.2957 - acc: 0.8933 - val_loss: 0.2706 - val_acc: 0.9030\n",
      "Epoch 61/120\n",
      "313/313 [==============================] - 1s 3ms/step - loss: 0.2865 - acc: 0.8974 - val_loss: 0.2705 - val_acc: 0.9010\n",
      "Epoch 62/120\n"
     ]
    },
    {
     "name": "stdout",
     "output_type": "stream",
     "text": [
      "313/313 [==============================] - 1s 3ms/step - loss: 0.2734 - acc: 0.8986 - val_loss: 0.2808 - val_acc: 0.9010\n",
      "Epoch 63/120\n",
      "313/313 [==============================] - 1s 3ms/step - loss: 0.2637 - acc: 0.9048 - val_loss: 0.2515 - val_acc: 0.9080\n",
      "Epoch 64/120\n",
      "313/313 [==============================] - 1s 3ms/step - loss: 0.2574 - acc: 0.9074 - val_loss: 0.2413 - val_acc: 0.9130\n",
      "Epoch 65/120\n",
      "313/313 [==============================] - 1s 3ms/step - loss: 0.2580 - acc: 0.9096 - val_loss: 0.2474 - val_acc: 0.9120\n",
      "Epoch 66/120\n",
      "313/313 [==============================] - 1s 3ms/step - loss: 0.2580 - acc: 0.9062 - val_loss: 0.2293 - val_acc: 0.9150\n",
      "Epoch 67/120\n",
      "313/313 [==============================] - 1s 3ms/step - loss: 0.2458 - acc: 0.9143 - val_loss: 0.2357 - val_acc: 0.9220\n",
      "Epoch 68/120\n",
      "313/313 [==============================] - 1s 3ms/step - loss: 0.2346 - acc: 0.9153 - val_loss: 0.2477 - val_acc: 0.9090\n",
      "Epoch 69/120\n",
      "313/313 [==============================] - 1s 3ms/step - loss: 0.2328 - acc: 0.9161 - val_loss: 0.2324 - val_acc: 0.9140\n",
      "Epoch 70/120\n",
      "313/313 [==============================] - 1s 3ms/step - loss: 0.2161 - acc: 0.9206 - val_loss: 0.2278 - val_acc: 0.9130\n",
      "Epoch 71/120\n",
      "313/313 [==============================] - 1s 3ms/step - loss: 0.2171 - acc: 0.9178 - val_loss: 0.2292 - val_acc: 0.9230\n",
      "Epoch 72/120\n",
      "313/313 [==============================] - 1s 3ms/step - loss: 0.2171 - acc: 0.9200 - val_loss: 0.2029 - val_acc: 0.9250\n",
      "Epoch 73/120\n",
      "313/313 [==============================] - 1s 3ms/step - loss: 0.2128 - acc: 0.9231 - val_loss: 0.2273 - val_acc: 0.9090\n",
      "Epoch 74/120\n",
      "313/313 [==============================] - 1s 3ms/step - loss: 0.2035 - acc: 0.9262 - val_loss: 0.2160 - val_acc: 0.9180\n",
      "Epoch 75/120\n",
      "313/313 [==============================] - 1s 3ms/step - loss: 0.2012 - acc: 0.9294 - val_loss: 0.2065 - val_acc: 0.9250\n",
      "Epoch 76/120\n",
      "313/313 [==============================] - 1s 3ms/step - loss: 0.1930 - acc: 0.9319 - val_loss: 0.2168 - val_acc: 0.9220\n",
      "Epoch 77/120\n",
      "313/313 [==============================] - 1s 3ms/step - loss: 0.1981 - acc: 0.9311 - val_loss: 0.2200 - val_acc: 0.9130\n",
      "Epoch 78/120\n",
      "313/313 [==============================] - 1s 3ms/step - loss: 0.1860 - acc: 0.9337 - val_loss: 0.3310 - val_acc: 0.8930\n",
      "Epoch 79/120\n",
      "313/313 [==============================] - 1s 3ms/step - loss: 0.1947 - acc: 0.9308 - val_loss: 0.2005 - val_acc: 0.9300\n",
      "Epoch 80/120\n",
      "313/313 [==============================] - 1s 3ms/step - loss: 0.1818 - acc: 0.9336 - val_loss: 0.2103 - val_acc: 0.9310\n",
      "Epoch 81/120\n",
      "313/313 [==============================] - 1s 3ms/step - loss: 0.1804 - acc: 0.9365 - val_loss: 0.2138 - val_acc: 0.9200\n",
      "Epoch 82/120\n",
      "313/313 [==============================] - 1s 3ms/step - loss: 0.1843 - acc: 0.9348 - val_loss: 0.2288 - val_acc: 0.9240\n",
      "Epoch 83/120\n",
      "313/313 [==============================] - 1s 3ms/step - loss: 0.1758 - acc: 0.9398 - val_loss: 0.2186 - val_acc: 0.9290\n",
      "Epoch 84/120\n",
      "313/313 [==============================] - 1s 4ms/step - loss: 0.1678 - acc: 0.9411 - val_loss: 0.1870 - val_acc: 0.9330\n",
      "Epoch 85/120\n",
      "313/313 [==============================] - 1s 3ms/step - loss: 0.1627 - acc: 0.9438 - val_loss: 0.1991 - val_acc: 0.9310\n",
      "Epoch 86/120\n",
      "313/313 [==============================] - 1s 3ms/step - loss: 0.1669 - acc: 0.9395 - val_loss: 0.1969 - val_acc: 0.9310\n",
      "Epoch 87/120\n",
      "313/313 [==============================] - 1s 3ms/step - loss: 0.1599 - acc: 0.9434 - val_loss: 0.1950 - val_acc: 0.9350\n",
      "Epoch 88/120\n",
      "313/313 [==============================] - 1s 3ms/step - loss: 0.1598 - acc: 0.9427 - val_loss: 0.2145 - val_acc: 0.9330\n",
      "Epoch 89/120\n",
      "313/313 [==============================] - 1s 3ms/step - loss: 0.1526 - acc: 0.9462 - val_loss: 0.1989 - val_acc: 0.9290\n",
      "Epoch 90/120\n",
      "313/313 [==============================] - 1s 3ms/step - loss: 0.1487 - acc: 0.9501 - val_loss: 0.1898 - val_acc: 0.9380\n",
      "Epoch 91/120\n",
      "313/313 [==============================] - 1s 3ms/step - loss: 0.1552 - acc: 0.9460 - val_loss: 0.1918 - val_acc: 0.9320\n",
      "Epoch 92/120\n",
      "313/313 [==============================] - 1s 3ms/step - loss: 0.1529 - acc: 0.9488 - val_loss: 0.2439 - val_acc: 0.9130\n",
      "Epoch 93/120\n",
      "313/313 [==============================] - 1s 3ms/step - loss: 0.1541 - acc: 0.9455 - val_loss: 0.2007 - val_acc: 0.9320\n",
      "Epoch 94/120\n",
      "313/313 [==============================] - 1s 3ms/step - loss: 0.1466 - acc: 0.9492 - val_loss: 0.1856 - val_acc: 0.9320\n",
      "Epoch 95/120\n",
      "313/313 [==============================] - 1s 3ms/step - loss: 0.1357 - acc: 0.9519 - val_loss: 0.1849 - val_acc: 0.9370\n",
      "Epoch 96/120\n",
      "313/313 [==============================] - 1s 3ms/step - loss: 0.1411 - acc: 0.9524 - val_loss: 0.1911 - val_acc: 0.9350\n",
      "Epoch 97/120\n",
      "313/313 [==============================] - 1s 3ms/step - loss: 0.1271 - acc: 0.9548 - val_loss: 0.1781 - val_acc: 0.9410\n",
      "Epoch 98/120\n",
      "313/313 [==============================] - 1s 3ms/step - loss: 0.1318 - acc: 0.9556 - val_loss: 0.2075 - val_acc: 0.9330\n",
      "Epoch 99/120\n",
      "313/313 [==============================] - 1s 3ms/step - loss: 0.1292 - acc: 0.9536 - val_loss: 0.2180 - val_acc: 0.9310\n",
      "Epoch 100/120\n",
      "313/313 [==============================] - 1s 3ms/step - loss: 0.1307 - acc: 0.9535 - val_loss: 0.2557 - val_acc: 0.9300\n",
      "Epoch 101/120\n",
      "313/313 [==============================] - 1s 3ms/step - loss: 0.1324 - acc: 0.9584 - val_loss: 0.1910 - val_acc: 0.9380\n",
      "Epoch 102/120\n",
      "313/313 [==============================] - 1s 3ms/step - loss: 0.1338 - acc: 0.9545 - val_loss: 0.1919 - val_acc: 0.9380\n",
      "Epoch 103/120\n",
      "313/313 [==============================] - 1s 3ms/step - loss: 0.1207 - acc: 0.9561 - val_loss: 0.1674 - val_acc: 0.9480\n",
      "Epoch 104/120\n",
      "313/313 [==============================] - 1s 3ms/step - loss: 0.1198 - acc: 0.9587 - val_loss: 0.1840 - val_acc: 0.9330\n",
      "Epoch 105/120\n",
      "313/313 [==============================] - 1s 3ms/step - loss: 0.1229 - acc: 0.9576 - val_loss: 0.1824 - val_acc: 0.9410\n",
      "Epoch 106/120\n",
      "313/313 [==============================] - 1s 3ms/step - loss: 0.1202 - acc: 0.9571 - val_loss: 0.1907 - val_acc: 0.9310\n",
      "Epoch 107/120\n",
      "313/313 [==============================] - 1s 3ms/step - loss: 0.1187 - acc: 0.9598 - val_loss: 0.1721 - val_acc: 0.9420\n",
      "Epoch 108/120\n",
      "313/313 [==============================] - 1s 3ms/step - loss: 0.1110 - acc: 0.9607 - val_loss: 0.1935 - val_acc: 0.9370\n",
      "Epoch 109/120\n",
      "313/313 [==============================] - 1s 3ms/step - loss: 0.1194 - acc: 0.9593 - val_loss: 0.1816 - val_acc: 0.9350\n",
      "Epoch 110/120\n",
      "313/313 [==============================] - 1s 3ms/step - loss: 0.1168 - acc: 0.9592 - val_loss: 0.1823 - val_acc: 0.9410\n",
      "Epoch 111/120\n",
      "313/313 [==============================] - 1s 3ms/step - loss: 0.1107 - acc: 0.9615 - val_loss: 0.1700 - val_acc: 0.9400\n",
      "Epoch 112/120\n",
      "313/313 [==============================] - 1s 3ms/step - loss: 0.1030 - acc: 0.9656 - val_loss: 0.1890 - val_acc: 0.9370\n",
      "Epoch 113/120\n",
      "313/313 [==============================] - 1s 3ms/step - loss: 0.1071 - acc: 0.9646 - val_loss: 0.2051 - val_acc: 0.9270\n",
      "Epoch 114/120\n",
      "313/313 [==============================] - 1s 3ms/step - loss: 0.1106 - acc: 0.9626 - val_loss: 0.2349 - val_acc: 0.9260\n",
      "Epoch 115/120\n",
      "313/313 [==============================] - 1s 3ms/step - loss: 0.1029 - acc: 0.9626 - val_loss: 0.1896 - val_acc: 0.9380\n",
      "Epoch 116/120\n",
      "313/313 [==============================] - 1s 3ms/step - loss: 0.1045 - acc: 0.9630 - val_loss: 0.1624 - val_acc: 0.9430\n",
      "Epoch 117/120\n",
      "313/313 [==============================] - 1s 3ms/step - loss: 0.0983 - acc: 0.9662 - val_loss: 0.1782 - val_acc: 0.9480\n",
      "Epoch 118/120\n",
      "313/313 [==============================] - 1s 3ms/step - loss: 0.1080 - acc: 0.9660 - val_loss: 0.1699 - val_acc: 0.9420\n",
      "Epoch 119/120\n",
      "313/313 [==============================] - 1s 3ms/step - loss: 0.1006 - acc: 0.9669 - val_loss: 0.1539 - val_acc: 0.9460\n",
      "Epoch 120/120\n",
      "313/313 [==============================] - 1s 3ms/step - loss: 0.0973 - acc: 0.9669 - val_loss: 0.1919 - val_acc: 0.9400\n"
     ]
    }
   ],
   "source": [
    "# 모델 컴파일\n",
    "model = Model([input_sequence, question], answer)\n",
    "model.compile(optimizer='rmsprop', loss='categorical_crossentropy',\n",
    "              metrics=['acc'])\n",
    " \n",
    "# 테스트 데이터를 검증 데이터로 사용하면서 모델 훈련 시작\n",
    "history = model.fit([Xstrain, Xqtrain],\n",
    "         Ytrain, batch_size, train_epochs,\n",
    "         validation_data=([Xstest, Xqtest], Ytest))"
   ]
  },
  {
   "cell_type": "code",
   "execution_count": 85,
   "metadata": {
    "ExecuteTime": {
     "end_time": "2021-05-09T10:53:24.757815Z",
     "start_time": "2021-05-09T10:53:24.720754Z"
    }
   },
   "outputs": [],
   "source": [
    "# 훈련 후 모델 저장\n",
    "model_path = os.getenv('HOME')+'/aiffel/gd_14_babi_memory_net/model_2.h5'\n",
    "model.save(model_path)"
   ]
  },
  {
   "cell_type": "code",
   "execution_count": 86,
   "metadata": {
    "ExecuteTime": {
     "end_time": "2021-05-09T10:53:28.406141Z",
     "start_time": "2021-05-09T10:53:28.317984Z"
    }
   },
   "outputs": [
    {
     "name": "stdout",
     "output_type": "stream",
     "text": [
      "32/32 [==============================] - 0s 2ms/step - loss: 0.1919 - acc: 0.9400\n",
      "\n",
      " 테스트 정확도: 0.9400\n"
     ]
    }
   ],
   "source": [
    "print(\"\\n 테스트 정확도: %.4f\" % (model.evaluate([Xstest, Xqtest], Ytest)[1]))"
   ]
  },
  {
   "cell_type": "code",
   "execution_count": 87,
   "metadata": {
    "ExecuteTime": {
     "end_time": "2021-05-09T10:53:30.954012Z",
     "start_time": "2021-05-09T10:53:30.472392Z"
    }
   },
   "outputs": [
    {
     "data": {
      "image/png": "[encoded data removed]",
      "text/plain": [
       "<Figure size 432x288 with 2 Axes>"
      ]
     },
     "metadata": {
      "needs_background": "light"
     },
     "output_type": "display_data"
    }
   ],
   "source": [
    "# plot accuracy and loss plot\n",
    "plt.subplot(211)\n",
    "plt.title(\"Accuracy\")\n",
    "plt.plot(history.history[\"acc\"], color=\"g\", label=\"train\")\n",
    "plt.plot(history.history[\"val_acc\"], color=\"b\", label=\"validation\")\n",
    "plt.legend(loc=\"best\")\n",
    "\n",
    "plt.subplot(212)\n",
    "plt.title(\"Loss\")\n",
    "plt.plot(history.history[\"loss\"], color=\"g\", label=\"train\")\n",
    "plt.plot(history.history[\"val_loss\"], color=\"b\", label=\"validation\")\n",
    "plt.legend(loc=\"best\")\n",
    "\n",
    "plt.tight_layout()\n",
    "plt.show()\n",
    "\n",
    "# labels\n",
    "ytest = np.argmax(Ytest, axis=1)\n",
    "\n",
    "# get predictions\n",
    "Ytest_ = model.predict([Xstest, Xqtest])\n",
    "ytest_ = np.argmax(Ytest_, axis=1)"
   ]
  },
  {
   "cell_type": "code",
   "execution_count": 88,
   "metadata": {
    "ExecuteTime": {
     "end_time": "2021-05-09T10:53:32.177009Z",
     "start_time": "2021-05-09T10:53:32.168898Z"
    }
   },
   "outputs": [
    {
     "name": "stdout",
     "output_type": "stream",
     "text": [
      "질문                |실제값  |예측값\n",
      "---------------------------------------\n",
      "은경이 어디 ?            : 복도      복도\n",
      "필웅이 어디 ?            : 화장실     화장실\n",
      "경임이 어디 ?            : 부엌      부엌\n",
      "경임이 어디 ?            : 복도      복도\n",
      "경임이 어디 ?            : 부엌      부엌\n",
      "경임이 어디 ?            : 복도      복도\n",
      "경임이 어디 ?            : 정원      정원\n",
      "수종이 어디 ?            : 복도      복도\n",
      "경임이 어디 ?            : 사무실     정원\n",
      "수종이 어디 ?            : 사무실     사무실\n",
      "필웅이 어디 ?            : 부엌      부엌\n",
      "필웅이 어디 ?            : 정원      정원\n",
      "수종이 어디 ?            : 사무실     사무실\n",
      "필웅이 어디 ?            : 침실      침실\n",
      "필웅이 어디 ?            : 침실      침실\n",
      "은경이 어디 ?            : 부엌      부엌\n",
      "은경이 어디 ?            : 정원      정원\n",
      "은경이 어디 ?            : 부엌      부엌\n",
      "수종이 어디 ?            : 사무실     사무실\n",
      "은경이 어디 ?            : 부엌      부엌\n",
      "필웅이 어디 ?            : 복도      복도\n",
      "은경이 어디 ?            : 사무실     사무실\n",
      "은경이 어디 ?            : 사무실     사무실\n",
      "경임이 어디 ?            : 복도      복도\n",
      "수종이 어디 ?            : 침실      침실\n",
      "경임이 어디 ?            : 침실      침실\n",
      "필웅이 어디 ?            : 침실      침실\n",
      "수종이 어디 ?            : 부엌      부엌\n",
      "수종이 어디 ?            : 부엌      부엌\n",
      "수종이 어디 ?            : 부엌      복도\n"
     ]
    }
   ],
   "source": [
    "NUM_DISPLAY = 30\n",
    "\n",
    "print(\"{:18}|{:5}|{}\".format(\"질문\", \"실제값\", \"예측값\"))\n",
    "print(39 * \"-\")\n",
    "\n",
    "for i in range(NUM_DISPLAY):\n",
    "    question = \" \".join([idx2word[x] for x in Xqtest[i].tolist()])\n",
    "    label = idx2word[ytest[i]]\n",
    "    prediction = idx2word[ytest_[i]]\n",
    "    print(\"{:20}: {:7} {}\".format(question, label, prediction))"
   ]
  },
  {
   "cell_type": "markdown",
   "metadata": {},
   "source": [
    "<br><br><br>"
   ]
  },
  {
   "cell_type": "markdown",
   "metadata": {},
   "source": [
    "# 회고\n",
    "- 불용어를 제거한 것과 아닌 것의 차이는 크게 없어보인다. 사전의 크기도 작은 것도 한 몫을 한 것인가 싶다."
   ]
  }
 ],
 "metadata": {
  "kernelspec": {
   "display_name": "Python 3",
   "language": "python",
   "name": "python3"
  },
  "language_info": {
   "codemirror_mode": {
    "name": "ipython",
    "version": 3
   },
   "file_extension": ".py",
   "mimetype": "text/x-python",
   "name": "python",
   "nbconvert_exporter": "python",
   "pygments_lexer": "ipython3",
   "version": "3.7.9"
  }
 },
 "nbformat": 4,
 "nbformat_minor": 4
}
